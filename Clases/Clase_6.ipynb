{
  "nbformat": 4,
  "nbformat_minor": 0,
  "metadata": {
    "colab": {
      "provenance": [],
      "authorship_tag": "ABX9TyN68jKCCvtTRv5eRZId5asA",
      "include_colab_link": true
    },
    "kernelspec": {
      "name": "python3",
      "display_name": "Python 3"
    },
    "language_info": {
      "name": "python"
    }
  },
  "cells": [
    {
      "cell_type": "markdown",
      "metadata": {
        "id": "view-in-github",
        "colab_type": "text"
      },
      "source": [
        "<a href=\"https://colab.research.google.com/github/NayibGS07/Diplomado_Ciencia_de_Datos/blob/main/Clases/Clase_6.ipynb\" target=\"_parent\"><img src=\"https://colab.research.google.com/assets/colab-badge.svg\" alt=\"Open In Colab\"/></a>"
      ]
    },
    {
      "cell_type": "markdown",
      "source": [
        "# DIPLOMADO CIENCIA MATEMÁTICA DE DATOS\n",
        "\n",
        "## MODULO: Dimensionality Reduction\n",
        "\n",
        "### 06/06/2023"
      ],
      "metadata": {
        "id": "L4JVzFUREORc"
      }
    },
    {
      "cell_type": "markdown",
      "source": [
        "## Libraries & Functions"
      ],
      "metadata": {
        "id": "J64I-64NEjYC"
      }
    },
    {
      "cell_type": "code",
      "source": [
        "import pandas as pd\n",
        "import numpy as np\n",
        "import plotly.express as px\n",
        "from sklearn.datasets import load_breast_cancer\n",
        "from sklearn.model_selection import train_test_split, GridSearchCV\n",
        "from sklearn.preprocessing import StandardScaler\n",
        "from sklearn.linear_model import LogisticRegression\n",
        "from sklearn.neighbors import KNeighborsClassifier\n",
        "from sklearn.svm import SVC\n",
        "from sklearn.naive_bayes import GaussianNB\n",
        "from sklearn.tree import DecisionTreeClassifier\n",
        "from sklearn.ensemble import RandomForestClassifier\n",
        "from sklearn.metrics import accuracy_score, precision_score, recall_score, f1_score, classification_report, confusion_matrix\n",
        "from sklearn.decomposition import PCA"
      ],
      "metadata": {
        "id": "5jMnS3K7EKBv"
      },
      "execution_count": null,
      "outputs": []
    },
    {
      "cell_type": "code",
      "source": [
        "def plot_confusion_matrix(cm, labels):\n",
        "    fig_cm = px.imshow(cm, labels=dict(x=\"Predicted\", y=\"Actual\", color=\"Count\"),\n",
        "                       x=labels, y=labels, color_continuous_scale='Viridis', text_auto = True,\n",
        "                       title=\"Confusion Matrix\")\n",
        "    fig_cm.update_layout(coloraxis_showscale=False)\n",
        "    fig_cm.show()"
      ],
      "metadata": {
        "id": "69LBEDuTFHaG"
      },
      "execution_count": null,
      "outputs": []
    },
    {
      "cell_type": "markdown",
      "source": [
        "## Data Loading"
      ],
      "metadata": {
        "id": "UOT01B6zEmmQ"
      }
    },
    {
      "cell_type": "code",
      "source": [
        "breast_cancer = load_breast_cancer()\n",
        "df = pd.DataFrame(data=breast_cancer.data, columns=breast_cancer.feature_names)\n",
        "df['target'] = breast_cancer.target\n",
        "df.head()"
      ],
      "metadata": {
        "colab": {
          "base_uri": "https://localhost:8080/",
          "height": 334
        },
        "id": "_i7kmfnJEdJB",
        "outputId": "d4ff1661-58ef-4c33-f30a-8f7c12134c39"
      },
      "execution_count": null,
      "outputs": [
        {
          "output_type": "execute_result",
          "data": {
            "text/plain": [
              "   mean radius  mean texture  mean perimeter  mean area  mean smoothness  \\\n",
              "0        17.99         10.38          122.80     1001.0          0.11840   \n",
              "1        20.57         17.77          132.90     1326.0          0.08474   \n",
              "2        19.69         21.25          130.00     1203.0          0.10960   \n",
              "3        11.42         20.38           77.58      386.1          0.14250   \n",
              "4        20.29         14.34          135.10     1297.0          0.10030   \n",
              "\n",
              "   mean compactness  mean concavity  mean concave points  mean symmetry  \\\n",
              "0           0.27760          0.3001              0.14710         0.2419   \n",
              "1           0.07864          0.0869              0.07017         0.1812   \n",
              "2           0.15990          0.1974              0.12790         0.2069   \n",
              "3           0.28390          0.2414              0.10520         0.2597   \n",
              "4           0.13280          0.1980              0.10430         0.1809   \n",
              "\n",
              "   mean fractal dimension  ...  worst texture  worst perimeter  worst area  \\\n",
              "0                 0.07871  ...          17.33           184.60      2019.0   \n",
              "1                 0.05667  ...          23.41           158.80      1956.0   \n",
              "2                 0.05999  ...          25.53           152.50      1709.0   \n",
              "3                 0.09744  ...          26.50            98.87       567.7   \n",
              "4                 0.05883  ...          16.67           152.20      1575.0   \n",
              "\n",
              "   worst smoothness  worst compactness  worst concavity  worst concave points  \\\n",
              "0            0.1622             0.6656           0.7119                0.2654   \n",
              "1            0.1238             0.1866           0.2416                0.1860   \n",
              "2            0.1444             0.4245           0.4504                0.2430   \n",
              "3            0.2098             0.8663           0.6869                0.2575   \n",
              "4            0.1374             0.2050           0.4000                0.1625   \n",
              "\n",
              "   worst symmetry  worst fractal dimension  target  \n",
              "0          0.4601                  0.11890       0  \n",
              "1          0.2750                  0.08902       0  \n",
              "2          0.3613                  0.08758       0  \n",
              "3          0.6638                  0.17300       0  \n",
              "4          0.2364                  0.07678       0  \n",
              "\n",
              "[5 rows x 31 columns]"
            ],
            "text/html": [
              "\n",
              "  <div id=\"df-77164c27-a2eb-4363-bcaa-9008132ad30f\">\n",
              "    <div class=\"colab-df-container\">\n",
              "      <div>\n",
              "<style scoped>\n",
              "    .dataframe tbody tr th:only-of-type {\n",
              "        vertical-align: middle;\n",
              "    }\n",
              "\n",
              "    .dataframe tbody tr th {\n",
              "        vertical-align: top;\n",
              "    }\n",
              "\n",
              "    .dataframe thead th {\n",
              "        text-align: right;\n",
              "    }\n",
              "</style>\n",
              "<table border=\"1\" class=\"dataframe\">\n",
              "  <thead>\n",
              "    <tr style=\"text-align: right;\">\n",
              "      <th></th>\n",
              "      <th>mean radius</th>\n",
              "      <th>mean texture</th>\n",
              "      <th>mean perimeter</th>\n",
              "      <th>mean area</th>\n",
              "      <th>mean smoothness</th>\n",
              "      <th>mean compactness</th>\n",
              "      <th>mean concavity</th>\n",
              "      <th>mean concave points</th>\n",
              "      <th>mean symmetry</th>\n",
              "      <th>mean fractal dimension</th>\n",
              "      <th>...</th>\n",
              "      <th>worst texture</th>\n",
              "      <th>worst perimeter</th>\n",
              "      <th>worst area</th>\n",
              "      <th>worst smoothness</th>\n",
              "      <th>worst compactness</th>\n",
              "      <th>worst concavity</th>\n",
              "      <th>worst concave points</th>\n",
              "      <th>worst symmetry</th>\n",
              "      <th>worst fractal dimension</th>\n",
              "      <th>target</th>\n",
              "    </tr>\n",
              "  </thead>\n",
              "  <tbody>\n",
              "    <tr>\n",
              "      <th>0</th>\n",
              "      <td>17.99</td>\n",
              "      <td>10.38</td>\n",
              "      <td>122.80</td>\n",
              "      <td>1001.0</td>\n",
              "      <td>0.11840</td>\n",
              "      <td>0.27760</td>\n",
              "      <td>0.3001</td>\n",
              "      <td>0.14710</td>\n",
              "      <td>0.2419</td>\n",
              "      <td>0.07871</td>\n",
              "      <td>...</td>\n",
              "      <td>17.33</td>\n",
              "      <td>184.60</td>\n",
              "      <td>2019.0</td>\n",
              "      <td>0.1622</td>\n",
              "      <td>0.6656</td>\n",
              "      <td>0.7119</td>\n",
              "      <td>0.2654</td>\n",
              "      <td>0.4601</td>\n",
              "      <td>0.11890</td>\n",
              "      <td>0</td>\n",
              "    </tr>\n",
              "    <tr>\n",
              "      <th>1</th>\n",
              "      <td>20.57</td>\n",
              "      <td>17.77</td>\n",
              "      <td>132.90</td>\n",
              "      <td>1326.0</td>\n",
              "      <td>0.08474</td>\n",
              "      <td>0.07864</td>\n",
              "      <td>0.0869</td>\n",
              "      <td>0.07017</td>\n",
              "      <td>0.1812</td>\n",
              "      <td>0.05667</td>\n",
              "      <td>...</td>\n",
              "      <td>23.41</td>\n",
              "      <td>158.80</td>\n",
              "      <td>1956.0</td>\n",
              "      <td>0.1238</td>\n",
              "      <td>0.1866</td>\n",
              "      <td>0.2416</td>\n",
              "      <td>0.1860</td>\n",
              "      <td>0.2750</td>\n",
              "      <td>0.08902</td>\n",
              "      <td>0</td>\n",
              "    </tr>\n",
              "    <tr>\n",
              "      <th>2</th>\n",
              "      <td>19.69</td>\n",
              "      <td>21.25</td>\n",
              "      <td>130.00</td>\n",
              "      <td>1203.0</td>\n",
              "      <td>0.10960</td>\n",
              "      <td>0.15990</td>\n",
              "      <td>0.1974</td>\n",
              "      <td>0.12790</td>\n",
              "      <td>0.2069</td>\n",
              "      <td>0.05999</td>\n",
              "      <td>...</td>\n",
              "      <td>25.53</td>\n",
              "      <td>152.50</td>\n",
              "      <td>1709.0</td>\n",
              "      <td>0.1444</td>\n",
              "      <td>0.4245</td>\n",
              "      <td>0.4504</td>\n",
              "      <td>0.2430</td>\n",
              "      <td>0.3613</td>\n",
              "      <td>0.08758</td>\n",
              "      <td>0</td>\n",
              "    </tr>\n",
              "    <tr>\n",
              "      <th>3</th>\n",
              "      <td>11.42</td>\n",
              "      <td>20.38</td>\n",
              "      <td>77.58</td>\n",
              "      <td>386.1</td>\n",
              "      <td>0.14250</td>\n",
              "      <td>0.28390</td>\n",
              "      <td>0.2414</td>\n",
              "      <td>0.10520</td>\n",
              "      <td>0.2597</td>\n",
              "      <td>0.09744</td>\n",
              "      <td>...</td>\n",
              "      <td>26.50</td>\n",
              "      <td>98.87</td>\n",
              "      <td>567.7</td>\n",
              "      <td>0.2098</td>\n",
              "      <td>0.8663</td>\n",
              "      <td>0.6869</td>\n",
              "      <td>0.2575</td>\n",
              "      <td>0.6638</td>\n",
              "      <td>0.17300</td>\n",
              "      <td>0</td>\n",
              "    </tr>\n",
              "    <tr>\n",
              "      <th>4</th>\n",
              "      <td>20.29</td>\n",
              "      <td>14.34</td>\n",
              "      <td>135.10</td>\n",
              "      <td>1297.0</td>\n",
              "      <td>0.10030</td>\n",
              "      <td>0.13280</td>\n",
              "      <td>0.1980</td>\n",
              "      <td>0.10430</td>\n",
              "      <td>0.1809</td>\n",
              "      <td>0.05883</td>\n",
              "      <td>...</td>\n",
              "      <td>16.67</td>\n",
              "      <td>152.20</td>\n",
              "      <td>1575.0</td>\n",
              "      <td>0.1374</td>\n",
              "      <td>0.2050</td>\n",
              "      <td>0.4000</td>\n",
              "      <td>0.1625</td>\n",
              "      <td>0.2364</td>\n",
              "      <td>0.07678</td>\n",
              "      <td>0</td>\n",
              "    </tr>\n",
              "  </tbody>\n",
              "</table>\n",
              "<p>5 rows × 31 columns</p>\n",
              "</div>\n",
              "      <button class=\"colab-df-convert\" onclick=\"convertToInteractive('df-77164c27-a2eb-4363-bcaa-9008132ad30f')\"\n",
              "              title=\"Convert this dataframe to an interactive table.\"\n",
              "              style=\"display:none;\">\n",
              "        \n",
              "  <svg xmlns=\"http://www.w3.org/2000/svg\" height=\"24px\"viewBox=\"0 0 24 24\"\n",
              "       width=\"24px\">\n",
              "    <path d=\"M0 0h24v24H0V0z\" fill=\"none\"/>\n",
              "    <path d=\"M18.56 5.44l.94 2.06.94-2.06 2.06-.94-2.06-.94-.94-2.06-.94 2.06-2.06.94zm-11 1L8.5 8.5l.94-2.06 2.06-.94-2.06-.94L8.5 2.5l-.94 2.06-2.06.94zm10 10l.94 2.06.94-2.06 2.06-.94-2.06-.94-.94-2.06-.94 2.06-2.06.94z\"/><path d=\"M17.41 7.96l-1.37-1.37c-.4-.4-.92-.59-1.43-.59-.52 0-1.04.2-1.43.59L10.3 9.45l-7.72 7.72c-.78.78-.78 2.05 0 2.83L4 21.41c.39.39.9.59 1.41.59.51 0 1.02-.2 1.41-.59l7.78-7.78 2.81-2.81c.8-.78.8-2.07 0-2.86zM5.41 20L4 18.59l7.72-7.72 1.47 1.35L5.41 20z\"/>\n",
              "  </svg>\n",
              "      </button>\n",
              "      \n",
              "  <style>\n",
              "    .colab-df-container {\n",
              "      display:flex;\n",
              "      flex-wrap:wrap;\n",
              "      gap: 12px;\n",
              "    }\n",
              "\n",
              "    .colab-df-convert {\n",
              "      background-color: #E8F0FE;\n",
              "      border: none;\n",
              "      border-radius: 50%;\n",
              "      cursor: pointer;\n",
              "      display: none;\n",
              "      fill: #1967D2;\n",
              "      height: 32px;\n",
              "      padding: 0 0 0 0;\n",
              "      width: 32px;\n",
              "    }\n",
              "\n",
              "    .colab-df-convert:hover {\n",
              "      background-color: #E2EBFA;\n",
              "      box-shadow: 0px 1px 2px rgba(60, 64, 67, 0.3), 0px 1px 3px 1px rgba(60, 64, 67, 0.15);\n",
              "      fill: #174EA6;\n",
              "    }\n",
              "\n",
              "    [theme=dark] .colab-df-convert {\n",
              "      background-color: #3B4455;\n",
              "      fill: #D2E3FC;\n",
              "    }\n",
              "\n",
              "    [theme=dark] .colab-df-convert:hover {\n",
              "      background-color: #434B5C;\n",
              "      box-shadow: 0px 1px 3px 1px rgba(0, 0, 0, 0.15);\n",
              "      filter: drop-shadow(0px 1px 2px rgba(0, 0, 0, 0.3));\n",
              "      fill: #FFFFFF;\n",
              "    }\n",
              "  </style>\n",
              "\n",
              "      <script>\n",
              "        const buttonEl =\n",
              "          document.querySelector('#df-77164c27-a2eb-4363-bcaa-9008132ad30f button.colab-df-convert');\n",
              "        buttonEl.style.display =\n",
              "          google.colab.kernel.accessAllowed ? 'block' : 'none';\n",
              "\n",
              "        async function convertToInteractive(key) {\n",
              "          const element = document.querySelector('#df-77164c27-a2eb-4363-bcaa-9008132ad30f');\n",
              "          const dataTable =\n",
              "            await google.colab.kernel.invokeFunction('convertToInteractive',\n",
              "                                                     [key], {});\n",
              "          if (!dataTable) return;\n",
              "\n",
              "          const docLinkHtml = 'Like what you see? Visit the ' +\n",
              "            '<a target=\"_blank\" href=https://colab.research.google.com/notebooks/data_table.ipynb>data table notebook</a>'\n",
              "            + ' to learn more about interactive tables.';\n",
              "          element.innerHTML = '';\n",
              "          dataTable['output_type'] = 'display_data';\n",
              "          await google.colab.output.renderOutput(dataTable, element);\n",
              "          const docLink = document.createElement('div');\n",
              "          docLink.innerHTML = docLinkHtml;\n",
              "          element.appendChild(docLink);\n",
              "        }\n",
              "      </script>\n",
              "    </div>\n",
              "  </div>\n",
              "  "
            ]
          },
          "metadata": {},
          "execution_count": 21
        }
      ]
    },
    {
      "cell_type": "markdown",
      "source": [
        "## Principal Component Analysis (PCA)"
      ],
      "metadata": {
        "id": "Pw9hREM1YYP8"
      }
    },
    {
      "cell_type": "markdown",
      "source": [
        "PCA is a dimensionality reduction technique used to transform a dataset from a high-dimensional space into a lower-dimensional space while retaining most of the original information. It accomplishes this by identifying the principal components, which are new orthogonal variables that capture the maximum variance in the data.\n",
        "\n",
        "**Steps of PCA:**\n",
        "\n",
        "1. **Standardization:** Before applying PCA, it is important to standardize the features to have zero mean and unit variance. This ensures that all features contribute equally to the analysis. The standardized value for a feature x is calculated as follows:\n",
        "\n",
        "   ![Standardization Formula](https://latex.codecogs.com/png.image?\\dpi{150}&space;\\bg_white&space;z&space;=&space;\\frac{x&space;-&space;\\mu}{\\sigma})\n",
        "\n",
        "   where z is the standardized value, x is the original value, μ is the mean of the feature, and σ is the standard deviation of the feature.\n",
        "\n",
        "2. **Covariance Matrix:** Compute the covariance matrix of the standardized data. The covariance matrix measures the relationships between pairs of features and provides insights into the data's variance structure. The covariance between two features x and y is calculated as follows:\n",
        "\n",
        "   ![Covariance Formula](https://latex.codecogs.com/png.image?\\dpi{150}&space;\\bg_white&space;Cov(x,&space;y)&space;=&space;\\frac{1}{n-1}\\sum_{i=1}^{n}(x_i&space;-&space;\\bar{x})(y_i&space;-&space;\\bar{y}))\n",
        "\n",
        "   where Cov(x, y) is the covariance between x and y, n is the number of samples, xi and yi are the standardized values of x and y, and 𝑥̅ and 𝑦̅ are the means of x and y, respectively.\n",
        "\n",
        "3. **Eigenvalue Decomposition:** Perform eigenvalue decomposition on the covariance matrix to obtain the eigenvectors and eigenvalues. The eigenvectors represent the principal components, and the corresponding eigenvalues indicate the amount of variance explained by each principal component. The eigenvalue decomposition equation is as follows:\n",
        "\n",
        "   ![Eigenvalue Decomposition Formula](https://latex.codecogs.com/png.image?\\dpi{150}&space;\\bg_white&space;\\mathbf{C}&space;\\mathbf{v}&space;=&space;\\lambda&space;\\mathbf{v})\n",
        "\n",
        "   where C is the covariance matrix, v is the eigenvector, λ is the eigenvalue.\n",
        "\n",
        "4. **Selecting Principal Components:** Sort the eigenvalues in descending order and select the top k eigenvectors corresponding to the highest eigenvalues. These eigenvectors constitute the principal components that capture the most significant variation in the data.\n",
        "\n",
        "5. **Projection:** Project the original data onto the selected principal components to obtain the transformed dataset in the lower-dimensional space. The transformed value for a sample x is calculated as follows:\n",
        "\n",
        "   ![Projection Formula](https://latex.codecogs.com/png.image?\\dpi{150}&space;\\bg_white&space;\\mathbf{y}&space;=&space;\\mathbf{x}&space;\\mathbf{W})\n",
        "\n",
        "   where y is the transformed value, x is the original value, and W is the matrix formed by concatenating the selected eigenvectors.\n",
        "\n",
        "Certainly! Here's the section on interpreting PCA, repeated for your convenience:\n",
        "\n",
        "**Interpreting PCA:**\n",
        "\n",
        "PCA provides several insights into the data:\n",
        "\n",
        "- The eigenvalues indicate the amount of variance explained by each principal component. Larger eigenvalues correspond to principal components that capture more variation in the data.\n",
        "\n",
        "- The eigenvectors (principal components) are orthogonal to each other. They represent new axes in the transformed space, where each axis captures a different aspect of the data's variance.\n",
        "\n",
        "- The cumulative explained variance can be calculated by summing the eigenvalues. It helps determine the number of principal components needed to retain a desired amount of information. The cumulative explained variance up to the k-th principal component can be calculated as follows:\n",
        "Explained Variance_cumulative(k) = (∑_{i=1}^{k} λ_i) / (∑_{j=1}^{p} λ_j)\n",
        "where Explained Variance_cumulative(k) is the cumulative explained variance up to the k-th principal component, λ_i is the eigenvalue of the i-th principal component, and p is the total number of principal components.\n",
        "\n",
        "- The principal components can be interpreted in terms of feature importance. The higher the absolute value of the component's coefficients, the more it contributes to the variance in the data. Positive coefficients indicate a positive correlation with the component, while negative coefficients indicate a negative correlation.\n",
        "\n",
        "- PCA can also be visualized by plotting the transformed data in the reduced-dimensional space. Each point represents a sample, and the axes correspond to the principal components. By examining the distribution of samples, patterns, clusters, or separability in the transformed space can be observed.\n",
        "\n",
        "By understanding and interpreting the eigenvalues, eigenvectors, cumulative explained variance, feature importance, and visualizations, we can gain valuable insights into the underlying structure and patterns in the data through PCA.\n",
        "\n",
        "**Applications of PCA:**\n",
        "\n",
        "- *Dimensionality Reduction:* PCA is primarily used for dimensionality reduction, where high-dimensional datasets are transformed into lower-dimensional representations while preserving most of the information.\n",
        "\n",
        "- *Data Visualization:* PCA can be used to visualize high-dimensional data in two or three dimensions by projecting it onto the principal components. This allows for better understanding and interpretation of the data.\n",
        "\n",
        "- *Noise Reduction:* PCA can help in denoising data by removing noise-related principal components that contribute little to the overall variance. By discarding the components with lower eigenvalues, noise can be reduced in the reconstructed data.\n",
        "\n",
        "- *Feature Extraction:* PCA can be used as a feature extraction technique to derive new features that capture the most important aspects of the data. The transformed principal components can be used as features in subsequent analysis tasks.\n",
        "\n",
        "By applying PCA, we can gain insights into the data's variance structure, reduce dimensionality, visualize high-dimensional data, remove noise, and extract meaningful features."
      ],
      "metadata": {
        "id": "5mtwS3WMZ4Bj"
      }
    },
    {
      "cell_type": "code",
      "source": [
        "X = breast_cancer.data  # Features\n",
        "y = breast_cancer.target  # Labels"
      ],
      "metadata": {
        "id": "jQI3VYmeTwa6"
      },
      "execution_count": null,
      "outputs": []
    },
    {
      "cell_type": "code",
      "source": [
        "scaler = StandardScaler()\n",
        "X_scaled = scaler.fit_transform(X)"
      ],
      "metadata": {
        "id": "uVBrW3oacAa_"
      },
      "execution_count": null,
      "outputs": []
    },
    {
      "cell_type": "markdown",
      "source": [
        "In PCA, the `explained_variance_ratio_` and `components_` attributes provide important insights into the transformed data and the contribution of each principal component. Here's how you can use and interpret these attributes:\n",
        "\n",
        "#### Explained Variance Ratio (`explained_variance_ratio_`):\n",
        "\n",
        "The `explained_variance_ratio_` attribute of the PCA object represents the proportion of the variance explained by each principal component.\n",
        "\n",
        "- Each value in `explained_variance_ratio_` corresponds to a principal component and indicates the percentage of the total variance explained by that component.\n",
        "- You can use this attribute to determine the relative importance of each principal component in capturing the variability in the data.\n",
        "- The sum of all values in `explained_variance_ratio_` equals 1, meaning it accounts for all the variance in the data.\n",
        "- Higher values in `explained_variance_ratio_` indicate that the corresponding principal components capture more information from the original data.\n",
        "\n",
        "#### Principal Components' Coefficients (`components_`):\n",
        "\n",
        "The `components_` attribute of the PCA object represents the coefficients or weights of the original features in the transformed PCA space.\n",
        "\n",
        "- It is a matrix where each row corresponds to a principal component, and each column represents a feature in the original dataset.\n",
        "- The values in `components_` indicate the contribution or influence of each feature on the corresponding principal component.\n",
        "- Positive and negative values in `components_` represent the direction and magnitude of the feature's influence on the principal component.\n",
        "- Features with higher absolute values in `components_` have a stronger impact on the corresponding principal component.\n",
        "- You can use this attribute to understand which original features contribute the most to each principal component and identify patterns or relationships between features and components.\n",
        "\n",
        "To interpret `explained_variance_ratio_` and `components_`, you can follow these steps:\n",
        "\n",
        "1. Check `explained_variance_ratio_` to understand the proportion of variance explained by each principal component. Higher values indicate more significant contributions.\n",
        "2. Examine the individual values in `explained_variance_ratio_` to identify the most important principal components. You may consider selecting components with high cumulative variance, such as those above a certain threshold.\n",
        "3. Use `components_` to inspect the coefficients or weights of the original features in each principal component. Look for features with high absolute values, as they have a stronger influence on the component.\n",
        "4. Analyze the relationships between the original features and the principal components. Features with similar signs and magnitudes in different components may indicate common patterns or correlations.\n",
        "5. Consider the cumulative contribution of the selected principal components. You can sum the `explained_variance_ratio_` values to determine the total proportion of variance explained by the chosen components.\n",
        "\n",
        "By understanding the `explained_variance_ratio_` and `components_`, you can gain insights into the transformed data and make informed decisions about the importance of each principal component and the relationships between features and components.\n"
      ],
      "metadata": {
        "id": "gyxvuBdJft0m"
      }
    },
    {
      "cell_type": "markdown",
      "source": [
        "### PCA with 2 components"
      ],
      "metadata": {
        "id": "Iitu91UXcIXT"
      }
    },
    {
      "cell_type": "code",
      "source": [
        "pca_2d = PCA(n_components=2)\n",
        "X_pca_2d = pca_2d.fit_transform(X_scaled)\n",
        "pca_df_2d = pd.DataFrame(data=X_pca_2d, columns=['PC1', 'PC2'])\n",
        "pca_df_2d['diagnosis'] = y\n",
        "pca_df_2d.head()"
      ],
      "metadata": {
        "colab": {
          "base_uri": "https://localhost:8080/",
          "height": 206
        },
        "id": "2BnQrtF8cDOE",
        "outputId": "dcda88d3-bf63-4c14-e10a-fc3e1f0ade97"
      },
      "execution_count": null,
      "outputs": [
        {
          "output_type": "execute_result",
          "data": {
            "text/plain": [
              "        PC1        PC2  diagnosis\n",
              "0  9.192837   1.948583          0\n",
              "1  2.387802  -3.768172          0\n",
              "2  5.733896  -1.075174          0\n",
              "3  7.122953  10.275589          0\n",
              "4  3.935302  -1.948072          0"
            ],
            "text/html": [
              "\n",
              "  <div id=\"df-575d3084-1edb-4353-a9b3-531fed996732\">\n",
              "    <div class=\"colab-df-container\">\n",
              "      <div>\n",
              "<style scoped>\n",
              "    .dataframe tbody tr th:only-of-type {\n",
              "        vertical-align: middle;\n",
              "    }\n",
              "\n",
              "    .dataframe tbody tr th {\n",
              "        vertical-align: top;\n",
              "    }\n",
              "\n",
              "    .dataframe thead th {\n",
              "        text-align: right;\n",
              "    }\n",
              "</style>\n",
              "<table border=\"1\" class=\"dataframe\">\n",
              "  <thead>\n",
              "    <tr style=\"text-align: right;\">\n",
              "      <th></th>\n",
              "      <th>PC1</th>\n",
              "      <th>PC2</th>\n",
              "      <th>diagnosis</th>\n",
              "    </tr>\n",
              "  </thead>\n",
              "  <tbody>\n",
              "    <tr>\n",
              "      <th>0</th>\n",
              "      <td>9.192837</td>\n",
              "      <td>1.948583</td>\n",
              "      <td>0</td>\n",
              "    </tr>\n",
              "    <tr>\n",
              "      <th>1</th>\n",
              "      <td>2.387802</td>\n",
              "      <td>-3.768172</td>\n",
              "      <td>0</td>\n",
              "    </tr>\n",
              "    <tr>\n",
              "      <th>2</th>\n",
              "      <td>5.733896</td>\n",
              "      <td>-1.075174</td>\n",
              "      <td>0</td>\n",
              "    </tr>\n",
              "    <tr>\n",
              "      <th>3</th>\n",
              "      <td>7.122953</td>\n",
              "      <td>10.275589</td>\n",
              "      <td>0</td>\n",
              "    </tr>\n",
              "    <tr>\n",
              "      <th>4</th>\n",
              "      <td>3.935302</td>\n",
              "      <td>-1.948072</td>\n",
              "      <td>0</td>\n",
              "    </tr>\n",
              "  </tbody>\n",
              "</table>\n",
              "</div>\n",
              "      <button class=\"colab-df-convert\" onclick=\"convertToInteractive('df-575d3084-1edb-4353-a9b3-531fed996732')\"\n",
              "              title=\"Convert this dataframe to an interactive table.\"\n",
              "              style=\"display:none;\">\n",
              "        \n",
              "  <svg xmlns=\"http://www.w3.org/2000/svg\" height=\"24px\"viewBox=\"0 0 24 24\"\n",
              "       width=\"24px\">\n",
              "    <path d=\"M0 0h24v24H0V0z\" fill=\"none\"/>\n",
              "    <path d=\"M18.56 5.44l.94 2.06.94-2.06 2.06-.94-2.06-.94-.94-2.06-.94 2.06-2.06.94zm-11 1L8.5 8.5l.94-2.06 2.06-.94-2.06-.94L8.5 2.5l-.94 2.06-2.06.94zm10 10l.94 2.06.94-2.06 2.06-.94-2.06-.94-.94-2.06-.94 2.06-2.06.94z\"/><path d=\"M17.41 7.96l-1.37-1.37c-.4-.4-.92-.59-1.43-.59-.52 0-1.04.2-1.43.59L10.3 9.45l-7.72 7.72c-.78.78-.78 2.05 0 2.83L4 21.41c.39.39.9.59 1.41.59.51 0 1.02-.2 1.41-.59l7.78-7.78 2.81-2.81c.8-.78.8-2.07 0-2.86zM5.41 20L4 18.59l7.72-7.72 1.47 1.35L5.41 20z\"/>\n",
              "  </svg>\n",
              "      </button>\n",
              "      \n",
              "  <style>\n",
              "    .colab-df-container {\n",
              "      display:flex;\n",
              "      flex-wrap:wrap;\n",
              "      gap: 12px;\n",
              "    }\n",
              "\n",
              "    .colab-df-convert {\n",
              "      background-color: #E8F0FE;\n",
              "      border: none;\n",
              "      border-radius: 50%;\n",
              "      cursor: pointer;\n",
              "      display: none;\n",
              "      fill: #1967D2;\n",
              "      height: 32px;\n",
              "      padding: 0 0 0 0;\n",
              "      width: 32px;\n",
              "    }\n",
              "\n",
              "    .colab-df-convert:hover {\n",
              "      background-color: #E2EBFA;\n",
              "      box-shadow: 0px 1px 2px rgba(60, 64, 67, 0.3), 0px 1px 3px 1px rgba(60, 64, 67, 0.15);\n",
              "      fill: #174EA6;\n",
              "    }\n",
              "\n",
              "    [theme=dark] .colab-df-convert {\n",
              "      background-color: #3B4455;\n",
              "      fill: #D2E3FC;\n",
              "    }\n",
              "\n",
              "    [theme=dark] .colab-df-convert:hover {\n",
              "      background-color: #434B5C;\n",
              "      box-shadow: 0px 1px 3px 1px rgba(0, 0, 0, 0.15);\n",
              "      filter: drop-shadow(0px 1px 2px rgba(0, 0, 0, 0.3));\n",
              "      fill: #FFFFFF;\n",
              "    }\n",
              "  </style>\n",
              "\n",
              "      <script>\n",
              "        const buttonEl =\n",
              "          document.querySelector('#df-575d3084-1edb-4353-a9b3-531fed996732 button.colab-df-convert');\n",
              "        buttonEl.style.display =\n",
              "          google.colab.kernel.accessAllowed ? 'block' : 'none';\n",
              "\n",
              "        async function convertToInteractive(key) {\n",
              "          const element = document.querySelector('#df-575d3084-1edb-4353-a9b3-531fed996732');\n",
              "          const dataTable =\n",
              "            await google.colab.kernel.invokeFunction('convertToInteractive',\n",
              "                                                     [key], {});\n",
              "          if (!dataTable) return;\n",
              "\n",
              "          const docLinkHtml = 'Like what you see? Visit the ' +\n",
              "            '<a target=\"_blank\" href=https://colab.research.google.com/notebooks/data_table.ipynb>data table notebook</a>'\n",
              "            + ' to learn more about interactive tables.';\n",
              "          element.innerHTML = '';\n",
              "          dataTable['output_type'] = 'display_data';\n",
              "          await google.colab.output.renderOutput(dataTable, element);\n",
              "          const docLink = document.createElement('div');\n",
              "          docLink.innerHTML = docLinkHtml;\n",
              "          element.appendChild(docLink);\n",
              "        }\n",
              "      </script>\n",
              "    </div>\n",
              "  </div>\n",
              "  "
            ]
          },
          "metadata": {},
          "execution_count": 24
        }
      ]
    },
    {
      "cell_type": "code",
      "source": [
        "fig_2d = px.scatter(pca_df_2d, x='PC1', y='PC2', color='diagnosis', template = 'plotly_white', title = 'PCA - 2 Components')\n",
        "fig_2d.show()"
      ],
      "metadata": {
        "colab": {
          "base_uri": "https://localhost:8080/",
          "height": 562
        },
        "id": "fyG4P6Yccy9h",
        "outputId": "9ee1a29b-c73a-4b04-b14e-e4e259a47991"
      },
      "execution_count": null,
      "outputs": [
        {
          "output_type": "display_data",
          "data": {
            "text/html": [
              "<html>\n",
              "<head><meta charset=\"utf-8\" /></head>\n",
              "<body>\n",
              "    <div>            <script src=\"https://cdnjs.cloudflare.com/ajax/libs/mathjax/2.7.5/MathJax.js?config=TeX-AMS-MML_SVG\"></script><script type=\"text/javascript\">if (window.MathJax && window.MathJax.Hub && window.MathJax.Hub.Config) {window.MathJax.Hub.Config({SVG: {font: \"STIX-Web\"}});}</script>                <script type=\"text/javascript\">window.PlotlyConfig = {MathJaxConfig: 'local'};</script>\n",
              "        <script src=\"https://cdn.plot.ly/plotly-2.18.2.min.js\"></script>                <div id=\"8d8a1363-8f48-4359-95dc-0e3f10680ed9\" class=\"plotly-graph-div\" style=\"height:525px; width:100%;\"></div>            <script type=\"text/javascript\">                                    window.PLOTLYENV=window.PLOTLYENV || {};                                    if (document.getElementById(\"8d8a1363-8f48-4359-95dc-0e3f10680ed9\")) {                    Plotly.newPlot(                        \"8d8a1363-8f48-4359-95dc-0e3f10680ed9\",                        [{\"hovertemplate\":\"PC1=%{x}<br>PC2=%{y}<br>diagnosis=%{marker.color}<extra></extra>\",\"legendgroup\":\"\",\"marker\":{\"color\":[0,0,0,0,0,0,0,0,0,0,0,0,0,0,0,0,0,0,0,1,1,1,0,0,0,0,0,0,0,0,0,0,0,0,0,0,0,1,0,0,0,0,0,0,0,0,1,0,1,1,1,1,1,0,0,1,0,0,1,1,1,1,0,1,0,0,1,1,1,1,0,1,0,0,1,0,1,0,0,1,1,1,0,0,1,0,0,0,1,1,1,0,1,1,0,0,1,1,1,0,0,1,1,1,1,0,1,1,0,1,1,1,1,1,1,1,1,0,0,0,1,0,0,1,1,1,0,0,1,0,1,0,0,1,0,0,1,1,0,1,1,0,1,1,1,1,0,1,1,1,1,1,1,1,1,1,0,1,1,1,1,0,0,1,0,1,1,0,0,1,1,0,0,1,1,1,1,0,1,1,0,0,0,1,0,1,0,1,1,1,0,1,1,0,0,1,0,0,0,0,1,0,0,0,1,0,1,0,1,1,0,1,0,0,0,0,1,1,0,0,1,1,1,0,1,1,1,1,1,0,0,1,1,0,1,1,0,0,1,0,1,1,1,1,0,1,1,1,1,1,0,1,0,0,0,0,0,0,0,0,0,0,0,0,0,0,1,1,1,1,1,1,0,1,0,1,1,0,1,1,0,1,0,0,1,1,1,1,1,1,1,1,1,1,1,1,1,0,1,1,0,1,0,1,1,1,1,1,1,1,1,1,1,1,1,1,1,0,1,1,1,0,1,0,1,1,1,1,0,0,0,1,1,1,1,0,1,0,1,0,1,1,1,0,1,1,1,1,1,1,1,0,0,0,1,1,1,1,1,1,1,1,1,1,1,0,0,1,0,0,0,1,0,0,1,1,1,1,1,0,1,1,1,1,1,0,1,1,1,0,1,1,0,0,1,1,1,1,1,1,0,1,1,1,1,1,1,1,0,1,1,1,1,1,0,1,1,0,1,1,1,1,1,1,1,1,1,1,1,1,0,1,0,0,1,0,1,1,1,1,1,0,1,1,0,1,0,1,1,0,1,0,1,1,1,1,1,1,1,1,0,0,1,1,1,1,1,1,0,1,1,1,1,1,1,1,1,1,1,0,1,1,1,1,1,1,1,0,1,0,1,1,0,1,1,1,1,1,0,0,1,0,1,0,1,1,1,1,1,0,1,1,0,1,0,1,0,0,1,1,1,0,1,1,1,1,1,1,1,1,1,1,1,0,1,0,0,1,1,1,1,1,1,1,1,1,1,1,1,1,1,1,1,1,1,1,1,1,1,1,1,1,0,0,0,0,0,0,1],\"coloraxis\":\"coloraxis\",\"symbol\":\"circle\"},\"mode\":\"markers\",\"name\":\"\",\"orientation\":\"v\",\"showlegend\":false,\"x\":[9.192836826213219,2.3878017958023725,5.733896279731787,7.122953197709057,3.9353020736780246,2.3802471503459346,2.238883308052462,2.143298500377632,3.174924293083656,6.351746789526145,-0.8104137708451788,2.6511004772425717,8.185034458148314,0.34212591399013526,4.34237919464784,4.075656175345987,0.23005501571014741,4.418010915983001,4.948703550565236,-1.2370633569551885,-1.5781612348122618,-3.5573363735499925,4.733210788209774,4.20852420905002,4.949632073983854,7.09856285491214,3.5102626039719307,3.064053886063163,4.007264143655813,1.7153097265431847,6.059445513504892,2.9022361049998566,4.554782688815573,4.990602722475971,2.985340788970912,2.766369157777853,1.2961987650208082,-3.7493133959384486,-0.9980689008800254,0.7652641153963063,-2.1509534707304208,-0.09333138656722298,9.0879996772615,0.9904537655030758,-0.2935465509280682,5.380940406937117,-4.5819366721865205,1.7000068868372573,-2.1364452772841775,-1.567478997208119,-3.542905557463782,-3.157814050181312,-3.450488543515953,3.302550951378881,-0.67461928557176,-2.8581584400465467,4.648738872436868,2.1768628822291576,-3.7214589928322743,-4.135962943789862,-2.3858356631344764,-2.5788832519685343,4.759112153865997,-2.3141322493714656,1.6916079231690835,1.8123054050069074,-2.785924756666366,-3.5186483396476858,4.330002649084275,-3.2612794727724492,2.7045961726304215,-0.3078557704768515,5.503705315293643,-0.3617091926935784,-2.6299766385631793,1.4281675928954207,-0.8345178814911739,6.230896511902792,11.668714648329448,-2.02157765843555,-1.638384937364998,1.1674616110726455,10.769242819274227,5.034811085482875,-2.1744643095462015,3.2882353847187207,0.6076079451777721,3.58356362606367,-0.9341581043943429,1.2596046473494542,-1.5882639721786278,0.25249756752673186,-2.8474315866959934,-1.9649501129379017,2.775865569002539,4.396227954702625,-2.5920828278052683,-3.9043381501528636,-2.818231213142348,0.6162808698251763,-0.43286022081658326,-4.555028840448239,-3.448183541217504,-2.115960264030522,-2.6913522049622283,3.2139167651773595,-0.7492713563494595,-3.1590060374147058,13.056121858663264,-2.2286798134422354,-2.4928310356116277,-0.10335042641395759,3.5912941186903833,-1.3489486828723114,-2.510117675558558,-2.0460295724518645,-2.0970691694488406,3.1105276933522212,4.956725570002216,0.8510142626647816,-2.965999206622532,3.334133198020446,12.894612133968495,-0.770743677532009,-2.2025155237824805,-3.14341224560275,-0.638880499970305,1.9191334226485297,1.4088683633928525,4.643691316587087,-1.8774673636139643,1.4320694267973606,1.3526270253942563,-0.7091148317235846,2.17141601830397,-1.9768403553186014,-2.600789504020743,-3.2580073594689183,3.7820264555804397,-1.9920347221453694,-5.015008689975894,1.3450204377376433,-2.4559688106879607,-1.8372816695174095,-4.346489712228664,-0.7328129161437418,2.39999784315429,0.3930986639317646,-0.4123278127955848,-3.049924940451521,-1.4425637316071698,0.08318610261271185,7.093306714189417,-3.7434045429962053,-0.9691728143623305,-2.4187199081229815,4.100787726595103,-0.7516030055354288,-3.6546465282535165,-4.680211576012797,-0.5977817666137881,3.387330764641266,6.149886189966041,-1.325031347042656,5.494152797674934,-2.9974032071314944,-4.386732721106658,1.2136346121480193,5.069661081475299,-1.9777014396332235,-2.5148764188899664,-0.9474878917478682,2.8193683434659462,-3.4839862980199747,-4.658729577966281,-5.351618114936774,1.1708977789056456,2.956301867144233,-4.975702062159854,-4.0640256587401495,9.512669844166263,9.007165526292205,0.7588784847612361,-2.6593596153532504,-0.39001898105895044,-3.8890655271867884,0.3648761518407556,-2.8358909181564824,-3.3102836207396096,-3.35730440255529,6.523116620292835,-1.717735176107727,-5.565735898981122,1.77966148923245,2.6114848931604064,-2.8190385096119503,2.498438877724105,1.2770271752992672,3.473197342850157,1.2566751119853765,-1.4734313692162506,1.6494606959341553,9.03658948030504,4.554590064788201,-0.7811899668984622,-0.223092606783945,-3.454895386095867,0.4465443964174313,0.31443822596144627,-2.059191942545406,4.808969244731965,-2.998710528238185,12.285019759541093,3.372196590643733,2.5087663116227343,1.318068476542696,-0.3887562987555083,-2.756932991257069,4.943581014506744,4.29807732982793,-2.3735018019750065,-0.9671903116027404,-2.9757987879408905,1.8032470204667275,-2.478359512372162,-0.826039292437471,-3.894697328339583,-0.3895780902174156,-1.4573213567984729,2.755568001153726,3.257254673478752,-4.0191402405643295,-3.676413293167446,3.316324113446715,-4.036607361757898,-2.3342333502301504,8.403847113457536,2.6475686330837385,-0.681768865920516,3.3502957906353714,-2.227720518819704,-4.4775846557304995,1.3226214188388645,-1.8500898601405873,3.7955656418248767,-2.2813180992394577,-3.22877011827742,1.0259007876486916,-2.582555837281665,-2.485883225506342,7.143842039052688,-3.032481140772632,7.085010648787682,1.3140990035988136,3.7116495147798325,0.4604790908477639,6.39264992053491,5.255544949778229,8.7338615029539,3.6913178802284596,3.378250872695831,-0.8402096538369016,3.2843726199733267,-1.908768928136395,1.6147819253559834,6.619726346836971,-1.4646759334588129,-2.012152428518783,-2.2843402520706646,-0.7397430856449325,-4.506562510681601,-3.1587543014074124,7.6761494716696,-3.639135967159407,0.33734549264389657,-1.2765833791515102,-4.346014054230565,0.01743079148743015,-3.4924260372869016,-1.8665488536842174,4.9602681178279395,-2.4707226852232282,3.7850601029234907,2.6372557772720895,-1.3726850236666734,-4.138882573259156,-0.6869402913906576,-4.312129582742941,0.40330942137658155,-3.0036057953213686,3.1340082054403133,-0.4178368668817669,-1.4202231350820234,-2.8705883477861107,-3.3658457040713956,-3.3150001548360426,-4.769710159700056,-2.3858827584204993,-2.7870960094311332,-3.393841771518405,6.59023594334445,-1.4553305178966733,7.182933102086172,-3.5788354034470315,-3.057032641873537,-3.074435831560904,-3.853539733255734,-5.390256393774175,-4.657682334494811,-4.027542388108069,-3.3478219416101846,-3.2998420114682943,-2.136404142351099,-4.038017141737023,-3.765414553258781,-4.8712393834809395,-4.74724851635471,1.895316276318853,1.5729311406088475,-4.026620252659313,-1.2948661700949193,1.8348404671476555,-1.810380558891235,7.23648531439203,-3.1456501885211248,-2.887268058239567,-3.1496539838208926,-4.628379483050127,2.250510374099604,2.107801227878101,1.7859499803192638,-0.5276966174016391,-3.2135009805009167,-4.386422966518026,-3.8100178698306353,3.3196739715200545,-2.3932759643301535,4.680166262400425,-3.067695140604734,7.353218575027832,0.29531318324780703,-1.9389694969468723,-2.0771789214309644,4.975162358415072,-2.1769168795842275,-2.431551455008957,-3.367965778878071,-1.206597790512597,-3.3260792487089623,-1.9287954022352765,-4.04183508995454,6.182283741692175,10.934298158426744,2.1184969319276346,-3.012194970158428,-0.9826485812695674,0.35789386251826705,-3.193917865505683,-2.9932333012445262,-3.193914150468636,-4.59196185350554,-2.4859161544123007,-2.398665346211322,-0.7796151997478903,-3.139988425752819,2.735011771675547,6.2270259886894745,-2.223775745579289,5.307140022001332,7.248001061273665,4.207220618955478,-2.499636374112166,3.6350149466829946,3.5192482750135694,-2.6149483072401827,-0.0961081165766354,2.0448569345668273,-3.0667495275574184,-1.6035864433861031,3.7659321541050046,-0.9255666032077495,-3.288349594101085,-1.5548521496522343,-0.39877991758127884,-2.3005678213336664,-0.5429013641687207,-2.058819455829787,-3.424518055230931,-0.4724065518531213,4.70350073169904,-3.6433802386141627,-3.5946893435898004,4.149097342448901,7.6721415526259795,-2.010379413757637,-2.9208334948368635,-0.5007378002661372,-1.9114985749230315,-3.785099227795615,-2.708393968213509,6.2896734695346765,-3.4307706912388047,-2.001388466389199,-2.473293094287147,-3.647257746394236,-2.346186850942396,-1.1429969265477293,-1.3508573033319178,2.763370786290106,-1.9693236050365404,-2.931187055439902,-2.9263743861504423,-3.996188277410453,0.1551380594685353,-0.9340908103734705,-1.9296217302552094,-2.622338601703895,6.003616591373376,-2.9218778045746245,-3.34194480394924,-2.014915033411953,1.9884621055512297,-1.6696039306006087,-0.3711781135185735,-1.8489599298371922,-4.7030422021112885,-1.2831871507862036,-2.314246819304993,-4.659085176411002,-3.94347338173491,4.949858461549935,-0.9158035193313827,4.549111146627927,4.442342818131071,-2.1949843010205994,0.664440914691314,-2.2408760536431362,-2.1251804369201017,-2.615317411222182,-3.210967975662127,-0.3067503987077722,2.472356916773744,-3.454718372112947,-3.900526848058564,0.9817275418953338,-1.2572515710229488,3.245413648903155,-1.5572194125370393,-1.2492580966983398,4.331653344535953,-1.0774513298932873,2.5117531022606148,-2.2170923054478653,-1.1738306467787287,-2.8363014443334142,-1.8570858988747638,-1.3286143729581905,-2.8027713567762222,-3.1745687967637757,-4.087077360931449,3.4754937481310084,16.319233231031916,-2.5601150180170427,-2.9688887959170294,-2.757430451020126,1.3703398754406844,-0.41766449255295923,-3.8383986229812606,5.930964859583962,0.645478647486675,-2.6838464009792578,-2.04166405210547,-1.3992963501120326,-3.5364152954178385,-1.9905294465909402,-1.9981853671292387,-0.5206581123169841,-3.1723704882482973,-2.2027101890567415,3.824433042941048,-2.985484690326421,-2.481055107277708,-1.2721114612782136,-2.235156888078112,-0.05618310431183635,2.3173906062807426,-2.2843312608519266,4.754614870668694,-1.7263109176879503,-0.7417817670630912,-2.8943106610119247,-1.654521845920789,3.1035197039278986,-4.064270597765438,-2.793330657462989,-1.474919937608747,-0.22939463704326368,-2.5532584076134635,3.7157051034634287,5.094841843796564,-0.6006161135560713,2.7903998294338717,-1.408771214399078,7.259178840793258,1.29886654878617,1.0766932756333971,-1.249760524772217,-1.2569284056189325,-1.1665352144775811,4.09414255724041,-1.8876392413594303,-2.767435702846053,2.2269944892059725,-1.13157689074509,-0.7337724522411531,-2.3336707368114173,2.697223754399487,3.3790146677223434,-0.19987058014149384,-1.1760259132353363,-1.2926365392814927,8.630755859096029,-4.42945637106583,-0.6198387404460146,-3.252315768611998,-3.352927053536529,-0.859802986002536,-3.156621968682809,0.34652811320861165,-2.461406650924526,-1.5301007215873614,-1.7735850660606014,-2.6804416239658644,4.028435261074216,-2.1363512285988584,5.16541094830505,0.5359319494273977,0.34312338294300404,-4.197079986346,-1.1428318645967737,-1.66547515321711,1.0117124957300891,-1.3009297119683298,-2.373428725009666,-1.6658710117954667,-1.9276781923709772,-4.237216617940924,-2.677870720842235,-3.836497851795805,-2.5514402959502114,-4.6949234451568715,-2.025037164127097,-2.895948205518801,-3.5022010405438384,-2.153903667396096,-2.055084067991207,-3.8772895793978988,-4.063862114728207,-0.09866733268849301,-1.089376190070163,-0.4817709648473599,-4.870309518087103,5.9176125891425055,8.741338077267713,6.439315483954063,3.793382370032761,1.2561792761502395,10.374794059769632,-5.475243302544459],\"xaxis\":\"x\",\"y\":[1.948583070795713,-3.7681717421331267,-1.0751737966583985,10.275589121737477,-1.948071567761446,3.9499288955497827,-2.690031277321466,2.340244006910708,3.391812951881268,7.727174066839638,-2.6592754977388404,0.06656792648437045,2.7009764924501005,-0.9682792608482415,4.861083312499546,2.977061180385336,-1.5647577253371527,1.4186703334199042,-4.114333525019531,-0.18821495377361247,0.5728081925443227,1.6629499036187885,3.3049637282934725,-5.128366513993776,-1.5437522881858143,2.0186103370799446,2.171625115605874,-1.876552347705272,0.5372421605367759,-1.5237050229888718,-0.7571774508065121,4.005295512341878,0.3375361539957883,-1.1325889056711944,0.7584232424812114,-0.354355942519608,0.9131962762422566,-1.413473117656715,-3.35129292320463,0.8862439528624191,-1.9239916158353292,2.260752006195105,2.018673099247744,0.9849300203707776,-0.1370990908340436,-0.13487697769785842,1.4842203178041633,2.3522717936195776,0.09582960951750226,-1.2084332138102662,-1.282495578457748,-1.6889585955651785,-0.49821871412780105,-1.1309378049000933,-2.116409716895323,0.1527231362412106,-2.31033257033479,0.9721160459697052,-1.7876416504326065,2.4037924854566843,2.7576581297310594,3.1386719227460373,3.011680506414493,3.2679896792286063,1.5406765570619187,0.7227401911837643,2.3106487122718367,-0.65830946924005,9.20252568584387,-0.9378381203356202,-4.437141769649206,7.387812177084747,0.9383254150798787,0.11973908634150666,-0.6973093686135915,-1.9671014119342685,1.9656048643959232,0.9200695426111384,4.748617202514684,-0.2548998339736776,1.7159491138828937,2.5145158499935936,-2.257982898045265,0.7744091563205566,0.4968779848131047,-1.6682370621003615,0.16221452494978392,-2.206661839158184,0.9277014809027125,1.0155770702333267,-1.6196568284121136,-0.5313515472003311,-2.893647598465693,-0.9651569880948357,0.5580005267816335,-2.1235077121626413,0.21363392989138036,1.1900666337866288,0.3678839812832013,0.6389116689741212,-1.3920442987575508,3.528786017916965,-1.424622455712377,1.8493736050377492,1.420061739983037,4.046756222657736,1.7976385170808977,-1.0357494268110032,0.9815132264760111,0.66741063638934,2.598686268005648,2.280143536849025,3.926333155316857,3.556225100494039,3.2513195034842477,0.3048848667422523,3.667095883600444,1.5693895561779982,2.384846218755624,-2.3067353675765174,0.371506482231526,-1.3255573541643062,2.316622464595885,-0.06410921999423916,-0.7356052301602013,-1.8774090266520547,-0.9113660288096691,-3.538082368404516,1.3049294063363486,-1.48201716926356,1.4232306439916458,-1.0496039490538014,-1.1541414717192844,-1.568232323528817,-2.826260726124775,-0.41938744693507923,-0.4823354675577268,-0.4183214056866519,0.8603815974496741,1.3293551724751036,0.5746999790917614,-1.2747709560477414,0.8984552923192649,-0.09102676546494874,-0.8935722661721553,3.7021823827783296,4.8379888197147745,1.0830680629775473,-0.3896313171148836,-2.2377845222490063,0.30587044949505515,7.150359800037866,12.57319422862933,0.2505015267798189,0.9449443023402868,0.005552412994340963,-0.37880382013904174,-3.0706486584893393,-0.6746487418641455,-1.1038572476110386,1.785650875111119,-2.911037107246245,-2.0176527547511087,1.4692940245284705,-4.165829305559586,-2.7388610518608933,0.0068722813039395715,-2.0390389574308303,-1.7851523342393443,-1.8427794206478132,0.11425229887357205,-1.6847535464631693,1.2651031322123978,1.6196919825474747,-0.22291481496572707,1.0267578586755204,7.01448657860006,0.7064218521001429,-3.38620486734533,-1.2461661741923793,-5.603484192679866,0.5810310773245524,-1.608532575723898,0.5399358008759848,-0.9892423529148316,0.8160717107801955,-3.574461225926605,-0.39872969402728187,0.15574119497141528,-1.1037324235207382,8.011169611562135,-0.5431655273307933,-0.4778475787828948,2.7765871696339173,1.561421709195018,-0.9701105669594345,2.278482852044113,-2.4432589642486744,-2.277848910085111,0.3823932643485314,0.11689025649618077,-2.102291070681508,-0.6551728249954897,3.086639155813004,0.6528492587568128,-0.701821490263197,1.306938722846123,-2.787707740780277,2.07756072792985,-2.472787787799164,-3.029102967447872,-0.39677802824406017,-7.543410169148984,2.587825427956761,2.6146484774644225,2.1544795010901123,2.276797894687926,1.0868346854920592,-2.8483244577860662,-4.66627517916686,-0.7334025639833912,0.4384381816530294,1.8109737757186706,0.1664609572028983,-1.4185764468899433,-1.2502474730739102,0.538570744515354,-0.6144154700217623,-0.2017267570135821,3.465773603847782,-0.12520049200304528,-1.3542473809116982,-1.2916290602897542,-3.9391522592254478,1.1625461079273187,-1.3489797322273032,-4.153904776622058,-3.951172951538549,-1.135991130565049,-2.1545700266406125,-1.2149996868079018,-1.7411293624613642,4.789476583902039,-1.5841281496311586,-1.026232641893006,2.0776859796553713,-1.1720734786766327,2.361261944343509,0.729213114069831,0.46059640267915913,-2.0748422325210694,-0.6494687998423789,0.5282231716687578,-1.7754258312863085,-2.80747711065635,0.39416628851388996,-1.8230941633064741,3.894530989830849,3.279877375009993,1.0656460674493664,-3.371227892022029,-3.500085032201133,-0.9906732010260855,-3.1219458054692852,-2.4745733479032195,-6.003276417600423,1.6866318141690655,-1.1034865581394102,0.009493639200088012,3.1525206050563193,-3.169272587841127,0.41030179496665586,-3.0753063039760016,1.5895870640191598,-3.144373457678659,0.8490529834457708,-0.32197805677078245,-3.4593432912178517,-2.634082400748064,-0.9020642096814241,-1.3411230473737796,-0.1380262643950879,-1.9019074163022558,0.5771549959058138,0.005805461451224186,-1.3765082402595061,1.6950096245629767,-1.978486133046318,3.7234340035983604,0.3541602274325563,4.273459558296496,-0.8085765710903537,1.393978113117117,-0.26864450916340715,-0.8076006153467864,-1.4421762294658829,-0.5429618596496192,-0.8241155709502269,-2.5330340029281535,0.753963957050858,-1.4848624499244156,0.5919428677574963,0.05514606023495888,0.8915829916219412,-0.17921338624912306,-0.30605843544177425,-1.5247264225804729,0.5562555046609289,-3.065387433651639,-2.542907043445701,-0.06856304782928806,-3.138709394206428,-0.004392848656985963,-0.2406980543561138,4.398200493360766,-2.339214787389279,-1.7984019754892806,-2.3922380030524355,6.50909930685284,-1.402206462171076,3.47080863927885,-4.321522964447455,0.3962073021968813,-0.03570179712681075,-0.7425265420196844,-0.46473162451933453,-1.7712483965670467,-1.8356183618638946,-0.34853594039334035,1.121973943521776,-0.26922163569426005,1.2658716232626381,1.1034431418054713,-0.7611037295991291,-0.9099185549138419,-1.5770528424253263,0.9900307777072526,-0.9685929540523799,1.1358375684016657,-5.242623142539231,0.22693503615559465,2.5449881125334355,1.8065194888336362,-1.3325721796690304,0.9589112593926782,3.447203866758919,-0.5629288977474364,-1.3170443382425876,0.47517158153382816,1.4614697975747282,-1.356917456682412,5.108005449538483,-3.703254080431655,0.2966290695712294,0.24375997571961686,0.7972523938971434,2.127838631962832,-1.8491520732878863,1.6313922059276,0.5793394421010428,-2.7611270971992115,-1.1889394044146808,-0.25074479034075603,-2.1243434274301864,-1.4880221619845688,-3.9451682305278726,-1.3901096911135475,-0.35716071079302053,-6.723414983602126,-3.6554691295173654,1.1762428818184618,-2.0185356268054284,-1.9564409103421236,-3.8586071201693106,-1.1024744593808216,-0.12984758284727022,6.426819839249742,-2.1820956997933356,0.29259622239013733,5.985295348416826,2.3024814303160714,0.20131133644846763,0.9798577293456869,2.1612126918220866,-0.9320775840253224,-1.3170679101928493,0.3204351458166084,-2.4455184118284405,3.7028294385945286,-0.19595575493061446,0.7868599163950925,2.6050872167423713,0.7674888443313386,-0.8604841505778412,0.42968956054370583,-1.7004724750001368,0.10673146468288416,-0.6513938798375586,-0.3261463674844481,-0.21966574164654143,2.0365473972938797,-0.9926100348558744,-0.2933264633969918,-0.33504702649903817,-1.241365125167284,0.6827413168789698,-1.9621714940193835,0.36957390200034446,-1.0786335090510357,-0.1758485084858541,-0.49485622918080097,0.37733225709969215,0.9598560898158054,-0.43800822825260843,-2.1059455911557428,0.8924666900827035,2.5021016179518454,-0.09102922223692782,-0.009212681154320288,-0.022224730474352274,0.7784521313495609,2.316048054058422,0.8623188526578157,0.11361265871013165,2.541229649183703,-0.43230243070690266,2.5509093102437266,0.40203147728325056,-0.7822987564356934,-2.0300162870232943,3.006064129285733,2.479013128703624,-0.8160005055344776,-0.9924388979256776,-1.805353237745137,0.43686085562880894,-0.45458951144782905,-1.194796911812887,-1.832060432612739,-2.2351427041739744,2.1849988333306145,-1.4998247517179317,-2.1364615481387763,0.7307759702850929,-2.210429947082012,1.0676915149324837,-1.7783586322319662,-1.0379271063887658,-1.588838789319719,-4.049332418348549,1.803618163129955,-2.5288075833285095,0.02989128810257935,-0.4748395050379116,-1.0181258063318575,-1.5713931191300063,0.7770956606097604,-1.6663016342352241,-2.075733619374026,-0.4847100793235347,-1.6728843912893567,-7.775852804216787,-2.494045447491382,-0.0688471357094133,-1.793918768118918,2.1100113490954215,0.11651969706480113,0.8991786485671507,1.2282966822224792,3.4260114209425985,1.4435555289629827,-0.9032559294635085,-1.77222624536625,-1.2468541534281112,1.8994625507202925,-0.20637113650225195,-0.9733678107143828,-2.089052298009017,1.2860393186718424,2.3052363164309946,-0.6733392442080275,-2.363958760522842,0.5098338482778492,-1.298704493690602,-0.22738339291030876,4.389134334878847,-2.4668407563996597,-1.489423560350891,0.9981778353761728,-2.4520349661411545,-0.9779443192266497,-4.555664122445324,-1.236153211356985,-0.5609542217233983,-1.0778881331044594,-1.5910942013911944,1.515903417999061,-0.7639004851933429,-1.0586862195216975,-2.0192078340061976,-0.8384546629687215,3.3855607717842093,1.505770592156013,-5.495735719384107,7.729852801491175,8.294775448818005,1.595683854584597,4.117186681484059,-1.6656937357307977,2.802927249589969,1.672191738699781,-2.1610487950198602,1.941634759019164,-1.4110019653901966,-1.9436971834035475,0.7901466073027992,-1.9437099457326206,-2.33342894494158,1.0763600031063636,1.0113701777306408,4.964224702096651,-3.459451915059275,-0.7860360356789646,0.6363492700564454,1.2859251612433116,2.6733005976920614,0.09684852256638915,-0.8715426236556801,1.541225275705593,0.6008479692352569,0.4052177892547982,0.8042100123947155,-1.484708900530088,-2.9414300980091985,1.518580639010505,-2.382203231447678,0.3807151456724091,3.534481051937934,2.3673922830710437,5.59945847033669,2.389618124813115,1.0923896495472178,-1.8214153018339803,-1.6815762381680097,-0.21396274007184773,-1.1377399160515125,0.18427249699223808,2.3157928229548563,0.4962499285399782,0.22832995744819434,-0.7674779439808288,1.2612419002419557,-1.451635764386003,1.8008324922501597,-0.8300688184097182,1.6164592679784338,1.084254744542681,0.12216843527770903,-0.21355983830403188,1.2928478982758262,-0.1780196911627504,-2.1311061074510853,3.4826366591449824,-0.5738546723561387,-3.576817444015368,-3.584047863955351,-1.9022967130721162,1.6720101054295289,-0.6706367906945635],\"yaxis\":\"y\",\"type\":\"scatter\"}],                        {\"template\":{\"data\":{\"barpolar\":[{\"marker\":{\"line\":{\"color\":\"white\",\"width\":0.5},\"pattern\":{\"fillmode\":\"overlay\",\"size\":10,\"solidity\":0.2}},\"type\":\"barpolar\"}],\"bar\":[{\"error_x\":{\"color\":\"#2a3f5f\"},\"error_y\":{\"color\":\"#2a3f5f\"},\"marker\":{\"line\":{\"color\":\"white\",\"width\":0.5},\"pattern\":{\"fillmode\":\"overlay\",\"size\":10,\"solidity\":0.2}},\"type\":\"bar\"}],\"carpet\":[{\"aaxis\":{\"endlinecolor\":\"#2a3f5f\",\"gridcolor\":\"#C8D4E3\",\"linecolor\":\"#C8D4E3\",\"minorgridcolor\":\"#C8D4E3\",\"startlinecolor\":\"#2a3f5f\"},\"baxis\":{\"endlinecolor\":\"#2a3f5f\",\"gridcolor\":\"#C8D4E3\",\"linecolor\":\"#C8D4E3\",\"minorgridcolor\":\"#C8D4E3\",\"startlinecolor\":\"#2a3f5f\"},\"type\":\"carpet\"}],\"choropleth\":[{\"colorbar\":{\"outlinewidth\":0,\"ticks\":\"\"},\"type\":\"choropleth\"}],\"contourcarpet\":[{\"colorbar\":{\"outlinewidth\":0,\"ticks\":\"\"},\"type\":\"contourcarpet\"}],\"contour\":[{\"colorbar\":{\"outlinewidth\":0,\"ticks\":\"\"},\"colorscale\":[[0.0,\"#0d0887\"],[0.1111111111111111,\"#46039f\"],[0.2222222222222222,\"#7201a8\"],[0.3333333333333333,\"#9c179e\"],[0.4444444444444444,\"#bd3786\"],[0.5555555555555556,\"#d8576b\"],[0.6666666666666666,\"#ed7953\"],[0.7777777777777778,\"#fb9f3a\"],[0.8888888888888888,\"#fdca26\"],[1.0,\"#f0f921\"]],\"type\":\"contour\"}],\"heatmapgl\":[{\"colorbar\":{\"outlinewidth\":0,\"ticks\":\"\"},\"colorscale\":[[0.0,\"#0d0887\"],[0.1111111111111111,\"#46039f\"],[0.2222222222222222,\"#7201a8\"],[0.3333333333333333,\"#9c179e\"],[0.4444444444444444,\"#bd3786\"],[0.5555555555555556,\"#d8576b\"],[0.6666666666666666,\"#ed7953\"],[0.7777777777777778,\"#fb9f3a\"],[0.8888888888888888,\"#fdca26\"],[1.0,\"#f0f921\"]],\"type\":\"heatmapgl\"}],\"heatmap\":[{\"colorbar\":{\"outlinewidth\":0,\"ticks\":\"\"},\"colorscale\":[[0.0,\"#0d0887\"],[0.1111111111111111,\"#46039f\"],[0.2222222222222222,\"#7201a8\"],[0.3333333333333333,\"#9c179e\"],[0.4444444444444444,\"#bd3786\"],[0.5555555555555556,\"#d8576b\"],[0.6666666666666666,\"#ed7953\"],[0.7777777777777778,\"#fb9f3a\"],[0.8888888888888888,\"#fdca26\"],[1.0,\"#f0f921\"]],\"type\":\"heatmap\"}],\"histogram2dcontour\":[{\"colorbar\":{\"outlinewidth\":0,\"ticks\":\"\"},\"colorscale\":[[0.0,\"#0d0887\"],[0.1111111111111111,\"#46039f\"],[0.2222222222222222,\"#7201a8\"],[0.3333333333333333,\"#9c179e\"],[0.4444444444444444,\"#bd3786\"],[0.5555555555555556,\"#d8576b\"],[0.6666666666666666,\"#ed7953\"],[0.7777777777777778,\"#fb9f3a\"],[0.8888888888888888,\"#fdca26\"],[1.0,\"#f0f921\"]],\"type\":\"histogram2dcontour\"}],\"histogram2d\":[{\"colorbar\":{\"outlinewidth\":0,\"ticks\":\"\"},\"colorscale\":[[0.0,\"#0d0887\"],[0.1111111111111111,\"#46039f\"],[0.2222222222222222,\"#7201a8\"],[0.3333333333333333,\"#9c179e\"],[0.4444444444444444,\"#bd3786\"],[0.5555555555555556,\"#d8576b\"],[0.6666666666666666,\"#ed7953\"],[0.7777777777777778,\"#fb9f3a\"],[0.8888888888888888,\"#fdca26\"],[1.0,\"#f0f921\"]],\"type\":\"histogram2d\"}],\"histogram\":[{\"marker\":{\"pattern\":{\"fillmode\":\"overlay\",\"size\":10,\"solidity\":0.2}},\"type\":\"histogram\"}],\"mesh3d\":[{\"colorbar\":{\"outlinewidth\":0,\"ticks\":\"\"},\"type\":\"mesh3d\"}],\"parcoords\":[{\"line\":{\"colorbar\":{\"outlinewidth\":0,\"ticks\":\"\"}},\"type\":\"parcoords\"}],\"pie\":[{\"automargin\":true,\"type\":\"pie\"}],\"scatter3d\":[{\"line\":{\"colorbar\":{\"outlinewidth\":0,\"ticks\":\"\"}},\"marker\":{\"colorbar\":{\"outlinewidth\":0,\"ticks\":\"\"}},\"type\":\"scatter3d\"}],\"scattercarpet\":[{\"marker\":{\"colorbar\":{\"outlinewidth\":0,\"ticks\":\"\"}},\"type\":\"scattercarpet\"}],\"scattergeo\":[{\"marker\":{\"colorbar\":{\"outlinewidth\":0,\"ticks\":\"\"}},\"type\":\"scattergeo\"}],\"scattergl\":[{\"marker\":{\"colorbar\":{\"outlinewidth\":0,\"ticks\":\"\"}},\"type\":\"scattergl\"}],\"scattermapbox\":[{\"marker\":{\"colorbar\":{\"outlinewidth\":0,\"ticks\":\"\"}},\"type\":\"scattermapbox\"}],\"scatterpolargl\":[{\"marker\":{\"colorbar\":{\"outlinewidth\":0,\"ticks\":\"\"}},\"type\":\"scatterpolargl\"}],\"scatterpolar\":[{\"marker\":{\"colorbar\":{\"outlinewidth\":0,\"ticks\":\"\"}},\"type\":\"scatterpolar\"}],\"scatter\":[{\"fillpattern\":{\"fillmode\":\"overlay\",\"size\":10,\"solidity\":0.2},\"type\":\"scatter\"}],\"scatterternary\":[{\"marker\":{\"colorbar\":{\"outlinewidth\":0,\"ticks\":\"\"}},\"type\":\"scatterternary\"}],\"surface\":[{\"colorbar\":{\"outlinewidth\":0,\"ticks\":\"\"},\"colorscale\":[[0.0,\"#0d0887\"],[0.1111111111111111,\"#46039f\"],[0.2222222222222222,\"#7201a8\"],[0.3333333333333333,\"#9c179e\"],[0.4444444444444444,\"#bd3786\"],[0.5555555555555556,\"#d8576b\"],[0.6666666666666666,\"#ed7953\"],[0.7777777777777778,\"#fb9f3a\"],[0.8888888888888888,\"#fdca26\"],[1.0,\"#f0f921\"]],\"type\":\"surface\"}],\"table\":[{\"cells\":{\"fill\":{\"color\":\"#EBF0F8\"},\"line\":{\"color\":\"white\"}},\"header\":{\"fill\":{\"color\":\"#C8D4E3\"},\"line\":{\"color\":\"white\"}},\"type\":\"table\"}]},\"layout\":{\"annotationdefaults\":{\"arrowcolor\":\"#2a3f5f\",\"arrowhead\":0,\"arrowwidth\":1},\"autotypenumbers\":\"strict\",\"coloraxis\":{\"colorbar\":{\"outlinewidth\":0,\"ticks\":\"\"}},\"colorscale\":{\"diverging\":[[0,\"#8e0152\"],[0.1,\"#c51b7d\"],[0.2,\"#de77ae\"],[0.3,\"#f1b6da\"],[0.4,\"#fde0ef\"],[0.5,\"#f7f7f7\"],[0.6,\"#e6f5d0\"],[0.7,\"#b8e186\"],[0.8,\"#7fbc41\"],[0.9,\"#4d9221\"],[1,\"#276419\"]],\"sequential\":[[0.0,\"#0d0887\"],[0.1111111111111111,\"#46039f\"],[0.2222222222222222,\"#7201a8\"],[0.3333333333333333,\"#9c179e\"],[0.4444444444444444,\"#bd3786\"],[0.5555555555555556,\"#d8576b\"],[0.6666666666666666,\"#ed7953\"],[0.7777777777777778,\"#fb9f3a\"],[0.8888888888888888,\"#fdca26\"],[1.0,\"#f0f921\"]],\"sequentialminus\":[[0.0,\"#0d0887\"],[0.1111111111111111,\"#46039f\"],[0.2222222222222222,\"#7201a8\"],[0.3333333333333333,\"#9c179e\"],[0.4444444444444444,\"#bd3786\"],[0.5555555555555556,\"#d8576b\"],[0.6666666666666666,\"#ed7953\"],[0.7777777777777778,\"#fb9f3a\"],[0.8888888888888888,\"#fdca26\"],[1.0,\"#f0f921\"]]},\"colorway\":[\"#636efa\",\"#EF553B\",\"#00cc96\",\"#ab63fa\",\"#FFA15A\",\"#19d3f3\",\"#FF6692\",\"#B6E880\",\"#FF97FF\",\"#FECB52\"],\"font\":{\"color\":\"#2a3f5f\"},\"geo\":{\"bgcolor\":\"white\",\"lakecolor\":\"white\",\"landcolor\":\"white\",\"showlakes\":true,\"showland\":true,\"subunitcolor\":\"#C8D4E3\"},\"hoverlabel\":{\"align\":\"left\"},\"hovermode\":\"closest\",\"mapbox\":{\"style\":\"light\"},\"paper_bgcolor\":\"white\",\"plot_bgcolor\":\"white\",\"polar\":{\"angularaxis\":{\"gridcolor\":\"#EBF0F8\",\"linecolor\":\"#EBF0F8\",\"ticks\":\"\"},\"bgcolor\":\"white\",\"radialaxis\":{\"gridcolor\":\"#EBF0F8\",\"linecolor\":\"#EBF0F8\",\"ticks\":\"\"}},\"scene\":{\"xaxis\":{\"backgroundcolor\":\"white\",\"gridcolor\":\"#DFE8F3\",\"gridwidth\":2,\"linecolor\":\"#EBF0F8\",\"showbackground\":true,\"ticks\":\"\",\"zerolinecolor\":\"#EBF0F8\"},\"yaxis\":{\"backgroundcolor\":\"white\",\"gridcolor\":\"#DFE8F3\",\"gridwidth\":2,\"linecolor\":\"#EBF0F8\",\"showbackground\":true,\"ticks\":\"\",\"zerolinecolor\":\"#EBF0F8\"},\"zaxis\":{\"backgroundcolor\":\"white\",\"gridcolor\":\"#DFE8F3\",\"gridwidth\":2,\"linecolor\":\"#EBF0F8\",\"showbackground\":true,\"ticks\":\"\",\"zerolinecolor\":\"#EBF0F8\"}},\"shapedefaults\":{\"line\":{\"color\":\"#2a3f5f\"}},\"ternary\":{\"aaxis\":{\"gridcolor\":\"#DFE8F3\",\"linecolor\":\"#A2B1C6\",\"ticks\":\"\"},\"baxis\":{\"gridcolor\":\"#DFE8F3\",\"linecolor\":\"#A2B1C6\",\"ticks\":\"\"},\"bgcolor\":\"white\",\"caxis\":{\"gridcolor\":\"#DFE8F3\",\"linecolor\":\"#A2B1C6\",\"ticks\":\"\"}},\"title\":{\"x\":0.05},\"xaxis\":{\"automargin\":true,\"gridcolor\":\"#EBF0F8\",\"linecolor\":\"#EBF0F8\",\"ticks\":\"\",\"title\":{\"standoff\":15},\"zerolinecolor\":\"#EBF0F8\",\"zerolinewidth\":2},\"yaxis\":{\"automargin\":true,\"gridcolor\":\"#EBF0F8\",\"linecolor\":\"#EBF0F8\",\"ticks\":\"\",\"title\":{\"standoff\":15},\"zerolinecolor\":\"#EBF0F8\",\"zerolinewidth\":2}}},\"xaxis\":{\"anchor\":\"y\",\"domain\":[0.0,1.0],\"title\":{\"text\":\"PC1\"}},\"yaxis\":{\"anchor\":\"x\",\"domain\":[0.0,1.0],\"title\":{\"text\":\"PC2\"}},\"coloraxis\":{\"colorbar\":{\"title\":{\"text\":\"diagnosis\"}},\"colorscale\":[[0.0,\"#0d0887\"],[0.1111111111111111,\"#46039f\"],[0.2222222222222222,\"#7201a8\"],[0.3333333333333333,\"#9c179e\"],[0.4444444444444444,\"#bd3786\"],[0.5555555555555556,\"#d8576b\"],[0.6666666666666666,\"#ed7953\"],[0.7777777777777778,\"#fb9f3a\"],[0.8888888888888888,\"#fdca26\"],[1.0,\"#f0f921\"]]},\"legend\":{\"tracegroupgap\":0},\"title\":{\"text\":\"PCA - 2 Components\"}},                        {\"responsive\": true}                    ).then(function(){\n",
              "                            \n",
              "var gd = document.getElementById('8d8a1363-8f48-4359-95dc-0e3f10680ed9');\n",
              "var x = new MutationObserver(function (mutations, observer) {{\n",
              "        var display = window.getComputedStyle(gd).display;\n",
              "        if (!display || display === 'none') {{\n",
              "            console.log([gd, 'removed!']);\n",
              "            Plotly.purge(gd);\n",
              "            observer.disconnect();\n",
              "        }}\n",
              "}});\n",
              "\n",
              "// Listen for the removal of the full notebook cells\n",
              "var notebookContainer = gd.closest('#notebook-container');\n",
              "if (notebookContainer) {{\n",
              "    x.observe(notebookContainer, {childList: true});\n",
              "}}\n",
              "\n",
              "// Listen for the clearing of the current output cell\n",
              "var outputEl = gd.closest('.output');\n",
              "if (outputEl) {{\n",
              "    x.observe(outputEl, {childList: true});\n",
              "}}\n",
              "\n",
              "                        })                };                            </script>        </div>\n",
              "</body>\n",
              "</html>"
            ]
          },
          "metadata": {}
        }
      ]
    },
    {
      "cell_type": "code",
      "source": [
        "explained_variance_2d = pca_2d.explained_variance_ratio_\n",
        "print(\"Explained Variance Ratio (2D):\", explained_variance_2d)"
      ],
      "metadata": {
        "colab": {
          "base_uri": "https://localhost:8080/"
        },
        "id": "jP_lHpF2dDfi",
        "outputId": "12b2a7eb-2983-4a4c-ec8f-b7eca49260a1"
      },
      "execution_count": null,
      "outputs": [
        {
          "output_type": "stream",
          "name": "stdout",
          "text": [
            "Explained Variance Ratio (2D): [0.44272026 0.18971182]\n"
          ]
        }
      ]
    },
    {
      "cell_type": "code",
      "source": [
        "components = pd.DataFrame(abs(pca_2d.components_), columns=breast_cancer.feature_names)\n",
        "components"
      ],
      "metadata": {
        "colab": {
          "base_uri": "https://localhost:8080/",
          "height": 240
        },
        "id": "efc8pYvzdXqP",
        "outputId": "17590bc1-1336-478a-b3e6-1d3091b1ba96"
      },
      "execution_count": null,
      "outputs": [
        {
          "output_type": "execute_result",
          "data": {
            "text/plain": [
              "   mean radius  mean texture  mean perimeter  mean area  mean smoothness  \\\n",
              "0     0.218902      0.103725        0.227537   0.220995         0.142590   \n",
              "1     0.233857      0.059706        0.215181   0.231077         0.186113   \n",
              "\n",
              "   mean compactness  mean concavity  mean concave points  mean symmetry  \\\n",
              "0          0.239285        0.258400             0.260854       0.138167   \n",
              "1          0.151892        0.060165             0.034768       0.190349   \n",
              "\n",
              "   mean fractal dimension  ...  worst radius  worst texture  worst perimeter  \\\n",
              "0                0.064363  ...      0.227997       0.104469         0.236640   \n",
              "1                0.366575  ...      0.219866       0.045467         0.199878   \n",
              "\n",
              "   worst area  worst smoothness  worst compactness  worst concavity  \\\n",
              "0    0.224871          0.127953           0.210096         0.228768   \n",
              "1    0.219352          0.172304           0.143593         0.097964   \n",
              "\n",
              "   worst concave points  worst symmetry  worst fractal dimension  \n",
              "0              0.250886        0.122905                 0.131784  \n",
              "1              0.008257        0.141883                 0.275339  \n",
              "\n",
              "[2 rows x 30 columns]"
            ],
            "text/html": [
              "\n",
              "  <div id=\"df-0089a3d8-a4bb-46e7-8455-e373b0ea2fda\">\n",
              "    <div class=\"colab-df-container\">\n",
              "      <div>\n",
              "<style scoped>\n",
              "    .dataframe tbody tr th:only-of-type {\n",
              "        vertical-align: middle;\n",
              "    }\n",
              "\n",
              "    .dataframe tbody tr th {\n",
              "        vertical-align: top;\n",
              "    }\n",
              "\n",
              "    .dataframe thead th {\n",
              "        text-align: right;\n",
              "    }\n",
              "</style>\n",
              "<table border=\"1\" class=\"dataframe\">\n",
              "  <thead>\n",
              "    <tr style=\"text-align: right;\">\n",
              "      <th></th>\n",
              "      <th>mean radius</th>\n",
              "      <th>mean texture</th>\n",
              "      <th>mean perimeter</th>\n",
              "      <th>mean area</th>\n",
              "      <th>mean smoothness</th>\n",
              "      <th>mean compactness</th>\n",
              "      <th>mean concavity</th>\n",
              "      <th>mean concave points</th>\n",
              "      <th>mean symmetry</th>\n",
              "      <th>mean fractal dimension</th>\n",
              "      <th>...</th>\n",
              "      <th>worst radius</th>\n",
              "      <th>worst texture</th>\n",
              "      <th>worst perimeter</th>\n",
              "      <th>worst area</th>\n",
              "      <th>worst smoothness</th>\n",
              "      <th>worst compactness</th>\n",
              "      <th>worst concavity</th>\n",
              "      <th>worst concave points</th>\n",
              "      <th>worst symmetry</th>\n",
              "      <th>worst fractal dimension</th>\n",
              "    </tr>\n",
              "  </thead>\n",
              "  <tbody>\n",
              "    <tr>\n",
              "      <th>0</th>\n",
              "      <td>0.218902</td>\n",
              "      <td>0.103725</td>\n",
              "      <td>0.227537</td>\n",
              "      <td>0.220995</td>\n",
              "      <td>0.142590</td>\n",
              "      <td>0.239285</td>\n",
              "      <td>0.258400</td>\n",
              "      <td>0.260854</td>\n",
              "      <td>0.138167</td>\n",
              "      <td>0.064363</td>\n",
              "      <td>...</td>\n",
              "      <td>0.227997</td>\n",
              "      <td>0.104469</td>\n",
              "      <td>0.236640</td>\n",
              "      <td>0.224871</td>\n",
              "      <td>0.127953</td>\n",
              "      <td>0.210096</td>\n",
              "      <td>0.228768</td>\n",
              "      <td>0.250886</td>\n",
              "      <td>0.122905</td>\n",
              "      <td>0.131784</td>\n",
              "    </tr>\n",
              "    <tr>\n",
              "      <th>1</th>\n",
              "      <td>0.233857</td>\n",
              "      <td>0.059706</td>\n",
              "      <td>0.215181</td>\n",
              "      <td>0.231077</td>\n",
              "      <td>0.186113</td>\n",
              "      <td>0.151892</td>\n",
              "      <td>0.060165</td>\n",
              "      <td>0.034768</td>\n",
              "      <td>0.190349</td>\n",
              "      <td>0.366575</td>\n",
              "      <td>...</td>\n",
              "      <td>0.219866</td>\n",
              "      <td>0.045467</td>\n",
              "      <td>0.199878</td>\n",
              "      <td>0.219352</td>\n",
              "      <td>0.172304</td>\n",
              "      <td>0.143593</td>\n",
              "      <td>0.097964</td>\n",
              "      <td>0.008257</td>\n",
              "      <td>0.141883</td>\n",
              "      <td>0.275339</td>\n",
              "    </tr>\n",
              "  </tbody>\n",
              "</table>\n",
              "<p>2 rows × 30 columns</p>\n",
              "</div>\n",
              "      <button class=\"colab-df-convert\" onclick=\"convertToInteractive('df-0089a3d8-a4bb-46e7-8455-e373b0ea2fda')\"\n",
              "              title=\"Convert this dataframe to an interactive table.\"\n",
              "              style=\"display:none;\">\n",
              "        \n",
              "  <svg xmlns=\"http://www.w3.org/2000/svg\" height=\"24px\"viewBox=\"0 0 24 24\"\n",
              "       width=\"24px\">\n",
              "    <path d=\"M0 0h24v24H0V0z\" fill=\"none\"/>\n",
              "    <path d=\"M18.56 5.44l.94 2.06.94-2.06 2.06-.94-2.06-.94-.94-2.06-.94 2.06-2.06.94zm-11 1L8.5 8.5l.94-2.06 2.06-.94-2.06-.94L8.5 2.5l-.94 2.06-2.06.94zm10 10l.94 2.06.94-2.06 2.06-.94-2.06-.94-.94-2.06-.94 2.06-2.06.94z\"/><path d=\"M17.41 7.96l-1.37-1.37c-.4-.4-.92-.59-1.43-.59-.52 0-1.04.2-1.43.59L10.3 9.45l-7.72 7.72c-.78.78-.78 2.05 0 2.83L4 21.41c.39.39.9.59 1.41.59.51 0 1.02-.2 1.41-.59l7.78-7.78 2.81-2.81c.8-.78.8-2.07 0-2.86zM5.41 20L4 18.59l7.72-7.72 1.47 1.35L5.41 20z\"/>\n",
              "  </svg>\n",
              "      </button>\n",
              "      \n",
              "  <style>\n",
              "    .colab-df-container {\n",
              "      display:flex;\n",
              "      flex-wrap:wrap;\n",
              "      gap: 12px;\n",
              "    }\n",
              "\n",
              "    .colab-df-convert {\n",
              "      background-color: #E8F0FE;\n",
              "      border: none;\n",
              "      border-radius: 50%;\n",
              "      cursor: pointer;\n",
              "      display: none;\n",
              "      fill: #1967D2;\n",
              "      height: 32px;\n",
              "      padding: 0 0 0 0;\n",
              "      width: 32px;\n",
              "    }\n",
              "\n",
              "    .colab-df-convert:hover {\n",
              "      background-color: #E2EBFA;\n",
              "      box-shadow: 0px 1px 2px rgba(60, 64, 67, 0.3), 0px 1px 3px 1px rgba(60, 64, 67, 0.15);\n",
              "      fill: #174EA6;\n",
              "    }\n",
              "\n",
              "    [theme=dark] .colab-df-convert {\n",
              "      background-color: #3B4455;\n",
              "      fill: #D2E3FC;\n",
              "    }\n",
              "\n",
              "    [theme=dark] .colab-df-convert:hover {\n",
              "      background-color: #434B5C;\n",
              "      box-shadow: 0px 1px 3px 1px rgba(0, 0, 0, 0.15);\n",
              "      filter: drop-shadow(0px 1px 2px rgba(0, 0, 0, 0.3));\n",
              "      fill: #FFFFFF;\n",
              "    }\n",
              "  </style>\n",
              "\n",
              "      <script>\n",
              "        const buttonEl =\n",
              "          document.querySelector('#df-0089a3d8-a4bb-46e7-8455-e373b0ea2fda button.colab-df-convert');\n",
              "        buttonEl.style.display =\n",
              "          google.colab.kernel.accessAllowed ? 'block' : 'none';\n",
              "\n",
              "        async function convertToInteractive(key) {\n",
              "          const element = document.querySelector('#df-0089a3d8-a4bb-46e7-8455-e373b0ea2fda');\n",
              "          const dataTable =\n",
              "            await google.colab.kernel.invokeFunction('convertToInteractive',\n",
              "                                                     [key], {});\n",
              "          if (!dataTable) return;\n",
              "\n",
              "          const docLinkHtml = 'Like what you see? Visit the ' +\n",
              "            '<a target=\"_blank\" href=https://colab.research.google.com/notebooks/data_table.ipynb>data table notebook</a>'\n",
              "            + ' to learn more about interactive tables.';\n",
              "          element.innerHTML = '';\n",
              "          dataTable['output_type'] = 'display_data';\n",
              "          await google.colab.output.renderOutput(dataTable, element);\n",
              "          const docLink = document.createElement('div');\n",
              "          docLink.innerHTML = docLinkHtml;\n",
              "          element.appendChild(docLink);\n",
              "        }\n",
              "      </script>\n",
              "    </div>\n",
              "  </div>\n",
              "  "
            ]
          },
          "metadata": {},
          "execution_count": 27
        }
      ]
    },
    {
      "cell_type": "markdown",
      "source": [
        "#### Classification"
      ],
      "metadata": {
        "id": "gyCUYhc3Cy3D"
      }
    },
    {
      "cell_type": "code",
      "source": [
        "X_train, X_test, y_train, y_test = train_test_split(df.iloc[:, :-1], df['target'], test_size=0.2, random_state=7)"
      ],
      "metadata": {
        "id": "Xh3kn54cEy3i"
      },
      "execution_count": null,
      "outputs": []
    },
    {
      "cell_type": "code",
      "source": [
        "scaler = StandardScaler()\n",
        "X_train_scaled = scaler.fit_transform(X_train)\n",
        "X_test_scaled = scaler.transform(X_test)"
      ],
      "metadata": {
        "id": "Z41LhUzmE5nF"
      },
      "execution_count": null,
      "outputs": []
    },
    {
      "cell_type": "code",
      "source": [
        "pca = PCA(n_components=2)\n",
        "X_train_pca_2d = pca.fit_transform(X_train_scaled)\n",
        "X_test_pca_2d = pca.transform(X_test_scaled)"
      ],
      "metadata": {
        "id": "Y5B0i35SA-JT"
      },
      "execution_count": null,
      "outputs": []
    },
    {
      "cell_type": "markdown",
      "source": [
        "##### Logistic Regression"
      ],
      "metadata": {
        "id": "Ix6ZIAzEC4oH"
      }
    },
    {
      "cell_type": "code",
      "source": [
        "lr_pca_2d = LogisticRegression()\n",
        "lr_pca_2d.fit(X_train_pca_2d, y_train)\n",
        "lr_pca_2d_pred = lr_pca_2d.predict(X_test_pca_2d)"
      ],
      "metadata": {
        "id": "QGZfA3UdDI4y"
      },
      "execution_count": null,
      "outputs": []
    },
    {
      "cell_type": "code",
      "source": [
        "lr_pca_2d_accuracy = accuracy_score(y_test, lr_pca_2d_pred)\n",
        "lr_pca_2d_precision = precision_score(y_test, lr_pca_2d_pred)\n",
        "lr_pca_2d_recall = recall_score(y_test, lr_pca_2d_pred)\n",
        "lr_pca_2d_f1 = f1_score(y_test, lr_pca_2d_pred)\n",
        "lr_pca_2d_report = classification_report(y_test, lr_pca_2d_pred)\n",
        "print(\"Logistic Regression PCA 2D Classification Report:\")\n",
        "print(lr_pca_2d_report)"
      ],
      "metadata": {
        "colab": {
          "base_uri": "https://localhost:8080/"
        },
        "id": "ck6v7I8fBPPs",
        "outputId": "1d8892e6-135a-4395-944f-4efa6b21d413"
      },
      "execution_count": null,
      "outputs": [
        {
          "output_type": "stream",
          "name": "stdout",
          "text": [
            "Logistic Regression PCA 2D Classification Report:\n",
            "              precision    recall  f1-score   support\n",
            "\n",
            "           0       0.97      0.93      0.95        40\n",
            "           1       0.96      0.99      0.97        74\n",
            "\n",
            "    accuracy                           0.96       114\n",
            "   macro avg       0.97      0.96      0.96       114\n",
            "weighted avg       0.97      0.96      0.96       114\n",
            "\n"
          ]
        }
      ]
    },
    {
      "cell_type": "code",
      "source": [
        "lr_pca_2d_cm = confusion_matrix(y_test, lr_pca_2d_pred)\n",
        "plot_confusion_matrix(lr_pca_2d_cm, ['Benign', 'Malignant'])"
      ],
      "metadata": {
        "colab": {
          "base_uri": "https://localhost:8080/",
          "height": 562
        },
        "id": "anF32sykBsUv",
        "outputId": "246858e8-96ae-4e86-d632-58bc8d7ff2d9"
      },
      "execution_count": null,
      "outputs": [
        {
          "output_type": "display_data",
          "data": {
            "text/html": [
              "<html>\n",
              "<head><meta charset=\"utf-8\" /></head>\n",
              "<body>\n",
              "    <div>            <script src=\"https://cdnjs.cloudflare.com/ajax/libs/mathjax/2.7.5/MathJax.js?config=TeX-AMS-MML_SVG\"></script><script type=\"text/javascript\">if (window.MathJax && window.MathJax.Hub && window.MathJax.Hub.Config) {window.MathJax.Hub.Config({SVG: {font: \"STIX-Web\"}});}</script>                <script type=\"text/javascript\">window.PlotlyConfig = {MathJaxConfig: 'local'};</script>\n",
              "        <script src=\"https://cdn.plot.ly/plotly-2.18.2.min.js\"></script>                <div id=\"d6e5e629-2e22-44e3-ad4c-12b0feb8e0c1\" class=\"plotly-graph-div\" style=\"height:525px; width:100%;\"></div>            <script type=\"text/javascript\">                                    window.PLOTLYENV=window.PLOTLYENV || {};                                    if (document.getElementById(\"d6e5e629-2e22-44e3-ad4c-12b0feb8e0c1\")) {                    Plotly.newPlot(                        \"d6e5e629-2e22-44e3-ad4c-12b0feb8e0c1\",                        [{\"coloraxis\":\"coloraxis\",\"name\":\"0\",\"texttemplate\":\"%{z}\",\"x\":[\"Benign\",\"Malignant\"],\"y\":[\"Benign\",\"Malignant\"],\"z\":[[37,3],[1,73]],\"type\":\"heatmap\",\"xaxis\":\"x\",\"yaxis\":\"y\",\"hovertemplate\":\"Predicted: %{x}<br>Actual: %{y}<br>Count: %{z}<extra></extra>\"}],                        {\"template\":{\"data\":{\"histogram2dcontour\":[{\"type\":\"histogram2dcontour\",\"colorbar\":{\"outlinewidth\":0,\"ticks\":\"\"},\"colorscale\":[[0.0,\"#0d0887\"],[0.1111111111111111,\"#46039f\"],[0.2222222222222222,\"#7201a8\"],[0.3333333333333333,\"#9c179e\"],[0.4444444444444444,\"#bd3786\"],[0.5555555555555556,\"#d8576b\"],[0.6666666666666666,\"#ed7953\"],[0.7777777777777778,\"#fb9f3a\"],[0.8888888888888888,\"#fdca26\"],[1.0,\"#f0f921\"]]}],\"choropleth\":[{\"type\":\"choropleth\",\"colorbar\":{\"outlinewidth\":0,\"ticks\":\"\"}}],\"histogram2d\":[{\"type\":\"histogram2d\",\"colorbar\":{\"outlinewidth\":0,\"ticks\":\"\"},\"colorscale\":[[0.0,\"#0d0887\"],[0.1111111111111111,\"#46039f\"],[0.2222222222222222,\"#7201a8\"],[0.3333333333333333,\"#9c179e\"],[0.4444444444444444,\"#bd3786\"],[0.5555555555555556,\"#d8576b\"],[0.6666666666666666,\"#ed7953\"],[0.7777777777777778,\"#fb9f3a\"],[0.8888888888888888,\"#fdca26\"],[1.0,\"#f0f921\"]]}],\"heatmap\":[{\"type\":\"heatmap\",\"colorbar\":{\"outlinewidth\":0,\"ticks\":\"\"},\"colorscale\":[[0.0,\"#0d0887\"],[0.1111111111111111,\"#46039f\"],[0.2222222222222222,\"#7201a8\"],[0.3333333333333333,\"#9c179e\"],[0.4444444444444444,\"#bd3786\"],[0.5555555555555556,\"#d8576b\"],[0.6666666666666666,\"#ed7953\"],[0.7777777777777778,\"#fb9f3a\"],[0.8888888888888888,\"#fdca26\"],[1.0,\"#f0f921\"]]}],\"heatmapgl\":[{\"type\":\"heatmapgl\",\"colorbar\":{\"outlinewidth\":0,\"ticks\":\"\"},\"colorscale\":[[0.0,\"#0d0887\"],[0.1111111111111111,\"#46039f\"],[0.2222222222222222,\"#7201a8\"],[0.3333333333333333,\"#9c179e\"],[0.4444444444444444,\"#bd3786\"],[0.5555555555555556,\"#d8576b\"],[0.6666666666666666,\"#ed7953\"],[0.7777777777777778,\"#fb9f3a\"],[0.8888888888888888,\"#fdca26\"],[1.0,\"#f0f921\"]]}],\"contourcarpet\":[{\"type\":\"contourcarpet\",\"colorbar\":{\"outlinewidth\":0,\"ticks\":\"\"}}],\"contour\":[{\"type\":\"contour\",\"colorbar\":{\"outlinewidth\":0,\"ticks\":\"\"},\"colorscale\":[[0.0,\"#0d0887\"],[0.1111111111111111,\"#46039f\"],[0.2222222222222222,\"#7201a8\"],[0.3333333333333333,\"#9c179e\"],[0.4444444444444444,\"#bd3786\"],[0.5555555555555556,\"#d8576b\"],[0.6666666666666666,\"#ed7953\"],[0.7777777777777778,\"#fb9f3a\"],[0.8888888888888888,\"#fdca26\"],[1.0,\"#f0f921\"]]}],\"surface\":[{\"type\":\"surface\",\"colorbar\":{\"outlinewidth\":0,\"ticks\":\"\"},\"colorscale\":[[0.0,\"#0d0887\"],[0.1111111111111111,\"#46039f\"],[0.2222222222222222,\"#7201a8\"],[0.3333333333333333,\"#9c179e\"],[0.4444444444444444,\"#bd3786\"],[0.5555555555555556,\"#d8576b\"],[0.6666666666666666,\"#ed7953\"],[0.7777777777777778,\"#fb9f3a\"],[0.8888888888888888,\"#fdca26\"],[1.0,\"#f0f921\"]]}],\"mesh3d\":[{\"type\":\"mesh3d\",\"colorbar\":{\"outlinewidth\":0,\"ticks\":\"\"}}],\"scatter\":[{\"fillpattern\":{\"fillmode\":\"overlay\",\"size\":10,\"solidity\":0.2},\"type\":\"scatter\"}],\"parcoords\":[{\"type\":\"parcoords\",\"line\":{\"colorbar\":{\"outlinewidth\":0,\"ticks\":\"\"}}}],\"scatterpolargl\":[{\"type\":\"scatterpolargl\",\"marker\":{\"colorbar\":{\"outlinewidth\":0,\"ticks\":\"\"}}}],\"bar\":[{\"error_x\":{\"color\":\"#2a3f5f\"},\"error_y\":{\"color\":\"#2a3f5f\"},\"marker\":{\"line\":{\"color\":\"#E5ECF6\",\"width\":0.5},\"pattern\":{\"fillmode\":\"overlay\",\"size\":10,\"solidity\":0.2}},\"type\":\"bar\"}],\"scattergeo\":[{\"type\":\"scattergeo\",\"marker\":{\"colorbar\":{\"outlinewidth\":0,\"ticks\":\"\"}}}],\"scatterpolar\":[{\"type\":\"scatterpolar\",\"marker\":{\"colorbar\":{\"outlinewidth\":0,\"ticks\":\"\"}}}],\"histogram\":[{\"marker\":{\"pattern\":{\"fillmode\":\"overlay\",\"size\":10,\"solidity\":0.2}},\"type\":\"histogram\"}],\"scattergl\":[{\"type\":\"scattergl\",\"marker\":{\"colorbar\":{\"outlinewidth\":0,\"ticks\":\"\"}}}],\"scatter3d\":[{\"type\":\"scatter3d\",\"line\":{\"colorbar\":{\"outlinewidth\":0,\"ticks\":\"\"}},\"marker\":{\"colorbar\":{\"outlinewidth\":0,\"ticks\":\"\"}}}],\"scattermapbox\":[{\"type\":\"scattermapbox\",\"marker\":{\"colorbar\":{\"outlinewidth\":0,\"ticks\":\"\"}}}],\"scatterternary\":[{\"type\":\"scatterternary\",\"marker\":{\"colorbar\":{\"outlinewidth\":0,\"ticks\":\"\"}}}],\"scattercarpet\":[{\"type\":\"scattercarpet\",\"marker\":{\"colorbar\":{\"outlinewidth\":0,\"ticks\":\"\"}}}],\"carpet\":[{\"aaxis\":{\"endlinecolor\":\"#2a3f5f\",\"gridcolor\":\"white\",\"linecolor\":\"white\",\"minorgridcolor\":\"white\",\"startlinecolor\":\"#2a3f5f\"},\"baxis\":{\"endlinecolor\":\"#2a3f5f\",\"gridcolor\":\"white\",\"linecolor\":\"white\",\"minorgridcolor\":\"white\",\"startlinecolor\":\"#2a3f5f\"},\"type\":\"carpet\"}],\"table\":[{\"cells\":{\"fill\":{\"color\":\"#EBF0F8\"},\"line\":{\"color\":\"white\"}},\"header\":{\"fill\":{\"color\":\"#C8D4E3\"},\"line\":{\"color\":\"white\"}},\"type\":\"table\"}],\"barpolar\":[{\"marker\":{\"line\":{\"color\":\"#E5ECF6\",\"width\":0.5},\"pattern\":{\"fillmode\":\"overlay\",\"size\":10,\"solidity\":0.2}},\"type\":\"barpolar\"}],\"pie\":[{\"automargin\":true,\"type\":\"pie\"}]},\"layout\":{\"autotypenumbers\":\"strict\",\"colorway\":[\"#636efa\",\"#EF553B\",\"#00cc96\",\"#ab63fa\",\"#FFA15A\",\"#19d3f3\",\"#FF6692\",\"#B6E880\",\"#FF97FF\",\"#FECB52\"],\"font\":{\"color\":\"#2a3f5f\"},\"hovermode\":\"closest\",\"hoverlabel\":{\"align\":\"left\"},\"paper_bgcolor\":\"white\",\"plot_bgcolor\":\"#E5ECF6\",\"polar\":{\"bgcolor\":\"#E5ECF6\",\"angularaxis\":{\"gridcolor\":\"white\",\"linecolor\":\"white\",\"ticks\":\"\"},\"radialaxis\":{\"gridcolor\":\"white\",\"linecolor\":\"white\",\"ticks\":\"\"}},\"ternary\":{\"bgcolor\":\"#E5ECF6\",\"aaxis\":{\"gridcolor\":\"white\",\"linecolor\":\"white\",\"ticks\":\"\"},\"baxis\":{\"gridcolor\":\"white\",\"linecolor\":\"white\",\"ticks\":\"\"},\"caxis\":{\"gridcolor\":\"white\",\"linecolor\":\"white\",\"ticks\":\"\"}},\"coloraxis\":{\"colorbar\":{\"outlinewidth\":0,\"ticks\":\"\"}},\"colorscale\":{\"sequential\":[[0.0,\"#0d0887\"],[0.1111111111111111,\"#46039f\"],[0.2222222222222222,\"#7201a8\"],[0.3333333333333333,\"#9c179e\"],[0.4444444444444444,\"#bd3786\"],[0.5555555555555556,\"#d8576b\"],[0.6666666666666666,\"#ed7953\"],[0.7777777777777778,\"#fb9f3a\"],[0.8888888888888888,\"#fdca26\"],[1.0,\"#f0f921\"]],\"sequentialminus\":[[0.0,\"#0d0887\"],[0.1111111111111111,\"#46039f\"],[0.2222222222222222,\"#7201a8\"],[0.3333333333333333,\"#9c179e\"],[0.4444444444444444,\"#bd3786\"],[0.5555555555555556,\"#d8576b\"],[0.6666666666666666,\"#ed7953\"],[0.7777777777777778,\"#fb9f3a\"],[0.8888888888888888,\"#fdca26\"],[1.0,\"#f0f921\"]],\"diverging\":[[0,\"#8e0152\"],[0.1,\"#c51b7d\"],[0.2,\"#de77ae\"],[0.3,\"#f1b6da\"],[0.4,\"#fde0ef\"],[0.5,\"#f7f7f7\"],[0.6,\"#e6f5d0\"],[0.7,\"#b8e186\"],[0.8,\"#7fbc41\"],[0.9,\"#4d9221\"],[1,\"#276419\"]]},\"xaxis\":{\"gridcolor\":\"white\",\"linecolor\":\"white\",\"ticks\":\"\",\"title\":{\"standoff\":15},\"zerolinecolor\":\"white\",\"automargin\":true,\"zerolinewidth\":2},\"yaxis\":{\"gridcolor\":\"white\",\"linecolor\":\"white\",\"ticks\":\"\",\"title\":{\"standoff\":15},\"zerolinecolor\":\"white\",\"automargin\":true,\"zerolinewidth\":2},\"scene\":{\"xaxis\":{\"backgroundcolor\":\"#E5ECF6\",\"gridcolor\":\"white\",\"linecolor\":\"white\",\"showbackground\":true,\"ticks\":\"\",\"zerolinecolor\":\"white\",\"gridwidth\":2},\"yaxis\":{\"backgroundcolor\":\"#E5ECF6\",\"gridcolor\":\"white\",\"linecolor\":\"white\",\"showbackground\":true,\"ticks\":\"\",\"zerolinecolor\":\"white\",\"gridwidth\":2},\"zaxis\":{\"backgroundcolor\":\"#E5ECF6\",\"gridcolor\":\"white\",\"linecolor\":\"white\",\"showbackground\":true,\"ticks\":\"\",\"zerolinecolor\":\"white\",\"gridwidth\":2}},\"shapedefaults\":{\"line\":{\"color\":\"#2a3f5f\"}},\"annotationdefaults\":{\"arrowcolor\":\"#2a3f5f\",\"arrowhead\":0,\"arrowwidth\":1},\"geo\":{\"bgcolor\":\"white\",\"landcolor\":\"#E5ECF6\",\"subunitcolor\":\"white\",\"showland\":true,\"showlakes\":true,\"lakecolor\":\"white\"},\"title\":{\"x\":0.05},\"mapbox\":{\"style\":\"light\"}}},\"xaxis\":{\"anchor\":\"y\",\"domain\":[0.0,1.0],\"scaleanchor\":\"y\",\"constrain\":\"domain\",\"title\":{\"text\":\"Predicted\"}},\"yaxis\":{\"anchor\":\"x\",\"domain\":[0.0,1.0],\"autorange\":\"reversed\",\"constrain\":\"domain\",\"title\":{\"text\":\"Actual\"}},\"coloraxis\":{\"colorbar\":{\"title\":{\"text\":\"Count\"}},\"colorscale\":[[0.0,\"#440154\"],[0.1111111111111111,\"#482878\"],[0.2222222222222222,\"#3e4989\"],[0.3333333333333333,\"#31688e\"],[0.4444444444444444,\"#26828e\"],[0.5555555555555556,\"#1f9e89\"],[0.6666666666666666,\"#35b779\"],[0.7777777777777778,\"#6ece58\"],[0.8888888888888888,\"#b5de2b\"],[1.0,\"#fde725\"]],\"showscale\":false},\"title\":{\"text\":\"Confusion Matrix\"}},                        {\"responsive\": true}                    ).then(function(){\n",
              "                            \n",
              "var gd = document.getElementById('d6e5e629-2e22-44e3-ad4c-12b0feb8e0c1');\n",
              "var x = new MutationObserver(function (mutations, observer) {{\n",
              "        var display = window.getComputedStyle(gd).display;\n",
              "        if (!display || display === 'none') {{\n",
              "            console.log([gd, 'removed!']);\n",
              "            Plotly.purge(gd);\n",
              "            observer.disconnect();\n",
              "        }}\n",
              "}});\n",
              "\n",
              "// Listen for the removal of the full notebook cells\n",
              "var notebookContainer = gd.closest('#notebook-container');\n",
              "if (notebookContainer) {{\n",
              "    x.observe(notebookContainer, {childList: true});\n",
              "}}\n",
              "\n",
              "// Listen for the clearing of the current output cell\n",
              "var outputEl = gd.closest('.output');\n",
              "if (outputEl) {{\n",
              "    x.observe(outputEl, {childList: true});\n",
              "}}\n",
              "\n",
              "                        })                };                            </script>        </div>\n",
              "</body>\n",
              "</html>"
            ]
          },
          "metadata": {}
        }
      ]
    },
    {
      "cell_type": "markdown",
      "source": [
        "##### KNN"
      ],
      "metadata": {
        "id": "AH3__zqBC9i0"
      }
    },
    {
      "cell_type": "code",
      "source": [
        "knn_pca_2d = KNeighborsClassifier()\n",
        "knn_pca_2d.fit(X_train_pca_2d, y_train)\n",
        "knn_pca_2d_pred = knn_pca_2d.predict(X_test_pca_2d)"
      ],
      "metadata": {
        "id": "6FWZaZPLDA4v"
      },
      "execution_count": null,
      "outputs": []
    },
    {
      "cell_type": "code",
      "source": [
        "knn_pca_2d_accuracy = accuracy_score(y_test, knn_pca_2d_pred)\n",
        "knn_pca_2d_precision = precision_score(y_test, knn_pca_2d_pred)\n",
        "knn_pca_2d_recall = recall_score(y_test, knn_pca_2d_pred)\n",
        "knn_pca_2d_f1 = f1_score(y_test, knn_pca_2d_pred)\n",
        "knn_pca_2d_report = classification_report(y_test, knn_pca_2d_pred)\n",
        "print(\"KNN PCA 2D Classification Report:\")\n",
        "print(knn_pca_2d_report)"
      ],
      "metadata": {
        "colab": {
          "base_uri": "https://localhost:8080/"
        },
        "id": "FKlZKz-CQBks",
        "outputId": "e134eab1-ba1c-460f-9239-82aeb4ad21ff"
      },
      "execution_count": null,
      "outputs": [
        {
          "output_type": "stream",
          "name": "stdout",
          "text": [
            "KNN PCA 2D Classification Report:\n",
            "              precision    recall  f1-score   support\n",
            "\n",
            "           0       0.95      1.00      0.98        40\n",
            "           1       1.00      0.97      0.99        74\n",
            "\n",
            "    accuracy                           0.98       114\n",
            "   macro avg       0.98      0.99      0.98       114\n",
            "weighted avg       0.98      0.98      0.98       114\n",
            "\n"
          ]
        }
      ]
    },
    {
      "cell_type": "code",
      "source": [
        "knn_pca_2d_cm = confusion_matrix(y_test, knn_pca_2d_pred)\n",
        "plot_confusion_matrix(knn_pca_2d_cm, ['Benign', 'Malignant'])"
      ],
      "metadata": {
        "colab": {
          "base_uri": "https://localhost:8080/",
          "height": 562
        },
        "id": "nPYj6MiKQYSY",
        "outputId": "525ba426-44f0-4787-c286-ebe51f1c38db"
      },
      "execution_count": null,
      "outputs": [
        {
          "output_type": "display_data",
          "data": {
            "text/html": [
              "<html>\n",
              "<head><meta charset=\"utf-8\" /></head>\n",
              "<body>\n",
              "    <div>            <script src=\"https://cdnjs.cloudflare.com/ajax/libs/mathjax/2.7.5/MathJax.js?config=TeX-AMS-MML_SVG\"></script><script type=\"text/javascript\">if (window.MathJax && window.MathJax.Hub && window.MathJax.Hub.Config) {window.MathJax.Hub.Config({SVG: {font: \"STIX-Web\"}});}</script>                <script type=\"text/javascript\">window.PlotlyConfig = {MathJaxConfig: 'local'};</script>\n",
              "        <script src=\"https://cdn.plot.ly/plotly-2.18.2.min.js\"></script>                <div id=\"ec532553-636b-40c3-a467-bc0587fcb293\" class=\"plotly-graph-div\" style=\"height:525px; width:100%;\"></div>            <script type=\"text/javascript\">                                    window.PLOTLYENV=window.PLOTLYENV || {};                                    if (document.getElementById(\"ec532553-636b-40c3-a467-bc0587fcb293\")) {                    Plotly.newPlot(                        \"ec532553-636b-40c3-a467-bc0587fcb293\",                        [{\"coloraxis\":\"coloraxis\",\"name\":\"0\",\"texttemplate\":\"%{z}\",\"x\":[\"Benign\",\"Malignant\"],\"y\":[\"Benign\",\"Malignant\"],\"z\":[[40,0],[2,72]],\"type\":\"heatmap\",\"xaxis\":\"x\",\"yaxis\":\"y\",\"hovertemplate\":\"Predicted: %{x}<br>Actual: %{y}<br>Count: %{z}<extra></extra>\"}],                        {\"template\":{\"data\":{\"histogram2dcontour\":[{\"type\":\"histogram2dcontour\",\"colorbar\":{\"outlinewidth\":0,\"ticks\":\"\"},\"colorscale\":[[0.0,\"#0d0887\"],[0.1111111111111111,\"#46039f\"],[0.2222222222222222,\"#7201a8\"],[0.3333333333333333,\"#9c179e\"],[0.4444444444444444,\"#bd3786\"],[0.5555555555555556,\"#d8576b\"],[0.6666666666666666,\"#ed7953\"],[0.7777777777777778,\"#fb9f3a\"],[0.8888888888888888,\"#fdca26\"],[1.0,\"#f0f921\"]]}],\"choropleth\":[{\"type\":\"choropleth\",\"colorbar\":{\"outlinewidth\":0,\"ticks\":\"\"}}],\"histogram2d\":[{\"type\":\"histogram2d\",\"colorbar\":{\"outlinewidth\":0,\"ticks\":\"\"},\"colorscale\":[[0.0,\"#0d0887\"],[0.1111111111111111,\"#46039f\"],[0.2222222222222222,\"#7201a8\"],[0.3333333333333333,\"#9c179e\"],[0.4444444444444444,\"#bd3786\"],[0.5555555555555556,\"#d8576b\"],[0.6666666666666666,\"#ed7953\"],[0.7777777777777778,\"#fb9f3a\"],[0.8888888888888888,\"#fdca26\"],[1.0,\"#f0f921\"]]}],\"heatmap\":[{\"type\":\"heatmap\",\"colorbar\":{\"outlinewidth\":0,\"ticks\":\"\"},\"colorscale\":[[0.0,\"#0d0887\"],[0.1111111111111111,\"#46039f\"],[0.2222222222222222,\"#7201a8\"],[0.3333333333333333,\"#9c179e\"],[0.4444444444444444,\"#bd3786\"],[0.5555555555555556,\"#d8576b\"],[0.6666666666666666,\"#ed7953\"],[0.7777777777777778,\"#fb9f3a\"],[0.8888888888888888,\"#fdca26\"],[1.0,\"#f0f921\"]]}],\"heatmapgl\":[{\"type\":\"heatmapgl\",\"colorbar\":{\"outlinewidth\":0,\"ticks\":\"\"},\"colorscale\":[[0.0,\"#0d0887\"],[0.1111111111111111,\"#46039f\"],[0.2222222222222222,\"#7201a8\"],[0.3333333333333333,\"#9c179e\"],[0.4444444444444444,\"#bd3786\"],[0.5555555555555556,\"#d8576b\"],[0.6666666666666666,\"#ed7953\"],[0.7777777777777778,\"#fb9f3a\"],[0.8888888888888888,\"#fdca26\"],[1.0,\"#f0f921\"]]}],\"contourcarpet\":[{\"type\":\"contourcarpet\",\"colorbar\":{\"outlinewidth\":0,\"ticks\":\"\"}}],\"contour\":[{\"type\":\"contour\",\"colorbar\":{\"outlinewidth\":0,\"ticks\":\"\"},\"colorscale\":[[0.0,\"#0d0887\"],[0.1111111111111111,\"#46039f\"],[0.2222222222222222,\"#7201a8\"],[0.3333333333333333,\"#9c179e\"],[0.4444444444444444,\"#bd3786\"],[0.5555555555555556,\"#d8576b\"],[0.6666666666666666,\"#ed7953\"],[0.7777777777777778,\"#fb9f3a\"],[0.8888888888888888,\"#fdca26\"],[1.0,\"#f0f921\"]]}],\"surface\":[{\"type\":\"surface\",\"colorbar\":{\"outlinewidth\":0,\"ticks\":\"\"},\"colorscale\":[[0.0,\"#0d0887\"],[0.1111111111111111,\"#46039f\"],[0.2222222222222222,\"#7201a8\"],[0.3333333333333333,\"#9c179e\"],[0.4444444444444444,\"#bd3786\"],[0.5555555555555556,\"#d8576b\"],[0.6666666666666666,\"#ed7953\"],[0.7777777777777778,\"#fb9f3a\"],[0.8888888888888888,\"#fdca26\"],[1.0,\"#f0f921\"]]}],\"mesh3d\":[{\"type\":\"mesh3d\",\"colorbar\":{\"outlinewidth\":0,\"ticks\":\"\"}}],\"scatter\":[{\"fillpattern\":{\"fillmode\":\"overlay\",\"size\":10,\"solidity\":0.2},\"type\":\"scatter\"}],\"parcoords\":[{\"type\":\"parcoords\",\"line\":{\"colorbar\":{\"outlinewidth\":0,\"ticks\":\"\"}}}],\"scatterpolargl\":[{\"type\":\"scatterpolargl\",\"marker\":{\"colorbar\":{\"outlinewidth\":0,\"ticks\":\"\"}}}],\"bar\":[{\"error_x\":{\"color\":\"#2a3f5f\"},\"error_y\":{\"color\":\"#2a3f5f\"},\"marker\":{\"line\":{\"color\":\"#E5ECF6\",\"width\":0.5},\"pattern\":{\"fillmode\":\"overlay\",\"size\":10,\"solidity\":0.2}},\"type\":\"bar\"}],\"scattergeo\":[{\"type\":\"scattergeo\",\"marker\":{\"colorbar\":{\"outlinewidth\":0,\"ticks\":\"\"}}}],\"scatterpolar\":[{\"type\":\"scatterpolar\",\"marker\":{\"colorbar\":{\"outlinewidth\":0,\"ticks\":\"\"}}}],\"histogram\":[{\"marker\":{\"pattern\":{\"fillmode\":\"overlay\",\"size\":10,\"solidity\":0.2}},\"type\":\"histogram\"}],\"scattergl\":[{\"type\":\"scattergl\",\"marker\":{\"colorbar\":{\"outlinewidth\":0,\"ticks\":\"\"}}}],\"scatter3d\":[{\"type\":\"scatter3d\",\"line\":{\"colorbar\":{\"outlinewidth\":0,\"ticks\":\"\"}},\"marker\":{\"colorbar\":{\"outlinewidth\":0,\"ticks\":\"\"}}}],\"scattermapbox\":[{\"type\":\"scattermapbox\",\"marker\":{\"colorbar\":{\"outlinewidth\":0,\"ticks\":\"\"}}}],\"scatterternary\":[{\"type\":\"scatterternary\",\"marker\":{\"colorbar\":{\"outlinewidth\":0,\"ticks\":\"\"}}}],\"scattercarpet\":[{\"type\":\"scattercarpet\",\"marker\":{\"colorbar\":{\"outlinewidth\":0,\"ticks\":\"\"}}}],\"carpet\":[{\"aaxis\":{\"endlinecolor\":\"#2a3f5f\",\"gridcolor\":\"white\",\"linecolor\":\"white\",\"minorgridcolor\":\"white\",\"startlinecolor\":\"#2a3f5f\"},\"baxis\":{\"endlinecolor\":\"#2a3f5f\",\"gridcolor\":\"white\",\"linecolor\":\"white\",\"minorgridcolor\":\"white\",\"startlinecolor\":\"#2a3f5f\"},\"type\":\"carpet\"}],\"table\":[{\"cells\":{\"fill\":{\"color\":\"#EBF0F8\"},\"line\":{\"color\":\"white\"}},\"header\":{\"fill\":{\"color\":\"#C8D4E3\"},\"line\":{\"color\":\"white\"}},\"type\":\"table\"}],\"barpolar\":[{\"marker\":{\"line\":{\"color\":\"#E5ECF6\",\"width\":0.5},\"pattern\":{\"fillmode\":\"overlay\",\"size\":10,\"solidity\":0.2}},\"type\":\"barpolar\"}],\"pie\":[{\"automargin\":true,\"type\":\"pie\"}]},\"layout\":{\"autotypenumbers\":\"strict\",\"colorway\":[\"#636efa\",\"#EF553B\",\"#00cc96\",\"#ab63fa\",\"#FFA15A\",\"#19d3f3\",\"#FF6692\",\"#B6E880\",\"#FF97FF\",\"#FECB52\"],\"font\":{\"color\":\"#2a3f5f\"},\"hovermode\":\"closest\",\"hoverlabel\":{\"align\":\"left\"},\"paper_bgcolor\":\"white\",\"plot_bgcolor\":\"#E5ECF6\",\"polar\":{\"bgcolor\":\"#E5ECF6\",\"angularaxis\":{\"gridcolor\":\"white\",\"linecolor\":\"white\",\"ticks\":\"\"},\"radialaxis\":{\"gridcolor\":\"white\",\"linecolor\":\"white\",\"ticks\":\"\"}},\"ternary\":{\"bgcolor\":\"#E5ECF6\",\"aaxis\":{\"gridcolor\":\"white\",\"linecolor\":\"white\",\"ticks\":\"\"},\"baxis\":{\"gridcolor\":\"white\",\"linecolor\":\"white\",\"ticks\":\"\"},\"caxis\":{\"gridcolor\":\"white\",\"linecolor\":\"white\",\"ticks\":\"\"}},\"coloraxis\":{\"colorbar\":{\"outlinewidth\":0,\"ticks\":\"\"}},\"colorscale\":{\"sequential\":[[0.0,\"#0d0887\"],[0.1111111111111111,\"#46039f\"],[0.2222222222222222,\"#7201a8\"],[0.3333333333333333,\"#9c179e\"],[0.4444444444444444,\"#bd3786\"],[0.5555555555555556,\"#d8576b\"],[0.6666666666666666,\"#ed7953\"],[0.7777777777777778,\"#fb9f3a\"],[0.8888888888888888,\"#fdca26\"],[1.0,\"#f0f921\"]],\"sequentialminus\":[[0.0,\"#0d0887\"],[0.1111111111111111,\"#46039f\"],[0.2222222222222222,\"#7201a8\"],[0.3333333333333333,\"#9c179e\"],[0.4444444444444444,\"#bd3786\"],[0.5555555555555556,\"#d8576b\"],[0.6666666666666666,\"#ed7953\"],[0.7777777777777778,\"#fb9f3a\"],[0.8888888888888888,\"#fdca26\"],[1.0,\"#f0f921\"]],\"diverging\":[[0,\"#8e0152\"],[0.1,\"#c51b7d\"],[0.2,\"#de77ae\"],[0.3,\"#f1b6da\"],[0.4,\"#fde0ef\"],[0.5,\"#f7f7f7\"],[0.6,\"#e6f5d0\"],[0.7,\"#b8e186\"],[0.8,\"#7fbc41\"],[0.9,\"#4d9221\"],[1,\"#276419\"]]},\"xaxis\":{\"gridcolor\":\"white\",\"linecolor\":\"white\",\"ticks\":\"\",\"title\":{\"standoff\":15},\"zerolinecolor\":\"white\",\"automargin\":true,\"zerolinewidth\":2},\"yaxis\":{\"gridcolor\":\"white\",\"linecolor\":\"white\",\"ticks\":\"\",\"title\":{\"standoff\":15},\"zerolinecolor\":\"white\",\"automargin\":true,\"zerolinewidth\":2},\"scene\":{\"xaxis\":{\"backgroundcolor\":\"#E5ECF6\",\"gridcolor\":\"white\",\"linecolor\":\"white\",\"showbackground\":true,\"ticks\":\"\",\"zerolinecolor\":\"white\",\"gridwidth\":2},\"yaxis\":{\"backgroundcolor\":\"#E5ECF6\",\"gridcolor\":\"white\",\"linecolor\":\"white\",\"showbackground\":true,\"ticks\":\"\",\"zerolinecolor\":\"white\",\"gridwidth\":2},\"zaxis\":{\"backgroundcolor\":\"#E5ECF6\",\"gridcolor\":\"white\",\"linecolor\":\"white\",\"showbackground\":true,\"ticks\":\"\",\"zerolinecolor\":\"white\",\"gridwidth\":2}},\"shapedefaults\":{\"line\":{\"color\":\"#2a3f5f\"}},\"annotationdefaults\":{\"arrowcolor\":\"#2a3f5f\",\"arrowhead\":0,\"arrowwidth\":1},\"geo\":{\"bgcolor\":\"white\",\"landcolor\":\"#E5ECF6\",\"subunitcolor\":\"white\",\"showland\":true,\"showlakes\":true,\"lakecolor\":\"white\"},\"title\":{\"x\":0.05},\"mapbox\":{\"style\":\"light\"}}},\"xaxis\":{\"anchor\":\"y\",\"domain\":[0.0,1.0],\"scaleanchor\":\"y\",\"constrain\":\"domain\",\"title\":{\"text\":\"Predicted\"}},\"yaxis\":{\"anchor\":\"x\",\"domain\":[0.0,1.0],\"autorange\":\"reversed\",\"constrain\":\"domain\",\"title\":{\"text\":\"Actual\"}},\"coloraxis\":{\"colorbar\":{\"title\":{\"text\":\"Count\"}},\"colorscale\":[[0.0,\"#440154\"],[0.1111111111111111,\"#482878\"],[0.2222222222222222,\"#3e4989\"],[0.3333333333333333,\"#31688e\"],[0.4444444444444444,\"#26828e\"],[0.5555555555555556,\"#1f9e89\"],[0.6666666666666666,\"#35b779\"],[0.7777777777777778,\"#6ece58\"],[0.8888888888888888,\"#b5de2b\"],[1.0,\"#fde725\"]],\"showscale\":false},\"title\":{\"text\":\"Confusion Matrix\"}},                        {\"responsive\": true}                    ).then(function(){\n",
              "                            \n",
              "var gd = document.getElementById('ec532553-636b-40c3-a467-bc0587fcb293');\n",
              "var x = new MutationObserver(function (mutations, observer) {{\n",
              "        var display = window.getComputedStyle(gd).display;\n",
              "        if (!display || display === 'none') {{\n",
              "            console.log([gd, 'removed!']);\n",
              "            Plotly.purge(gd);\n",
              "            observer.disconnect();\n",
              "        }}\n",
              "}});\n",
              "\n",
              "// Listen for the removal of the full notebook cells\n",
              "var notebookContainer = gd.closest('#notebook-container');\n",
              "if (notebookContainer) {{\n",
              "    x.observe(notebookContainer, {childList: true});\n",
              "}}\n",
              "\n",
              "// Listen for the clearing of the current output cell\n",
              "var outputEl = gd.closest('.output');\n",
              "if (outputEl) {{\n",
              "    x.observe(outputEl, {childList: true});\n",
              "}}\n",
              "\n",
              "                        })                };                            </script>        </div>\n",
              "</body>\n",
              "</html>"
            ]
          },
          "metadata": {}
        }
      ]
    },
    {
      "cell_type": "markdown",
      "source": [
        "##### SVM"
      ],
      "metadata": {
        "id": "4Kw8EAK-Qwu3"
      }
    },
    {
      "cell_type": "code",
      "source": [
        "svm_pca_2d = SVC()\n",
        "svm_pca_2d.fit(X_train_pca_2d, y_train)\n",
        "svm_pca_2d_pred = svm_pca_2d.predict(X_test_pca_2d)"
      ],
      "metadata": {
        "id": "KM6ETcrWQ55P"
      },
      "execution_count": null,
      "outputs": []
    },
    {
      "cell_type": "code",
      "source": [
        "svm_pca_2d_accuracy = accuracy_score(y_test, svm_pca_2d_pred)\n",
        "svm_pca_2d_precision = precision_score(y_test, svm_pca_2d_pred)\n",
        "svm_pca_2d_recall = recall_score(y_test, svm_pca_2d_pred)\n",
        "svm_pca_2d_f1 = f1_score(y_test, svm_pca_2d_pred)\n",
        "svm_pca_2d_report = classification_report(y_test, svm_pca_2d_pred)\n",
        "print(\"SVM PCA 2D Classification Report:\")\n",
        "print(svm_pca_2d_report)"
      ],
      "metadata": {
        "colab": {
          "base_uri": "https://localhost:8080/"
        },
        "id": "ygeeuSnuRHz0",
        "outputId": "a764c3db-9204-49cf-b0ce-45db2e5a8c8a"
      },
      "execution_count": null,
      "outputs": [
        {
          "output_type": "stream",
          "name": "stdout",
          "text": [
            "SVM PCA 2D Classification Report:\n",
            "              precision    recall  f1-score   support\n",
            "\n",
            "           0       0.95      0.88      0.91        40\n",
            "           1       0.94      0.97      0.95        74\n",
            "\n",
            "    accuracy                           0.94       114\n",
            "   macro avg       0.94      0.92      0.93       114\n",
            "weighted avg       0.94      0.94      0.94       114\n",
            "\n"
          ]
        }
      ]
    },
    {
      "cell_type": "code",
      "source": [
        "svm_pca_2d_cm = confusion_matrix(y_test, svm_pca_2d_pred)\n",
        "plot_confusion_matrix(svm_pca_2d_cm, ['Benign', 'Malignant'])"
      ],
      "metadata": {
        "colab": {
          "base_uri": "https://localhost:8080/",
          "height": 562
        },
        "id": "i_kHz_bsRaOw",
        "outputId": "ab7fcb76-91a5-4f32-d912-5162d0c54c49"
      },
      "execution_count": null,
      "outputs": [
        {
          "output_type": "display_data",
          "data": {
            "text/html": [
              "<html>\n",
              "<head><meta charset=\"utf-8\" /></head>\n",
              "<body>\n",
              "    <div>            <script src=\"https://cdnjs.cloudflare.com/ajax/libs/mathjax/2.7.5/MathJax.js?config=TeX-AMS-MML_SVG\"></script><script type=\"text/javascript\">if (window.MathJax && window.MathJax.Hub && window.MathJax.Hub.Config) {window.MathJax.Hub.Config({SVG: {font: \"STIX-Web\"}});}</script>                <script type=\"text/javascript\">window.PlotlyConfig = {MathJaxConfig: 'local'};</script>\n",
              "        <script src=\"https://cdn.plot.ly/plotly-2.18.2.min.js\"></script>                <div id=\"fe01b9d7-f5cd-4058-8af2-9cb184deca18\" class=\"plotly-graph-div\" style=\"height:525px; width:100%;\"></div>            <script type=\"text/javascript\">                                    window.PLOTLYENV=window.PLOTLYENV || {};                                    if (document.getElementById(\"fe01b9d7-f5cd-4058-8af2-9cb184deca18\")) {                    Plotly.newPlot(                        \"fe01b9d7-f5cd-4058-8af2-9cb184deca18\",                        [{\"coloraxis\":\"coloraxis\",\"name\":\"0\",\"texttemplate\":\"%{z}\",\"x\":[\"Benign\",\"Malignant\"],\"y\":[\"Benign\",\"Malignant\"],\"z\":[[35,5],[2,72]],\"type\":\"heatmap\",\"xaxis\":\"x\",\"yaxis\":\"y\",\"hovertemplate\":\"Predicted: %{x}<br>Actual: %{y}<br>Count: %{z}<extra></extra>\"}],                        {\"template\":{\"data\":{\"histogram2dcontour\":[{\"type\":\"histogram2dcontour\",\"colorbar\":{\"outlinewidth\":0,\"ticks\":\"\"},\"colorscale\":[[0.0,\"#0d0887\"],[0.1111111111111111,\"#46039f\"],[0.2222222222222222,\"#7201a8\"],[0.3333333333333333,\"#9c179e\"],[0.4444444444444444,\"#bd3786\"],[0.5555555555555556,\"#d8576b\"],[0.6666666666666666,\"#ed7953\"],[0.7777777777777778,\"#fb9f3a\"],[0.8888888888888888,\"#fdca26\"],[1.0,\"#f0f921\"]]}],\"choropleth\":[{\"type\":\"choropleth\",\"colorbar\":{\"outlinewidth\":0,\"ticks\":\"\"}}],\"histogram2d\":[{\"type\":\"histogram2d\",\"colorbar\":{\"outlinewidth\":0,\"ticks\":\"\"},\"colorscale\":[[0.0,\"#0d0887\"],[0.1111111111111111,\"#46039f\"],[0.2222222222222222,\"#7201a8\"],[0.3333333333333333,\"#9c179e\"],[0.4444444444444444,\"#bd3786\"],[0.5555555555555556,\"#d8576b\"],[0.6666666666666666,\"#ed7953\"],[0.7777777777777778,\"#fb9f3a\"],[0.8888888888888888,\"#fdca26\"],[1.0,\"#f0f921\"]]}],\"heatmap\":[{\"type\":\"heatmap\",\"colorbar\":{\"outlinewidth\":0,\"ticks\":\"\"},\"colorscale\":[[0.0,\"#0d0887\"],[0.1111111111111111,\"#46039f\"],[0.2222222222222222,\"#7201a8\"],[0.3333333333333333,\"#9c179e\"],[0.4444444444444444,\"#bd3786\"],[0.5555555555555556,\"#d8576b\"],[0.6666666666666666,\"#ed7953\"],[0.7777777777777778,\"#fb9f3a\"],[0.8888888888888888,\"#fdca26\"],[1.0,\"#f0f921\"]]}],\"heatmapgl\":[{\"type\":\"heatmapgl\",\"colorbar\":{\"outlinewidth\":0,\"ticks\":\"\"},\"colorscale\":[[0.0,\"#0d0887\"],[0.1111111111111111,\"#46039f\"],[0.2222222222222222,\"#7201a8\"],[0.3333333333333333,\"#9c179e\"],[0.4444444444444444,\"#bd3786\"],[0.5555555555555556,\"#d8576b\"],[0.6666666666666666,\"#ed7953\"],[0.7777777777777778,\"#fb9f3a\"],[0.8888888888888888,\"#fdca26\"],[1.0,\"#f0f921\"]]}],\"contourcarpet\":[{\"type\":\"contourcarpet\",\"colorbar\":{\"outlinewidth\":0,\"ticks\":\"\"}}],\"contour\":[{\"type\":\"contour\",\"colorbar\":{\"outlinewidth\":0,\"ticks\":\"\"},\"colorscale\":[[0.0,\"#0d0887\"],[0.1111111111111111,\"#46039f\"],[0.2222222222222222,\"#7201a8\"],[0.3333333333333333,\"#9c179e\"],[0.4444444444444444,\"#bd3786\"],[0.5555555555555556,\"#d8576b\"],[0.6666666666666666,\"#ed7953\"],[0.7777777777777778,\"#fb9f3a\"],[0.8888888888888888,\"#fdca26\"],[1.0,\"#f0f921\"]]}],\"surface\":[{\"type\":\"surface\",\"colorbar\":{\"outlinewidth\":0,\"ticks\":\"\"},\"colorscale\":[[0.0,\"#0d0887\"],[0.1111111111111111,\"#46039f\"],[0.2222222222222222,\"#7201a8\"],[0.3333333333333333,\"#9c179e\"],[0.4444444444444444,\"#bd3786\"],[0.5555555555555556,\"#d8576b\"],[0.6666666666666666,\"#ed7953\"],[0.7777777777777778,\"#fb9f3a\"],[0.8888888888888888,\"#fdca26\"],[1.0,\"#f0f921\"]]}],\"mesh3d\":[{\"type\":\"mesh3d\",\"colorbar\":{\"outlinewidth\":0,\"ticks\":\"\"}}],\"scatter\":[{\"fillpattern\":{\"fillmode\":\"overlay\",\"size\":10,\"solidity\":0.2},\"type\":\"scatter\"}],\"parcoords\":[{\"type\":\"parcoords\",\"line\":{\"colorbar\":{\"outlinewidth\":0,\"ticks\":\"\"}}}],\"scatterpolargl\":[{\"type\":\"scatterpolargl\",\"marker\":{\"colorbar\":{\"outlinewidth\":0,\"ticks\":\"\"}}}],\"bar\":[{\"error_x\":{\"color\":\"#2a3f5f\"},\"error_y\":{\"color\":\"#2a3f5f\"},\"marker\":{\"line\":{\"color\":\"#E5ECF6\",\"width\":0.5},\"pattern\":{\"fillmode\":\"overlay\",\"size\":10,\"solidity\":0.2}},\"type\":\"bar\"}],\"scattergeo\":[{\"type\":\"scattergeo\",\"marker\":{\"colorbar\":{\"outlinewidth\":0,\"ticks\":\"\"}}}],\"scatterpolar\":[{\"type\":\"scatterpolar\",\"marker\":{\"colorbar\":{\"outlinewidth\":0,\"ticks\":\"\"}}}],\"histogram\":[{\"marker\":{\"pattern\":{\"fillmode\":\"overlay\",\"size\":10,\"solidity\":0.2}},\"type\":\"histogram\"}],\"scattergl\":[{\"type\":\"scattergl\",\"marker\":{\"colorbar\":{\"outlinewidth\":0,\"ticks\":\"\"}}}],\"scatter3d\":[{\"type\":\"scatter3d\",\"line\":{\"colorbar\":{\"outlinewidth\":0,\"ticks\":\"\"}},\"marker\":{\"colorbar\":{\"outlinewidth\":0,\"ticks\":\"\"}}}],\"scattermapbox\":[{\"type\":\"scattermapbox\",\"marker\":{\"colorbar\":{\"outlinewidth\":0,\"ticks\":\"\"}}}],\"scatterternary\":[{\"type\":\"scatterternary\",\"marker\":{\"colorbar\":{\"outlinewidth\":0,\"ticks\":\"\"}}}],\"scattercarpet\":[{\"type\":\"scattercarpet\",\"marker\":{\"colorbar\":{\"outlinewidth\":0,\"ticks\":\"\"}}}],\"carpet\":[{\"aaxis\":{\"endlinecolor\":\"#2a3f5f\",\"gridcolor\":\"white\",\"linecolor\":\"white\",\"minorgridcolor\":\"white\",\"startlinecolor\":\"#2a3f5f\"},\"baxis\":{\"endlinecolor\":\"#2a3f5f\",\"gridcolor\":\"white\",\"linecolor\":\"white\",\"minorgridcolor\":\"white\",\"startlinecolor\":\"#2a3f5f\"},\"type\":\"carpet\"}],\"table\":[{\"cells\":{\"fill\":{\"color\":\"#EBF0F8\"},\"line\":{\"color\":\"white\"}},\"header\":{\"fill\":{\"color\":\"#C8D4E3\"},\"line\":{\"color\":\"white\"}},\"type\":\"table\"}],\"barpolar\":[{\"marker\":{\"line\":{\"color\":\"#E5ECF6\",\"width\":0.5},\"pattern\":{\"fillmode\":\"overlay\",\"size\":10,\"solidity\":0.2}},\"type\":\"barpolar\"}],\"pie\":[{\"automargin\":true,\"type\":\"pie\"}]},\"layout\":{\"autotypenumbers\":\"strict\",\"colorway\":[\"#636efa\",\"#EF553B\",\"#00cc96\",\"#ab63fa\",\"#FFA15A\",\"#19d3f3\",\"#FF6692\",\"#B6E880\",\"#FF97FF\",\"#FECB52\"],\"font\":{\"color\":\"#2a3f5f\"},\"hovermode\":\"closest\",\"hoverlabel\":{\"align\":\"left\"},\"paper_bgcolor\":\"white\",\"plot_bgcolor\":\"#E5ECF6\",\"polar\":{\"bgcolor\":\"#E5ECF6\",\"angularaxis\":{\"gridcolor\":\"white\",\"linecolor\":\"white\",\"ticks\":\"\"},\"radialaxis\":{\"gridcolor\":\"white\",\"linecolor\":\"white\",\"ticks\":\"\"}},\"ternary\":{\"bgcolor\":\"#E5ECF6\",\"aaxis\":{\"gridcolor\":\"white\",\"linecolor\":\"white\",\"ticks\":\"\"},\"baxis\":{\"gridcolor\":\"white\",\"linecolor\":\"white\",\"ticks\":\"\"},\"caxis\":{\"gridcolor\":\"white\",\"linecolor\":\"white\",\"ticks\":\"\"}},\"coloraxis\":{\"colorbar\":{\"outlinewidth\":0,\"ticks\":\"\"}},\"colorscale\":{\"sequential\":[[0.0,\"#0d0887\"],[0.1111111111111111,\"#46039f\"],[0.2222222222222222,\"#7201a8\"],[0.3333333333333333,\"#9c179e\"],[0.4444444444444444,\"#bd3786\"],[0.5555555555555556,\"#d8576b\"],[0.6666666666666666,\"#ed7953\"],[0.7777777777777778,\"#fb9f3a\"],[0.8888888888888888,\"#fdca26\"],[1.0,\"#f0f921\"]],\"sequentialminus\":[[0.0,\"#0d0887\"],[0.1111111111111111,\"#46039f\"],[0.2222222222222222,\"#7201a8\"],[0.3333333333333333,\"#9c179e\"],[0.4444444444444444,\"#bd3786\"],[0.5555555555555556,\"#d8576b\"],[0.6666666666666666,\"#ed7953\"],[0.7777777777777778,\"#fb9f3a\"],[0.8888888888888888,\"#fdca26\"],[1.0,\"#f0f921\"]],\"diverging\":[[0,\"#8e0152\"],[0.1,\"#c51b7d\"],[0.2,\"#de77ae\"],[0.3,\"#f1b6da\"],[0.4,\"#fde0ef\"],[0.5,\"#f7f7f7\"],[0.6,\"#e6f5d0\"],[0.7,\"#b8e186\"],[0.8,\"#7fbc41\"],[0.9,\"#4d9221\"],[1,\"#276419\"]]},\"xaxis\":{\"gridcolor\":\"white\",\"linecolor\":\"white\",\"ticks\":\"\",\"title\":{\"standoff\":15},\"zerolinecolor\":\"white\",\"automargin\":true,\"zerolinewidth\":2},\"yaxis\":{\"gridcolor\":\"white\",\"linecolor\":\"white\",\"ticks\":\"\",\"title\":{\"standoff\":15},\"zerolinecolor\":\"white\",\"automargin\":true,\"zerolinewidth\":2},\"scene\":{\"xaxis\":{\"backgroundcolor\":\"#E5ECF6\",\"gridcolor\":\"white\",\"linecolor\":\"white\",\"showbackground\":true,\"ticks\":\"\",\"zerolinecolor\":\"white\",\"gridwidth\":2},\"yaxis\":{\"backgroundcolor\":\"#E5ECF6\",\"gridcolor\":\"white\",\"linecolor\":\"white\",\"showbackground\":true,\"ticks\":\"\",\"zerolinecolor\":\"white\",\"gridwidth\":2},\"zaxis\":{\"backgroundcolor\":\"#E5ECF6\",\"gridcolor\":\"white\",\"linecolor\":\"white\",\"showbackground\":true,\"ticks\":\"\",\"zerolinecolor\":\"white\",\"gridwidth\":2}},\"shapedefaults\":{\"line\":{\"color\":\"#2a3f5f\"}},\"annotationdefaults\":{\"arrowcolor\":\"#2a3f5f\",\"arrowhead\":0,\"arrowwidth\":1},\"geo\":{\"bgcolor\":\"white\",\"landcolor\":\"#E5ECF6\",\"subunitcolor\":\"white\",\"showland\":true,\"showlakes\":true,\"lakecolor\":\"white\"},\"title\":{\"x\":0.05},\"mapbox\":{\"style\":\"light\"}}},\"xaxis\":{\"anchor\":\"y\",\"domain\":[0.0,1.0],\"scaleanchor\":\"y\",\"constrain\":\"domain\",\"title\":{\"text\":\"Predicted\"}},\"yaxis\":{\"anchor\":\"x\",\"domain\":[0.0,1.0],\"autorange\":\"reversed\",\"constrain\":\"domain\",\"title\":{\"text\":\"Actual\"}},\"coloraxis\":{\"colorbar\":{\"title\":{\"text\":\"Count\"}},\"colorscale\":[[0.0,\"#440154\"],[0.1111111111111111,\"#482878\"],[0.2222222222222222,\"#3e4989\"],[0.3333333333333333,\"#31688e\"],[0.4444444444444444,\"#26828e\"],[0.5555555555555556,\"#1f9e89\"],[0.6666666666666666,\"#35b779\"],[0.7777777777777778,\"#6ece58\"],[0.8888888888888888,\"#b5de2b\"],[1.0,\"#fde725\"]],\"showscale\":false},\"title\":{\"text\":\"Confusion Matrix\"}},                        {\"responsive\": true}                    ).then(function(){\n",
              "                            \n",
              "var gd = document.getElementById('fe01b9d7-f5cd-4058-8af2-9cb184deca18');\n",
              "var x = new MutationObserver(function (mutations, observer) {{\n",
              "        var display = window.getComputedStyle(gd).display;\n",
              "        if (!display || display === 'none') {{\n",
              "            console.log([gd, 'removed!']);\n",
              "            Plotly.purge(gd);\n",
              "            observer.disconnect();\n",
              "        }}\n",
              "}});\n",
              "\n",
              "// Listen for the removal of the full notebook cells\n",
              "var notebookContainer = gd.closest('#notebook-container');\n",
              "if (notebookContainer) {{\n",
              "    x.observe(notebookContainer, {childList: true});\n",
              "}}\n",
              "\n",
              "// Listen for the clearing of the current output cell\n",
              "var outputEl = gd.closest('.output');\n",
              "if (outputEl) {{\n",
              "    x.observe(outputEl, {childList: true});\n",
              "}}\n",
              "\n",
              "                        })                };                            </script>        </div>\n",
              "</body>\n",
              "</html>"
            ]
          },
          "metadata": {}
        }
      ]
    },
    {
      "cell_type": "markdown",
      "source": [
        "##### Naive Bayes\n"
      ],
      "metadata": {
        "id": "q3s_FPPTRle8"
      }
    },
    {
      "cell_type": "code",
      "source": [
        "nb_pca_2d = GaussianNB()\n",
        "nb_pca_2d.fit(X_train_pca_2d, y_train)\n",
        "nb_pca_2d_pred = nb_pca_2d.predict(X_test_pca_2d)"
      ],
      "metadata": {
        "id": "r4eS5XepRqGD"
      },
      "execution_count": null,
      "outputs": []
    },
    {
      "cell_type": "code",
      "source": [
        "nb_pca_2d_accuracy = accuracy_score(y_test, nb_pca_2d_pred)\n",
        "nb_pca_2d_precision = precision_score(y_test, nb_pca_2d_pred)\n",
        "nb_pca_2d_recall = recall_score(y_test, nb_pca_2d_pred)\n",
        "nb_pca_2d_f1 = f1_score(y_test, nb_pca_2d_pred)\n",
        "nb_pca_2d_report = classification_report(y_test, nb_pca_2d_pred)\n",
        "print(\"Naive Bayes PCA 2D Classification Report:\")\n",
        "print(nb_pca_2d_report)"
      ],
      "metadata": {
        "colab": {
          "base_uri": "https://localhost:8080/"
        },
        "id": "eKqAd4tyR2Dc",
        "outputId": "daed293a-6e3b-46c0-bcd9-8c4f18321f57"
      },
      "execution_count": null,
      "outputs": [
        {
          "output_type": "stream",
          "name": "stdout",
          "text": [
            "Naive Bayes PCA 2D Classification Report:\n",
            "              precision    recall  f1-score   support\n",
            "\n",
            "           0       0.89      0.80      0.84        40\n",
            "           1       0.90      0.95      0.92        74\n",
            "\n",
            "    accuracy                           0.89       114\n",
            "   macro avg       0.89      0.87      0.88       114\n",
            "weighted avg       0.89      0.89      0.89       114\n",
            "\n"
          ]
        }
      ]
    },
    {
      "cell_type": "code",
      "source": [
        "nb_pca_2d_cm = confusion_matrix(y_test, nb_pca_2d_pred)\n",
        "plot_confusion_matrix(nb_pca_2d_cm, ['Benign', 'Malignant'])"
      ],
      "metadata": {
        "colab": {
          "base_uri": "https://localhost:8080/",
          "height": 562
        },
        "id": "kdwk-QetWm4S",
        "outputId": "5f3d76e0-b05a-425d-acca-9934ffc403ec"
      },
      "execution_count": null,
      "outputs": [
        {
          "output_type": "display_data",
          "data": {
            "text/html": [
              "<html>\n",
              "<head><meta charset=\"utf-8\" /></head>\n",
              "<body>\n",
              "    <div>            <script src=\"https://cdnjs.cloudflare.com/ajax/libs/mathjax/2.7.5/MathJax.js?config=TeX-AMS-MML_SVG\"></script><script type=\"text/javascript\">if (window.MathJax && window.MathJax.Hub && window.MathJax.Hub.Config) {window.MathJax.Hub.Config({SVG: {font: \"STIX-Web\"}});}</script>                <script type=\"text/javascript\">window.PlotlyConfig = {MathJaxConfig: 'local'};</script>\n",
              "        <script src=\"https://cdn.plot.ly/plotly-2.18.2.min.js\"></script>                <div id=\"0d3928d1-23c7-481c-bc30-fdf693c556ff\" class=\"plotly-graph-div\" style=\"height:525px; width:100%;\"></div>            <script type=\"text/javascript\">                                    window.PLOTLYENV=window.PLOTLYENV || {};                                    if (document.getElementById(\"0d3928d1-23c7-481c-bc30-fdf693c556ff\")) {                    Plotly.newPlot(                        \"0d3928d1-23c7-481c-bc30-fdf693c556ff\",                        [{\"coloraxis\":\"coloraxis\",\"name\":\"0\",\"texttemplate\":\"%{z}\",\"x\":[\"Benign\",\"Malignant\"],\"y\":[\"Benign\",\"Malignant\"],\"z\":[[32,8],[4,70]],\"type\":\"heatmap\",\"xaxis\":\"x\",\"yaxis\":\"y\",\"hovertemplate\":\"Predicted: %{x}<br>Actual: %{y}<br>Count: %{z}<extra></extra>\"}],                        {\"template\":{\"data\":{\"histogram2dcontour\":[{\"type\":\"histogram2dcontour\",\"colorbar\":{\"outlinewidth\":0,\"ticks\":\"\"},\"colorscale\":[[0.0,\"#0d0887\"],[0.1111111111111111,\"#46039f\"],[0.2222222222222222,\"#7201a8\"],[0.3333333333333333,\"#9c179e\"],[0.4444444444444444,\"#bd3786\"],[0.5555555555555556,\"#d8576b\"],[0.6666666666666666,\"#ed7953\"],[0.7777777777777778,\"#fb9f3a\"],[0.8888888888888888,\"#fdca26\"],[1.0,\"#f0f921\"]]}],\"choropleth\":[{\"type\":\"choropleth\",\"colorbar\":{\"outlinewidth\":0,\"ticks\":\"\"}}],\"histogram2d\":[{\"type\":\"histogram2d\",\"colorbar\":{\"outlinewidth\":0,\"ticks\":\"\"},\"colorscale\":[[0.0,\"#0d0887\"],[0.1111111111111111,\"#46039f\"],[0.2222222222222222,\"#7201a8\"],[0.3333333333333333,\"#9c179e\"],[0.4444444444444444,\"#bd3786\"],[0.5555555555555556,\"#d8576b\"],[0.6666666666666666,\"#ed7953\"],[0.7777777777777778,\"#fb9f3a\"],[0.8888888888888888,\"#fdca26\"],[1.0,\"#f0f921\"]]}],\"heatmap\":[{\"type\":\"heatmap\",\"colorbar\":{\"outlinewidth\":0,\"ticks\":\"\"},\"colorscale\":[[0.0,\"#0d0887\"],[0.1111111111111111,\"#46039f\"],[0.2222222222222222,\"#7201a8\"],[0.3333333333333333,\"#9c179e\"],[0.4444444444444444,\"#bd3786\"],[0.5555555555555556,\"#d8576b\"],[0.6666666666666666,\"#ed7953\"],[0.7777777777777778,\"#fb9f3a\"],[0.8888888888888888,\"#fdca26\"],[1.0,\"#f0f921\"]]}],\"heatmapgl\":[{\"type\":\"heatmapgl\",\"colorbar\":{\"outlinewidth\":0,\"ticks\":\"\"},\"colorscale\":[[0.0,\"#0d0887\"],[0.1111111111111111,\"#46039f\"],[0.2222222222222222,\"#7201a8\"],[0.3333333333333333,\"#9c179e\"],[0.4444444444444444,\"#bd3786\"],[0.5555555555555556,\"#d8576b\"],[0.6666666666666666,\"#ed7953\"],[0.7777777777777778,\"#fb9f3a\"],[0.8888888888888888,\"#fdca26\"],[1.0,\"#f0f921\"]]}],\"contourcarpet\":[{\"type\":\"contourcarpet\",\"colorbar\":{\"outlinewidth\":0,\"ticks\":\"\"}}],\"contour\":[{\"type\":\"contour\",\"colorbar\":{\"outlinewidth\":0,\"ticks\":\"\"},\"colorscale\":[[0.0,\"#0d0887\"],[0.1111111111111111,\"#46039f\"],[0.2222222222222222,\"#7201a8\"],[0.3333333333333333,\"#9c179e\"],[0.4444444444444444,\"#bd3786\"],[0.5555555555555556,\"#d8576b\"],[0.6666666666666666,\"#ed7953\"],[0.7777777777777778,\"#fb9f3a\"],[0.8888888888888888,\"#fdca26\"],[1.0,\"#f0f921\"]]}],\"surface\":[{\"type\":\"surface\",\"colorbar\":{\"outlinewidth\":0,\"ticks\":\"\"},\"colorscale\":[[0.0,\"#0d0887\"],[0.1111111111111111,\"#46039f\"],[0.2222222222222222,\"#7201a8\"],[0.3333333333333333,\"#9c179e\"],[0.4444444444444444,\"#bd3786\"],[0.5555555555555556,\"#d8576b\"],[0.6666666666666666,\"#ed7953\"],[0.7777777777777778,\"#fb9f3a\"],[0.8888888888888888,\"#fdca26\"],[1.0,\"#f0f921\"]]}],\"mesh3d\":[{\"type\":\"mesh3d\",\"colorbar\":{\"outlinewidth\":0,\"ticks\":\"\"}}],\"scatter\":[{\"fillpattern\":{\"fillmode\":\"overlay\",\"size\":10,\"solidity\":0.2},\"type\":\"scatter\"}],\"parcoords\":[{\"type\":\"parcoords\",\"line\":{\"colorbar\":{\"outlinewidth\":0,\"ticks\":\"\"}}}],\"scatterpolargl\":[{\"type\":\"scatterpolargl\",\"marker\":{\"colorbar\":{\"outlinewidth\":0,\"ticks\":\"\"}}}],\"bar\":[{\"error_x\":{\"color\":\"#2a3f5f\"},\"error_y\":{\"color\":\"#2a3f5f\"},\"marker\":{\"line\":{\"color\":\"#E5ECF6\",\"width\":0.5},\"pattern\":{\"fillmode\":\"overlay\",\"size\":10,\"solidity\":0.2}},\"type\":\"bar\"}],\"scattergeo\":[{\"type\":\"scattergeo\",\"marker\":{\"colorbar\":{\"outlinewidth\":0,\"ticks\":\"\"}}}],\"scatterpolar\":[{\"type\":\"scatterpolar\",\"marker\":{\"colorbar\":{\"outlinewidth\":0,\"ticks\":\"\"}}}],\"histogram\":[{\"marker\":{\"pattern\":{\"fillmode\":\"overlay\",\"size\":10,\"solidity\":0.2}},\"type\":\"histogram\"}],\"scattergl\":[{\"type\":\"scattergl\",\"marker\":{\"colorbar\":{\"outlinewidth\":0,\"ticks\":\"\"}}}],\"scatter3d\":[{\"type\":\"scatter3d\",\"line\":{\"colorbar\":{\"outlinewidth\":0,\"ticks\":\"\"}},\"marker\":{\"colorbar\":{\"outlinewidth\":0,\"ticks\":\"\"}}}],\"scattermapbox\":[{\"type\":\"scattermapbox\",\"marker\":{\"colorbar\":{\"outlinewidth\":0,\"ticks\":\"\"}}}],\"scatterternary\":[{\"type\":\"scatterternary\",\"marker\":{\"colorbar\":{\"outlinewidth\":0,\"ticks\":\"\"}}}],\"scattercarpet\":[{\"type\":\"scattercarpet\",\"marker\":{\"colorbar\":{\"outlinewidth\":0,\"ticks\":\"\"}}}],\"carpet\":[{\"aaxis\":{\"endlinecolor\":\"#2a3f5f\",\"gridcolor\":\"white\",\"linecolor\":\"white\",\"minorgridcolor\":\"white\",\"startlinecolor\":\"#2a3f5f\"},\"baxis\":{\"endlinecolor\":\"#2a3f5f\",\"gridcolor\":\"white\",\"linecolor\":\"white\",\"minorgridcolor\":\"white\",\"startlinecolor\":\"#2a3f5f\"},\"type\":\"carpet\"}],\"table\":[{\"cells\":{\"fill\":{\"color\":\"#EBF0F8\"},\"line\":{\"color\":\"white\"}},\"header\":{\"fill\":{\"color\":\"#C8D4E3\"},\"line\":{\"color\":\"white\"}},\"type\":\"table\"}],\"barpolar\":[{\"marker\":{\"line\":{\"color\":\"#E5ECF6\",\"width\":0.5},\"pattern\":{\"fillmode\":\"overlay\",\"size\":10,\"solidity\":0.2}},\"type\":\"barpolar\"}],\"pie\":[{\"automargin\":true,\"type\":\"pie\"}]},\"layout\":{\"autotypenumbers\":\"strict\",\"colorway\":[\"#636efa\",\"#EF553B\",\"#00cc96\",\"#ab63fa\",\"#FFA15A\",\"#19d3f3\",\"#FF6692\",\"#B6E880\",\"#FF97FF\",\"#FECB52\"],\"font\":{\"color\":\"#2a3f5f\"},\"hovermode\":\"closest\",\"hoverlabel\":{\"align\":\"left\"},\"paper_bgcolor\":\"white\",\"plot_bgcolor\":\"#E5ECF6\",\"polar\":{\"bgcolor\":\"#E5ECF6\",\"angularaxis\":{\"gridcolor\":\"white\",\"linecolor\":\"white\",\"ticks\":\"\"},\"radialaxis\":{\"gridcolor\":\"white\",\"linecolor\":\"white\",\"ticks\":\"\"}},\"ternary\":{\"bgcolor\":\"#E5ECF6\",\"aaxis\":{\"gridcolor\":\"white\",\"linecolor\":\"white\",\"ticks\":\"\"},\"baxis\":{\"gridcolor\":\"white\",\"linecolor\":\"white\",\"ticks\":\"\"},\"caxis\":{\"gridcolor\":\"white\",\"linecolor\":\"white\",\"ticks\":\"\"}},\"coloraxis\":{\"colorbar\":{\"outlinewidth\":0,\"ticks\":\"\"}},\"colorscale\":{\"sequential\":[[0.0,\"#0d0887\"],[0.1111111111111111,\"#46039f\"],[0.2222222222222222,\"#7201a8\"],[0.3333333333333333,\"#9c179e\"],[0.4444444444444444,\"#bd3786\"],[0.5555555555555556,\"#d8576b\"],[0.6666666666666666,\"#ed7953\"],[0.7777777777777778,\"#fb9f3a\"],[0.8888888888888888,\"#fdca26\"],[1.0,\"#f0f921\"]],\"sequentialminus\":[[0.0,\"#0d0887\"],[0.1111111111111111,\"#46039f\"],[0.2222222222222222,\"#7201a8\"],[0.3333333333333333,\"#9c179e\"],[0.4444444444444444,\"#bd3786\"],[0.5555555555555556,\"#d8576b\"],[0.6666666666666666,\"#ed7953\"],[0.7777777777777778,\"#fb9f3a\"],[0.8888888888888888,\"#fdca26\"],[1.0,\"#f0f921\"]],\"diverging\":[[0,\"#8e0152\"],[0.1,\"#c51b7d\"],[0.2,\"#de77ae\"],[0.3,\"#f1b6da\"],[0.4,\"#fde0ef\"],[0.5,\"#f7f7f7\"],[0.6,\"#e6f5d0\"],[0.7,\"#b8e186\"],[0.8,\"#7fbc41\"],[0.9,\"#4d9221\"],[1,\"#276419\"]]},\"xaxis\":{\"gridcolor\":\"white\",\"linecolor\":\"white\",\"ticks\":\"\",\"title\":{\"standoff\":15},\"zerolinecolor\":\"white\",\"automargin\":true,\"zerolinewidth\":2},\"yaxis\":{\"gridcolor\":\"white\",\"linecolor\":\"white\",\"ticks\":\"\",\"title\":{\"standoff\":15},\"zerolinecolor\":\"white\",\"automargin\":true,\"zerolinewidth\":2},\"scene\":{\"xaxis\":{\"backgroundcolor\":\"#E5ECF6\",\"gridcolor\":\"white\",\"linecolor\":\"white\",\"showbackground\":true,\"ticks\":\"\",\"zerolinecolor\":\"white\",\"gridwidth\":2},\"yaxis\":{\"backgroundcolor\":\"#E5ECF6\",\"gridcolor\":\"white\",\"linecolor\":\"white\",\"showbackground\":true,\"ticks\":\"\",\"zerolinecolor\":\"white\",\"gridwidth\":2},\"zaxis\":{\"backgroundcolor\":\"#E5ECF6\",\"gridcolor\":\"white\",\"linecolor\":\"white\",\"showbackground\":true,\"ticks\":\"\",\"zerolinecolor\":\"white\",\"gridwidth\":2}},\"shapedefaults\":{\"line\":{\"color\":\"#2a3f5f\"}},\"annotationdefaults\":{\"arrowcolor\":\"#2a3f5f\",\"arrowhead\":0,\"arrowwidth\":1},\"geo\":{\"bgcolor\":\"white\",\"landcolor\":\"#E5ECF6\",\"subunitcolor\":\"white\",\"showland\":true,\"showlakes\":true,\"lakecolor\":\"white\"},\"title\":{\"x\":0.05},\"mapbox\":{\"style\":\"light\"}}},\"xaxis\":{\"anchor\":\"y\",\"domain\":[0.0,1.0],\"scaleanchor\":\"y\",\"constrain\":\"domain\",\"title\":{\"text\":\"Predicted\"}},\"yaxis\":{\"anchor\":\"x\",\"domain\":[0.0,1.0],\"autorange\":\"reversed\",\"constrain\":\"domain\",\"title\":{\"text\":\"Actual\"}},\"coloraxis\":{\"colorbar\":{\"title\":{\"text\":\"Count\"}},\"colorscale\":[[0.0,\"#440154\"],[0.1111111111111111,\"#482878\"],[0.2222222222222222,\"#3e4989\"],[0.3333333333333333,\"#31688e\"],[0.4444444444444444,\"#26828e\"],[0.5555555555555556,\"#1f9e89\"],[0.6666666666666666,\"#35b779\"],[0.7777777777777778,\"#6ece58\"],[0.8888888888888888,\"#b5de2b\"],[1.0,\"#fde725\"]],\"showscale\":false},\"title\":{\"text\":\"Confusion Matrix\"}},                        {\"responsive\": true}                    ).then(function(){\n",
              "                            \n",
              "var gd = document.getElementById('0d3928d1-23c7-481c-bc30-fdf693c556ff');\n",
              "var x = new MutationObserver(function (mutations, observer) {{\n",
              "        var display = window.getComputedStyle(gd).display;\n",
              "        if (!display || display === 'none') {{\n",
              "            console.log([gd, 'removed!']);\n",
              "            Plotly.purge(gd);\n",
              "            observer.disconnect();\n",
              "        }}\n",
              "}});\n",
              "\n",
              "// Listen for the removal of the full notebook cells\n",
              "var notebookContainer = gd.closest('#notebook-container');\n",
              "if (notebookContainer) {{\n",
              "    x.observe(notebookContainer, {childList: true});\n",
              "}}\n",
              "\n",
              "// Listen for the clearing of the current output cell\n",
              "var outputEl = gd.closest('.output');\n",
              "if (outputEl) {{\n",
              "    x.observe(outputEl, {childList: true});\n",
              "}}\n",
              "\n",
              "                        })                };                            </script>        </div>\n",
              "</body>\n",
              "</html>"
            ]
          },
          "metadata": {}
        }
      ]
    },
    {
      "cell_type": "markdown",
      "source": [
        "### PCA with 3 components"
      ],
      "metadata": {
        "id": "TWNvGaNMeoTf"
      }
    },
    {
      "cell_type": "code",
      "source": [
        "pca_3d = PCA(n_components=3)\n",
        "X_pca_3d = pca_3d.fit_transform(X_scaled)\n",
        "pca_df_3d = pd.DataFrame(data=X_pca_3d, columns=['PC1', 'PC2', 'PC3'])\n",
        "pca_df_3d['diagnosis'] = y\n",
        "pca_df_3d.head()"
      ],
      "metadata": {
        "colab": {
          "base_uri": "https://localhost:8080/",
          "height": 206
        },
        "id": "VEI7-9x8dqgI",
        "outputId": "f61ec058-d4b6-4f76-9217-010f3c4af974"
      },
      "execution_count": null,
      "outputs": [
        {
          "output_type": "execute_result",
          "data": {
            "text/plain": [
              "        PC1        PC2       PC3  diagnosis\n",
              "0  9.192837   1.948583 -1.123150          0\n",
              "1  2.387802  -3.768170 -0.529369          0\n",
              "2  5.733896  -1.075174 -0.551757          0\n",
              "3  7.122953  10.275590 -3.232813          0\n",
              "4  3.935302  -1.948072  1.389774          0"
            ],
            "text/html": [
              "\n",
              "  <div id=\"df-803aeb66-ff04-45e3-958e-3781bfb53452\">\n",
              "    <div class=\"colab-df-container\">\n",
              "      <div>\n",
              "<style scoped>\n",
              "    .dataframe tbody tr th:only-of-type {\n",
              "        vertical-align: middle;\n",
              "    }\n",
              "\n",
              "    .dataframe tbody tr th {\n",
              "        vertical-align: top;\n",
              "    }\n",
              "\n",
              "    .dataframe thead th {\n",
              "        text-align: right;\n",
              "    }\n",
              "</style>\n",
              "<table border=\"1\" class=\"dataframe\">\n",
              "  <thead>\n",
              "    <tr style=\"text-align: right;\">\n",
              "      <th></th>\n",
              "      <th>PC1</th>\n",
              "      <th>PC2</th>\n",
              "      <th>PC3</th>\n",
              "      <th>diagnosis</th>\n",
              "    </tr>\n",
              "  </thead>\n",
              "  <tbody>\n",
              "    <tr>\n",
              "      <th>0</th>\n",
              "      <td>9.192837</td>\n",
              "      <td>1.948583</td>\n",
              "      <td>-1.123150</td>\n",
              "      <td>0</td>\n",
              "    </tr>\n",
              "    <tr>\n",
              "      <th>1</th>\n",
              "      <td>2.387802</td>\n",
              "      <td>-3.768170</td>\n",
              "      <td>-0.529369</td>\n",
              "      <td>0</td>\n",
              "    </tr>\n",
              "    <tr>\n",
              "      <th>2</th>\n",
              "      <td>5.733896</td>\n",
              "      <td>-1.075174</td>\n",
              "      <td>-0.551757</td>\n",
              "      <td>0</td>\n",
              "    </tr>\n",
              "    <tr>\n",
              "      <th>3</th>\n",
              "      <td>7.122953</td>\n",
              "      <td>10.275590</td>\n",
              "      <td>-3.232813</td>\n",
              "      <td>0</td>\n",
              "    </tr>\n",
              "    <tr>\n",
              "      <th>4</th>\n",
              "      <td>3.935302</td>\n",
              "      <td>-1.948072</td>\n",
              "      <td>1.389774</td>\n",
              "      <td>0</td>\n",
              "    </tr>\n",
              "  </tbody>\n",
              "</table>\n",
              "</div>\n",
              "      <button class=\"colab-df-convert\" onclick=\"convertToInteractive('df-803aeb66-ff04-45e3-958e-3781bfb53452')\"\n",
              "              title=\"Convert this dataframe to an interactive table.\"\n",
              "              style=\"display:none;\">\n",
              "        \n",
              "  <svg xmlns=\"http://www.w3.org/2000/svg\" height=\"24px\"viewBox=\"0 0 24 24\"\n",
              "       width=\"24px\">\n",
              "    <path d=\"M0 0h24v24H0V0z\" fill=\"none\"/>\n",
              "    <path d=\"M18.56 5.44l.94 2.06.94-2.06 2.06-.94-2.06-.94-.94-2.06-.94 2.06-2.06.94zm-11 1L8.5 8.5l.94-2.06 2.06-.94-2.06-.94L8.5 2.5l-.94 2.06-2.06.94zm10 10l.94 2.06.94-2.06 2.06-.94-2.06-.94-.94-2.06-.94 2.06-2.06.94z\"/><path d=\"M17.41 7.96l-1.37-1.37c-.4-.4-.92-.59-1.43-.59-.52 0-1.04.2-1.43.59L10.3 9.45l-7.72 7.72c-.78.78-.78 2.05 0 2.83L4 21.41c.39.39.9.59 1.41.59.51 0 1.02-.2 1.41-.59l7.78-7.78 2.81-2.81c.8-.78.8-2.07 0-2.86zM5.41 20L4 18.59l7.72-7.72 1.47 1.35L5.41 20z\"/>\n",
              "  </svg>\n",
              "      </button>\n",
              "      \n",
              "  <style>\n",
              "    .colab-df-container {\n",
              "      display:flex;\n",
              "      flex-wrap:wrap;\n",
              "      gap: 12px;\n",
              "    }\n",
              "\n",
              "    .colab-df-convert {\n",
              "      background-color: #E8F0FE;\n",
              "      border: none;\n",
              "      border-radius: 50%;\n",
              "      cursor: pointer;\n",
              "      display: none;\n",
              "      fill: #1967D2;\n",
              "      height: 32px;\n",
              "      padding: 0 0 0 0;\n",
              "      width: 32px;\n",
              "    }\n",
              "\n",
              "    .colab-df-convert:hover {\n",
              "      background-color: #E2EBFA;\n",
              "      box-shadow: 0px 1px 2px rgba(60, 64, 67, 0.3), 0px 1px 3px 1px rgba(60, 64, 67, 0.15);\n",
              "      fill: #174EA6;\n",
              "    }\n",
              "\n",
              "    [theme=dark] .colab-df-convert {\n",
              "      background-color: #3B4455;\n",
              "      fill: #D2E3FC;\n",
              "    }\n",
              "\n",
              "    [theme=dark] .colab-df-convert:hover {\n",
              "      background-color: #434B5C;\n",
              "      box-shadow: 0px 1px 3px 1px rgba(0, 0, 0, 0.15);\n",
              "      filter: drop-shadow(0px 1px 2px rgba(0, 0, 0, 0.3));\n",
              "      fill: #FFFFFF;\n",
              "    }\n",
              "  </style>\n",
              "\n",
              "      <script>\n",
              "        const buttonEl =\n",
              "          document.querySelector('#df-803aeb66-ff04-45e3-958e-3781bfb53452 button.colab-df-convert');\n",
              "        buttonEl.style.display =\n",
              "          google.colab.kernel.accessAllowed ? 'block' : 'none';\n",
              "\n",
              "        async function convertToInteractive(key) {\n",
              "          const element = document.querySelector('#df-803aeb66-ff04-45e3-958e-3781bfb53452');\n",
              "          const dataTable =\n",
              "            await google.colab.kernel.invokeFunction('convertToInteractive',\n",
              "                                                     [key], {});\n",
              "          if (!dataTable) return;\n",
              "\n",
              "          const docLinkHtml = 'Like what you see? Visit the ' +\n",
              "            '<a target=\"_blank\" href=https://colab.research.google.com/notebooks/data_table.ipynb>data table notebook</a>'\n",
              "            + ' to learn more about interactive tables.';\n",
              "          element.innerHTML = '';\n",
              "          dataTable['output_type'] = 'display_data';\n",
              "          await google.colab.output.renderOutput(dataTable, element);\n",
              "          const docLink = document.createElement('div');\n",
              "          docLink.innerHTML = docLinkHtml;\n",
              "          element.appendChild(docLink);\n",
              "        }\n",
              "      </script>\n",
              "    </div>\n",
              "  </div>\n",
              "  "
            ]
          },
          "metadata": {},
          "execution_count": 34
        }
      ]
    },
    {
      "cell_type": "code",
      "source": [
        "fig_3d = px.scatter_3d(pca_df_3d, x='PC1', y='PC2', z='PC3', color='diagnosis', template = 'plotly_white', title = 'PCA - 3 Components')\n",
        "fig_3d.show()"
      ],
      "metadata": {
        "colab": {
          "base_uri": "https://localhost:8080/",
          "height": 562
        },
        "id": "Xjn5oEise0Nc",
        "outputId": "94fcc5e6-60c3-497d-9084-cfb8f1b3aa07"
      },
      "execution_count": null,
      "outputs": [
        {
          "output_type": "display_data",
          "data": {
            "text/html": [
              "<html>\n",
              "<head><meta charset=\"utf-8\" /></head>\n",
              "<body>\n",
              "    <div>            <script src=\"https://cdnjs.cloudflare.com/ajax/libs/mathjax/2.7.5/MathJax.js?config=TeX-AMS-MML_SVG\"></script><script type=\"text/javascript\">if (window.MathJax && window.MathJax.Hub && window.MathJax.Hub.Config) {window.MathJax.Hub.Config({SVG: {font: \"STIX-Web\"}});}</script>                <script type=\"text/javascript\">window.PlotlyConfig = {MathJaxConfig: 'local'};</script>\n",
              "        <script src=\"https://cdn.plot.ly/plotly-2.18.2.min.js\"></script>                <div id=\"2845c12f-d1d3-4cf8-86f5-26e888fd172b\" class=\"plotly-graph-div\" style=\"height:525px; width:100%;\"></div>            <script type=\"text/javascript\">                                    window.PLOTLYENV=window.PLOTLYENV || {};                                    if (document.getElementById(\"2845c12f-d1d3-4cf8-86f5-26e888fd172b\")) {                    Plotly.newPlot(                        \"2845c12f-d1d3-4cf8-86f5-26e888fd172b\",                        [{\"hovertemplate\":\"PC1=%{x}<br>PC2=%{y}<br>PC3=%{z}<br>diagnosis=%{marker.color}<extra></extra>\",\"legendgroup\":\"\",\"marker\":{\"color\":[0,0,0,0,0,0,0,0,0,0,0,0,0,0,0,0,0,0,0,1,1,1,0,0,0,0,0,0,0,0,0,0,0,0,0,0,0,1,0,0,0,0,0,0,0,0,1,0,1,1,1,1,1,0,0,1,0,0,1,1,1,1,0,1,0,0,1,1,1,1,0,1,0,0,1,0,1,0,0,1,1,1,0,0,1,0,0,0,1,1,1,0,1,1,0,0,1,1,1,0,0,1,1,1,1,0,1,1,0,1,1,1,1,1,1,1,1,0,0,0,1,0,0,1,1,1,0,0,1,0,1,0,0,1,0,0,1,1,0,1,1,0,1,1,1,1,0,1,1,1,1,1,1,1,1,1,0,1,1,1,1,0,0,1,0,1,1,0,0,1,1,0,0,1,1,1,1,0,1,1,0,0,0,1,0,1,0,1,1,1,0,1,1,0,0,1,0,0,0,0,1,0,0,0,1,0,1,0,1,1,0,1,0,0,0,0,1,1,0,0,1,1,1,0,1,1,1,1,1,0,0,1,1,0,1,1,0,0,1,0,1,1,1,1,0,1,1,1,1,1,0,1,0,0,0,0,0,0,0,0,0,0,0,0,0,0,1,1,1,1,1,1,0,1,0,1,1,0,1,1,0,1,0,0,1,1,1,1,1,1,1,1,1,1,1,1,1,0,1,1,0,1,0,1,1,1,1,1,1,1,1,1,1,1,1,1,1,0,1,1,1,0,1,0,1,1,1,1,0,0,0,1,1,1,1,0,1,0,1,0,1,1,1,0,1,1,1,1,1,1,1,0,0,0,1,1,1,1,1,1,1,1,1,1,1,0,0,1,0,0,0,1,0,0,1,1,1,1,1,0,1,1,1,1,1,0,1,1,1,0,1,1,0,0,1,1,1,1,1,1,0,1,1,1,1,1,1,1,0,1,1,1,1,1,0,1,1,0,1,1,1,1,1,1,1,1,1,1,1,1,0,1,0,0,1,0,1,1,1,1,1,0,1,1,0,1,0,1,1,0,1,0,1,1,1,1,1,1,1,1,0,0,1,1,1,1,1,1,0,1,1,1,1,1,1,1,1,1,1,0,1,1,1,1,1,1,1,0,1,0,1,1,0,1,1,1,1,1,0,0,1,0,1,0,1,1,1,1,1,0,1,1,0,1,0,1,0,0,1,1,1,0,1,1,1,1,1,1,1,1,1,1,1,0,1,0,0,1,1,1,1,1,1,1,1,1,1,1,1,1,1,1,1,1,1,1,1,1,1,1,1,1,0,0,0,0,0,0,1],\"coloraxis\":\"coloraxis\",\"symbol\":\"circle\"},\"mode\":\"markers\",\"name\":\"\",\"scene\":\"scene\",\"showlegend\":false,\"x\":[9.192836828169872,2.3878017869290633,5.733896278005364,7.122953195176232,3.935302074429819,2.3802471497740116,2.238883303807102,2.143298498364718,3.1749242974363274,6.351746788036789,-0.8104137772751185,2.651100473322266,8.185034448948846,0.34212591776230955,4.342379199091087,4.075656176656951,0.2300550078001625,4.41801091512314,4.948703543750048,-1.2370633589261124,-1.5781612300064252,-3.5573363733055285,4.73321079231331,4.208524201098547,4.949632066156869,7.098562852243012,3.51026260334936,3.0640538833617885,4.0072641458729565,1.7153097262541839,6.059445517284868,2.9022360996101337,4.554782692812465,4.990602726267888,2.9853407869469426,2.766369152271422,1.2961987641468975,-3.7493133979660205,-0.9980688996715718,0.7652641148538387,-2.1509534706418494,-0.09333138853447376,9.087999677718232,0.9904537646312161,-0.29354655202017554,5.380940406104998,-4.5819366692691466,1.7000068812278188,-2.136445276223358,-1.5674789986262194,-3.5429055550837467,-3.1578140518973723,-3.4504885425444005,3.3025509528671977,-0.6746192891051846,-2.858158440534807,4.648738863650246,2.176862879959042,-3.721458990595144,-4.135962946990304,-2.3858356657040325,-2.57888324993813,4.759112162339906,-2.31413225067247,1.6916079194175002,1.8123054061914794,-2.7859247607379083,-3.5186483384082963,4.330002644433663,-3.2612794717450506,2.7045961709453206,-0.30785577389532637,5.503705316456348,-0.36170919129603835,-2.629976638345669,1.4281675908904252,-0.8345178771923492,6.230896511489639,11.66871466090573,-2.0215776580778435,-1.6383849392162515,1.1674616115760295,10.769242827692677,5.034811083493018,-2.174464312210697,3.2882353759934175,0.6076079438084148,3.583563622260925,-0.9341581068804258,1.2596046486845833,-1.5882639692726257,0.25249757356407854,-2.8474315888634796,-1.9649501135193859,2.775865573119446,4.396227952819702,-2.592082828701687,-3.9043381521005416,-2.818231213683335,0.6162808665768593,-0.43286022032570765,-4.55502883945841,-3.4481835434333643,-2.1159602626217064,-2.691352201264934,3.2139167609065713,-0.7492713612769337,-3.1590060364616144,13.056121867532632,-2.228679814473165,-2.49283103314721,-0.10335042410972929,3.591294124773979,-1.3489486787627767,-2.5101176776668868,-2.0460295714478427,-2.0970691571382956,3.1105276904321717,4.956725570246132,0.8510142545502088,-2.965999209273636,3.33413319099614,12.894612149788301,-0.7707436793364874,-2.202515520810317,-3.143412244058606,-0.6388805022387996,1.919133420535126,1.4088683679163265,4.643691324953333,-1.8774673663321981,1.4320694277948243,1.352627025776568,-0.7091148328345964,2.1714160148414274,-1.9768403590666455,-2.60078951070528,-3.258007357782603,3.782026452092479,-1.9920347191085457,-5.015008689658367,1.3450204360972096,-2.455968813736798,-1.8372816695125862,-4.346489710356204,-0.7328129155364814,2.399997838719422,0.39309865873645783,-0.41232781252241896,-3.0499249373678294,-1.442563729269853,0.0831860988655476,7.093306680041816,-3.7434045422420072,-0.9691728175245439,-2.418719908337913,4.100787732500913,-0.7516030050746777,-3.654646530510039,-4.680211579106475,-0.5977817668128671,3.387330762999069,6.149886187820667,-1.3250313460274141,5.494152789334025,-2.9974032071441066,-4.386732719157496,1.2136346079766533,5.069661083866776,-1.977701438730796,-2.5148764198905904,-0.9474878973747302,2.8193683445139386,-3.483986296989199,-4.658729572497851,-5.351618110040282,1.1708977662088809,2.956301868826125,-4.975702058900099,-4.0640256593100075,9.51266984484175,9.007165534301839,0.7588784779321387,-2.6593596150199685,-0.39001897993836027,-3.88906552795539,0.36487615048964955,-2.8358909192523565,-3.3102836241035436,-3.357304396675862,6.523116623322494,-1.7177351797637357,-5.565735900555046,1.7796614856474646,2.61148490425473,-2.819038509843556,2.4984388740078076,1.2770271785950609,3.47319734340744,1.2566751075899087,-1.473431371819152,1.649460694472687,9.036589486127355,4.554590056526299,-0.7811899671648268,-0.22309260976810077,-3.454895385046301,0.4465443943706558,0.3144382290465421,-2.0591919423368017,4.808969244079738,-2.9987105278633135,12.285019772058208,3.372196592057175,2.5087663056069296,1.3180684749674043,-0.3887563018378052,-2.7569329927808197,4.943581009974398,4.29807732760766,-2.373501801225917,-0.9671903074143503,-2.9757987886933397,1.8032470169393677,-2.478359516131846,-0.8260392934859802,-3.8946973275285286,-0.3895780875032646,-1.4573213567825918,2.7555680021179163,3.257254675424729,-4.0191402345268425,-3.676413291023463,3.316324114215792,-4.036607365259983,-2.334233352539779,8.403847111614798,2.647568629248761,-0.6817688609647212,3.350295795781474,-2.227720518094033,-4.477584656186884,1.3226214178981284,-1.850089856367225,3.7955656457731,-2.281318102428059,-3.228770119333399,1.0259007903004282,-2.5825558397331974,-2.485883226893632,7.143842042741809,-3.032481138330008,7.085010645847498,1.3140989995334789,3.711649508469437,0.46047909221661276,6.392649927219618,5.255544950478663,8.733861513518622,3.6913178817540206,3.378250871674675,-0.8402096554991302,3.284372617142215,-1.9087689291042562,1.6147819205091103,6.619726338443796,-1.4646759278339796,-2.0121524269572264,-2.284340253248749,-0.739743085906438,-4.506562508944352,-3.1587543018463884,7.676149474999235,-3.639135970318096,0.33734548800000896,-1.2765833786812801,-4.346014052530558,0.017430789547100953,-3.4924260373580727,-1.8665488532246284,4.9602681165086295,-2.470722689023199,3.785060099732449,2.6372557845714906,-1.3726850202227967,-4.138882570267863,-0.6869402940472489,-4.3121295809619795,0.4033094247920158,-3.003605798949133,3.1340081913588977,-0.4178368681619063,-1.4202231401533532,-2.8705883498823357,-3.365845701064697,-3.315000155819812,-4.7697101598674765,-2.3858827619002763,-2.78709600810754,-3.3938417633387528,6.590235940256096,-1.4553305143857809,7.182933104693542,-3.5788354046638164,-3.057032638012445,-3.0744358285137934,-3.8535397335224797,-5.390256392283441,-4.657682333857979,-4.027542388874205,-3.3478219438756858,-3.2998420117023004,-2.1364041429941847,-4.038017140730935,-3.765414549918991,-4.871239380454048,-4.747248512009939,1.8953162748356358,1.5729311483160664,-4.02662025276411,-1.2948661723403947,1.8348404674034806,-1.8103805624503138,7.236485309883047,-3.1456501876063787,-2.8872680563214184,-3.149653985948637,-4.628379480500083,2.250510373565351,2.1078012325116298,1.785949980619715,-0.527696615877283,-3.2135009784007607,-4.386422966666908,-3.8100178716718953,3.319673964009479,-2.393275963260101,4.680166253583659,-3.0676951432944417,7.353218572827494,0.29531318391250266,-1.9389694916302949,-2.0771789219951304,4.975162352552109,-2.176916879805625,-2.431551454583909,-3.3679657813174244,-1.2065977943885522,-3.3260792513418203,-1.9287953984918627,-4.041835089445853,6.182283748065765,10.934298163155407,2.118496926434225,-3.012194969560657,-0.9826485764073706,0.357893861005216,-3.1939178673683797,-2.993233296143114,-3.1939141512007407,-4.591961849447459,-2.485916151420987,-2.3986653463283734,-0.779615200027631,-3.1399884259104067,2.735011770536701,6.2270259874796645,-2.2237757461415275,5.307140011697349,7.24800106588632,4.207220616613505,-2.4996363720084345,3.635014947904929,3.5192482721567395,-2.6149483067633605,-0.09610811456652635,2.044856936181845,-3.0667495255610566,-1.603586447296962,3.7659321566071084,-0.9255666069104823,-3.288349591226886,-1.5548521484322848,-0.39877991935339263,-2.300567819056726,-0.542901367162657,-2.0588194559578095,-3.4245180529906865,-0.4724065548745049,4.703500724409246,-3.6433802377170363,-3.5946893418591763,4.149097338848488,7.6721415587397965,-2.010379411964765,-2.9208334957508617,-0.5007378001509389,-1.9114985711562797,-3.7850992288779493,-2.7083939687095344,6.2896734814222635,-3.430770694341904,-2.001388465575819,-2.4732930947489864,-3.6472577434837463,-2.3461868501029812,-1.1429969260086574,-1.3508573063102831,2.7633707862403476,-1.9693236100065061,-2.931187061708375,-2.9263743889431466,-3.9961882745327526,0.15513805841431108,-0.9340908107530639,-1.9296217266582727,-2.6223386054772515,6.003616585446739,-2.921877810740819,-3.341944804967224,-2.0149150333649053,1.9884621134194786,-1.6696039268535536,-0.3711781111934971,-1.8489599283474827,-4.703042200897244,-1.2831871511565571,-2.314246821548576,-4.659085174960638,-3.9434733765219128,4.949858473820351,-0.9158035169017724,4.549111145483186,4.442342815438669,-2.1949842998630427,0.6644409111447335,-2.2408760524835514,-2.125180438350895,-2.615317412861453,-3.210967975245234,-0.30675039942275,2.4723569152957414,-3.454718367342331,-3.9005268492463485,0.9817275430781373,-1.257251569845625,3.2454136512731826,-1.5572194124463679,-1.2492580947577543,4.331653341925502,-1.0774513297695738,2.5117531062386376,-2.2170923048192606,-1.1738306483218726,-2.8363014465554195,-1.8570858988358758,-1.3286143694429111,-2.8027713564053176,-3.1745687945117655,-4.087077357514413,3.475493741765907,16.31923323230336,-2.5601150117982288,-2.9688887982041745,-2.757430449536013,1.3703398752637748,-0.417664487391699,-3.8383986225997737,5.930964858313115,0.6454786475267418,-2.6838464029408504,-2.0416640534601456,-1.3992963484858592,-3.5364152950703107,-1.9905294424739783,-1.9981853655923416,-0.5206581103672595,-3.172370485720843,-2.202710191423377,3.8244330494027072,-2.985484687061969,-2.4810551080625545,-1.2721114621839575,-2.2351568871356062,-0.05618310064277562,2.3173906042993573,-2.2843312595102856,4.75461486925756,-1.7263109200528097,-0.7417817704951014,-2.894310663528633,-1.6545218456881416,3.103519702275729,-4.064270598775432,-2.7933306559768525,-1.474919937788195,-0.22939463601884524,-2.5532584079014735,3.715705101579676,5.09484184648244,-0.6006161078807937,2.7903998259831173,-1.4087712133816888,7.259178835162128,1.2988665468257286,1.076693279187806,-1.2497605195660515,-1.2569284103289537,-1.1665352166695038,4.094142557383298,-1.8876392421349044,-2.767435702079634,2.226994487929316,-1.1315768886784194,-0.7337724507712187,-2.3336707343521033,2.6972237550827933,3.379014668542404,-0.1998705768468709,-1.176025913512312,-1.292636539843778,8.630755860494757,-4.429456370260477,-0.6198387431395493,-3.2523157682835766,-3.352927057191117,-0.8598029880615183,-3.156621970680445,0.34652810521924204,-2.461406649969387,-1.5301007231697668,-1.773585065653621,-2.6804416243828655,4.028435261335073,-2.1363512275871317,5.16541095390656,0.5359319503442602,0.3431233822947223,-4.197079985730558,-1.1428318581417776,-1.6654751514196104,1.0117124976954979,-1.30092971314487,-2.3734287213984753,-1.665871008380472,-1.9276781920299073,-4.2372166174152746,-2.677870722647257,-3.836497854499271,-2.5514402946290553,-4.694923437079574,-2.025037164003195,-2.895948202945684,-3.5022010387887113,-2.1539036625739048,-2.0550840695576094,-3.877289572231072,-4.063862109967482,-0.09866732644643485,-1.0893761907782462,-0.4817709649863788,-4.870309515198959,5.917612596390497,8.741338081839793,6.439315482151571,3.793382367544005,1.2561792794431577,10.374794070226741,-5.475243297832842],\"y\":[1.948582685364388,-3.7681702135462642,-1.0751736090698552,10.275589607606248,-1.948071673920735,3.949928973539175,-2.6900306060083294,2.3402444266560702,3.391812194818403,7.7271743610310475,-2.659274390429721,0.06656854915138616,2.700978186473281,-0.968279866310605,4.861082564876422,2.977060990845671,-1.5647564730725128,1.418670502000815,-4.114332492105988,-0.18821469023149526,0.5728075329336546,1.66294990790982,3.304963057629189,-5.128365223064753,-1.5437511033391067,2.0186106526571668,2.171625205929622,-1.8765518900894456,0.5372417335020253,-1.5237049575956492,-0.7571781751374549,4.00529646948595,0.3375353481710315,-1.1325894410307344,0.7584236128444541,-0.3543550389922061,0.9131963934601178,-1.4134727617119753,-3.351293000438031,0.8862439441801003,-1.9239916509581136,2.260752258783638,2.0186729937077104,0.9849301570702393,-0.13709895318670373,-0.13487690706805788,1.4842198233746446,2.352272651657763,0.09582939511143046,-1.2084330054612509,-1.2824959810088297,-1.6889582663193685,-0.49821887028667683,-1.1309381652586834,-2.116409155051186,0.1527231579672268,-2.310331102095345,0.9721163975233363,-1.7876420605381562,2.4037930891203176,2.757658480802675,3.138671629600441,3.01167907832578,3.2679898741275766,1.5406770831468257,0.722739956869609,2.3106494220708447,-0.6583097720626448,9.202526729138897,-0.9378383390657161,-4.437141528691984,7.387812446152099,0.9383251850958573,0.11973886237535177,-0.6973094226570152,-1.9671011364988982,1.9656040237444767,0.9200695966817213,4.748615267590278,-0.25489987595790353,1.7159495221505798,2.5145157289477345,-2.257984235297665,0.7744093198511065,0.49687841179952175,-1.6682356187290317,0.16221474629585977,-2.2066612611080187,0.9277018669410212,1.0155768044647469,-1.6196572854920643,-0.5313525280113407,-2.8936473245461087,-0.9651568825538968,0.5579997485966507,-2.123507376969427,0.213634124782159,1.1900669373603312,0.36788406400133217,0.6389122051791102,-1.3920444539969894,3.528785910220783,-1.4246221086348276,1.8493732928293976,1.42006116037038,4.046756835554255,1.7976393231747505,-1.0357495480257364,0.981511742872177,0.667410822981938,2.598685860180371,2.280143226398128,3.926332115201011,3.556224555402034,3.2513199258509298,0.30488467198949815,3.667094031323987,1.5693899535558922,2.3848461514403163,-2.306734074270358,0.3715068855803511,-1.3255561927377937,2.3166198391298467,-0.06410890537642476,-0.7356057472962058,-1.8774092057707195,-0.9113656422575155,-3.538081991341518,1.3049286432916152,-1.4820185693264003,1.4232311033167955,-1.0496042499866118,-1.1541415158453259,-1.568232171492397,-2.8262601226653468,-0.41938681685396817,-0.4823344017806367,-0.41832173105275383,0.86038208147868,1.3293546388938822,0.5746999003081598,-1.2747706632337166,0.898455832568974,-0.09102672239410826,-0.8935726240072402,3.702182290731354,4.8379895268698,1.083068891599154,-0.38963137593691266,-2.2377850159605615,0.3058701241293914,7.150360420522109,12.573199836021475,0.2505014037591011,0.9449448233013539,0.005552474135364251,-0.3788048442717026,-3.070648618913991,-0.6746484069813359,-1.1038568079001272,1.7856508590446665,-2.911036883950977,-2.017652526688698,1.469293905496512,-4.165827811174812,-2.7388610259846615,0.006871955885024088,-2.039038324567956,-1.7851528515837034,-1.8427795391503767,0.11425242343119009,-1.684752696329046,1.2651028761226906,1.6196918327036691,-0.22291572888835892,1.026757000043353,7.014488521714383,0.7064215492042643,-3.3862054062225257,-1.2461660544755935,-5.603484283897095,0.5810298270599021,-1.608531479324006,0.539935749141627,-0.9892424405689487,0.8160717780163627,-3.5744609863851746,-0.398729547548723,0.15574174897263698,-1.1037334434383221,8.011169140191027,-0.5431650063109233,-0.47784734237283766,2.7765877530793235,1.561419885423472,-0.9701105427831086,2.278483499982671,-2.443259503142363,-2.2778489356143976,0.38239401520337,0.11689060139450451,-2.102290885799788,-0.6551737380622098,3.086640495559938,0.6528492741046626,-0.7018209658532588,1.3069385308320813,-2.7877074455037043,2.0775603554899464,-2.472787834105092,-3.0291028176468093,-0.3967781008500044,-7.543412113824359,2.5878253678465044,2.614649438730319,2.1544798242538747,2.276798444279169,1.0868349442816014,-2.848323725865575,-4.666274812597638,-0.7334026312895338,0.43843750080064603,1.8109739219992262,0.16646157414151885,-1.418575863799196,-1.2502473544592387,0.5385706264015439,-0.6144158862773876,-0.20172677367678302,3.4657733970997557,-0.12520092532233676,-1.3542483824059757,-1.291629435336748,-3.939152334258239,1.162546616173317,-1.3489792966018508,-4.153904379592318,-3.951172243720851,-1.1359919240332101,-2.1545709535634123,-1.2149998550953256,-1.7411292657012525,4.789476797617732,-1.5841288187810447,-1.0262332397050749,2.077686477082527,-1.1720732621671484,2.3612614170387327,0.7292135272238434,0.46059658549812077,-2.074842914391639,-0.6494692413971737,0.5282236260900097,-1.7754252275993665,-2.8074760846386284,0.3941660244865399,-1.8230952855350882,3.894530744401585,3.279875702305566,1.0656458010018326,-3.3712277109037276,-3.500084664429786,-0.9906728083288596,-3.121945618216248,-2.4745726191976236,-6.003275013689612,1.686630847749808,-1.1034867622120013,0.009493861208417479,3.152520641250902,-3.169272834294658,0.41030182580844404,-3.0753067663603497,1.589587546896408,-3.1443726456184855,0.8490527599008602,-0.3219783392523118,-3.4593429350200102,-2.634082378986622,-0.9020642693220954,-1.3411228299633164,-0.13802562913131483,-1.901906870314919,0.5771537784861424,0.005804926081051367,-1.3765087115120136,1.6950100089115445,-1.9784864439181749,3.7234334764335175,0.3541607745170455,4.273461425195791,-0.8085763692650189,1.3939789518554362,-0.2686442020523274,-0.807601041737046,-1.442176016762323,-0.5429619197418257,-0.8241150190534731,-2.533034192518737,0.7539626589012167,-1.4848619422884173,0.5919422836328314,0.055145774932525544,0.8915832192307477,-0.17921403804681674,-0.3060589370771961,-1.5247263107732392,0.5562553094924544,-3.065387539578084,-2.542906962119308,-0.0685626011377008,-3.138709346142171,-0.004392756490729331,-0.24069817683392455,4.398199846904094,-2.339215292067694,-1.7984026798436958,-2.392237802947782,6.509098189540119,-1.402206517403723,3.4708089439754928,-4.3215229920251685,0.3962079100262728,-0.03570105818045429,-0.7425266593658082,-0.4647319179495488,-1.7712480496963403,-1.8356187456217086,-0.34853585718125013,1.1219730879516756,-0.26922172795287963,1.2658714123058885,1.1034428089082176,-0.7611036712199255,-0.9099182004176919,-1.5770516923151852,0.9900307402129956,-0.9685913913648176,1.135838002510584,-5.242622846204195,0.22693496256071904,2.5449872621870315,1.8065196366311134,-1.3325712630629882,0.9589112971157792,3.4472038037915964,-0.5629284656833847,-1.3170437030210427,0.47517202026510175,1.4614692531922344,-1.3569176107099792,5.108004333121177,-3.703254880087115,0.2966299478684547,0.2437598264633782,0.7972516040678754,2.1278388576516147,-1.849151714923824,1.6313913053350408,0.5793395742317133,-2.761127829236408,-1.1889398878317923,-0.2507447078666961,-2.1243433312025144,-1.4880221155386284,-3.945167954569674,-1.39010948178022,-0.3571606418339252,-6.723413287274442,-3.6554699865274283,1.176243221049069,-2.0185359347216103,-1.9564410951008113,-3.85860668077797,-1.1024745102999352,-0.12984778616867193,6.426819705070513,-2.182095961806793,0.29259684524689916,5.985294940334709,2.3024819901690132,0.2013108782421291,0.9798574817921601,2.161212982404097,-0.9320780036187953,-1.3170675024836138,0.32043512694529547,-2.445518740094435,3.702829929433827,-0.19595443772916782,0.7868597601032249,2.605086872423022,0.7674893568089166,-0.8604851891982476,0.4296892965569318,-1.7004722706567221,0.1067314204922842,-0.6513945792104259,-0.32614620842921466,-0.2196656753954686,2.036545394082561,-0.992609592216822,-0.29332656847684724,-0.3350468742758703,-1.2413656407944524,0.6827411864221256,-1.962171525123997,0.3695743257652609,-1.0786335074613804,-0.1758477384873771,-0.4948552306703303,0.3773327337882478,0.9598556385824653,-0.4380080242742552,-2.105945519186875,0.8924661350355431,2.5021022186847373,-0.09102832464276042,-0.00921167807967752,-0.02222453971908197,0.7784521798665425,2.316046887656018,0.8623182059008867,0.1136122292363234,2.5412294007813236,-0.43230261091698924,2.550909416669398,0.4020318273214252,-0.7822990028566874,-2.0300171739538544,3.006062027229206,2.4790128432231984,-0.8160003452922346,-0.9924384025145253,-1.805353405747988,0.43686139956971687,-0.45458963642150263,-1.1947966627454925,-1.832060150943602,-2.2351427712025354,2.184998935890712,-1.4998245382319983,-2.1364622950699004,0.730776158647856,-2.2104301049843267,1.0676913580569212,-1.7783590729817533,-1.0379270325914243,-1.5888390942344865,-4.049332023546375,1.8036180951162455,-2.528808198960787,0.029891172731067697,-0.4748393199005006,-1.0181254600247205,-1.571393114643386,0.7770951344559618,-1.6663016992730433,-2.0757340162226727,-0.4847106892402677,-1.672883340383701,-7.775852839828099,-2.494046452586802,-0.06884680128002646,-1.7939190904447568,2.110011357643858,0.11651881217418135,0.8991785698739087,1.2282968205900218,3.4260114601986658,1.4435558282341876,-0.9032557750197745,-1.772226510803955,-1.246854211031505,1.8994618885544312,-0.20637140435695583,-0.9733680975229705,-2.0890526985490006,1.2860397720949461,2.305235248342457,-0.6733397225765527,-2.3639586525314114,0.5098340320665963,-1.2987046049810553,-0.2273839794778658,4.389134728887513,-2.4668409867422763,-1.4894234021150576,0.9981782054458481,-2.4520342562149327,-0.97794387984163,-4.5556641207893565,-1.236152905959337,-0.5609541030728838,-1.0778883360927198,-1.591094160466503,1.5159032707722186,-0.7639004267103348,-1.0586858691965224,-2.0192082594827347,-0.8384555055126591,3.385561349600211,1.5057705010179592,-5.4957347148923255,7.7298532530081285,8.294774978605632,1.5956830881270476,4.11718750361183,-1.6656933480619833,2.802927239760693,1.6721918436173167,-2.1610489163096513,1.9416349348573037,-1.4110023518637769,-1.9436974067780142,0.7901462222088933,-1.9437100830580691,-2.33342901688811,1.0763595558412893,1.0113702886993683,4.96422492986275,-3.4594520154378383,-0.786036110958961,0.636349805855766,1.2859251172174633,2.6733012139535695,0.09684891804348654,-0.8715423287526582,1.541226665065236,0.6008478647162705,0.4052180760576955,0.804209969924614,-1.4847087598283188,-2.9414301238832667,1.518580518381015,-2.3822041695078404,0.38071493961234115,3.534481259280052,2.3673921032173846,5.599457525571674,2.3896179233599217,1.0923893229720958,-1.8214150888804126,-1.6815768141914613,-0.21396316059833484,-1.13773996076339,0.18427242094146437,2.3157930607532258,0.496250323996309,0.22832975527444496,-0.7674793272626546,1.261241859778224,-1.451636175762499,1.8008321912695586,-0.830069622695436,1.6164595005707634,1.0842535961492221,0.122167555879844,-0.21356077916402366,1.2928480266868512,-0.1780196800766546,-2.131106612115638,3.482635424374277,-0.5738554205203004,-3.576817217875451,-3.584047403798951,-1.9022972479545939,1.67200834565122,-0.6706377332567239],\"z\":[-1.1231502149905899,-0.5293693782094222,-0.5517572652450173,-3.2328125564065355,1.3897736590563303,-2.9348806005133015,-1.6399482307949094,-0.8719676765976007,-3.1199480942110034,-4.341924827117158,-0.4888859136304197,-1.5264873258288028,5.730146982092551,1.7172037996594005,-2.8160748460762033,-3.1252620902596147,-0.8025848955817791,-2.2703284713029883,-0.3148050710040281,-0.593297256075226,-1.8014126781286144,0.4511873082714408,-1.4665026961614707,-0.7524712990906341,-1.713260087807918,-0.029027662830510323,-3.894549578520958,2.581725440117499,-2.7616060509972997,0.14618389838690132,-0.3492034106736086,-3.001510988602446,-0.754261824357673,-2.5773548675040154,-3.4937791991457656,-1.8970093450300687,-1.575773607805008,1.7322907555213305,4.3055811968971165,-2.7049168329492614,-1.1804830721325332,-1.9047405902717378,2.141230948626837,-2.3107415827305386,-3.3019392233908267,-1.6788465294020747,0.042098713189830744,-3.0781320268243206,-1.4924013669948386,-0.3691702244380421,1.0182315328920704,-0.4963096160421775,-0.15250958635961603,0.8264103935386984,-1.3962488214322522,0.42893382979198474,-0.7288862294919031,-1.9439058183226787,1.2799541479282068,-1.2429894537626456,1.2140678493648198,1.4002946598622779,-0.16616842196629156,2.7962135197770484,-1.7998735025657011,-1.466238294242389,0.4726893481192266,0.5913898283524281,1.4929086950379817,0.20514153784813666,0.3073309119854129,3.819067180645054,-2.210119127887371,-2.0409436161160683,-0.583939351975103,1.1119237112659117,0.7904746670188041,0.08982524747692859,2.005978764692325,-0.6478695241300646,0.4341854489632233,-1.905712624752888,0.038904590405719426,2.6823294317000066,-0.9491141465731833,0.1468576987932294,1.6373633342580114,-1.7045653273232877,-0.04018294483314284,-0.08057946230189206,0.3100234982627536,0.5893786353563155,0.5279728760569169,-0.08121385490465168,-0.6057329759629663,0.5794934400737581,1.03560273250183,1.5519658904851428,-1.351440088602682,-0.19994592298622682,-0.08271321374820714,-0.21525911792884964,-0.08874229751970858,-0.5566585806225998,0.9691803877083964,-2.715414923605542,-0.5684069254726015,-1.4906783834451791,0.5988858060062366,-1.0915700179898937,1.6697460373102482,2.10957927526896,2.047058192818627,1.7322195838750554,-1.6876456403855955,-0.5338286872693985,3.632294503361054,-2.613957760225376,-1.9351034147321313,0.5673960135585913,-2.066554170951022,0.7279545909774144,6.328831649442137,-1.1344246413649492,0.26710616897523387,-0.6703594970503941,-2.142745164589475,1.2549056806883476,0.6414682023838324,-1.170609212204442,-1.0708348510376051,-1.2619976315552714,-1.2097920475184807,-0.6700019456060761,-0.5621389691209229,-0.3806073410412709,1.8723177614006166,-0.6917899166889864,3.6709752013704127,1.1352714885465116,-0.8424343184638203,0.5558280156180866,0.3531058610026542,-1.4452831075287005,0.6392730509101895,0.6585100134407837,-1.028193585866583,2.247563612070756,-1.0457673870461317,-0.46942759656471444,0.5515655771430316,-0.060040164018774794,7.358416305549234,-0.09737705759374483,-0.8908376994888745,-0.7983833210868068,1.4463693358662737,1.4491803581489924,-0.9070030373716496,-0.2573314264690374,1.4817362787795816,3.007227727332291,-1.5661587274993394,0.8484282709366643,-0.6013348696945149,-0.16118445295670217,-0.9480919128149312,0.9806633929235992,1.1736714431530517,-0.2773532918640267,-0.49662952685925743,-0.35123236365335364,-2.1531322453604793,2.675478310526505,1.559404930384988,0.3250292836174309,4.2717601788044375,-1.0423191130356917,0.43986590634889877,0.5744724638966053,-0.6372354228913847,-3.1346503240584993,-1.5151528795890346,1.7070168358086233,-2.585163009565038,1.0157130027360572,-2.2239913313681727,-0.3474529864018473,0.5414505196127516,0.15214114913676804,-0.3263987603353533,3.2983491544259547,4.127450510615592,-0.9427918270607898,-0.2180936915231042,-0.3825928702003228,1.3194457900316394,2.466344812752677,-1.2386819875814283,-3.838359569502391,-0.21468617433689688,-0.9752812609453281,0.22132867836040654,-2.270475762966538,-0.6436582453768989,-2.2707876526984294,-0.029254928272077707,0.4443672512846744,-2.083291263589788,-1.4617162843280607,2.7440126850572515,-0.5964623656490861,10.112534404641869,7.092079864908028,0.2063320178607074,-1.786648143362705,0.627303770756964,1.707223827332357,0.9138407758231344,-0.006862930130783322,-1.526023239369599,-1.4476614755721238,-0.22344236929017278,-2.628630297810233,-0.3165632332466817,0.26795379111065964,-0.881552498021547,-1.3528472428129656,-1.09887654721446,-2.4740394366667844,-2.8960758314591875,-0.3604215063444938,0.4246297787533186,-0.20544898684639767,0.18972163180816995,0.23266585945635657,0.04694727079759446,1.3718463250595354,1.2337067606202832,-1.1088971108725398,-0.1924052427675587,-0.8882120918065488,-0.6625449469231834,1.263951426836007,0.8986671222279489,2.4306237907883754,0.2646535231025649,-1.6168577074343757,-0.5481642696651027,-0.5989299700310328,1.088421264574635,0.3107046328495387,-1.2800087883443794,-1.6726628075761214,-1.7562470498641198,-1.004685655229811,0.4799067733628585,-0.8338410620632197,2.9037832886217294,-3.5155740446085506,-1.7667873634289917,0.1824657475620437,2.5543658144311676,-1.0630662350192885,-1.9911735942343225,0.98930061542111,1.1699546134797922,1.3380346450893255,-0.45045097427144326,1.469855228989796,-0.18804830579042428,-1.1088188720259649,1.4819820274221638,0.7162551763008513,-0.11576186310390517,3.0700798260174604,0.3884889810397785,0.30690442109737587,-0.07218944120353447,-0.8711656117963423,-1.4570646181854638,1.7948528872458627,-1.7442708548248604,-1.9946367287595623,1.5493161233105517,0.878073113419689,1.0261930043771545,-0.2512904105094987,4.586495437117777,1.2339868218768406,5.8661788109236,-1.0933007073979297,-0.8370280149639083,-0.46900370401709773,-0.80705726070296,-0.5836428944570085,0.8938707015030983,1.9839349556681933,-0.8840243689253278,1.7718612564438494,0.36131306652870976,1.1463703378783476,2.0129332187956646,0.26147610656030373,0.6218063515480782,1.2592791680753195,-1.1445139101560144,0.5600797289530026,-0.07600395956138546,0.3532126573789965,-0.2702160201338345,0.14888948604457464,-0.05514362920819093,-1.3281204793560666,3.9502412225534353,-0.16826910406070505,0.16975637152931616,-1.6765017108228866,2.1672151598894747,3.186503494930441,1.1095117999742259,0.31668727995872303,-1.2303650361671477,-2.8411055960458564,-0.8623456093115852,-0.47572811420323324,-0.035851202063767254,0.06425073814526454,-1.0647557980807751,1.7752020704950544,-1.7225104553320716,-0.920429663376798,1.6119987927887405,-0.4006008207732176,0.44314996525788575,1.360667991745465,-0.7575061760577982,-0.29135196509586403,0.37459957585308223,0.31693902789017925,-1.089412586136,-1.0013803877779808,-1.1670864755533428,0.8709305999005416,-0.23426648838925718,3.456947971000136,-0.19259544435163725,-0.9307729626509414,-0.8983075951147128,-0.10061389173988576,0.5383490414364475,0.521197509491971,-0.8916555633122841,0.8674408642318713,1.9837398418900776,2.3694614847048037,0.7081973301520501,0.09938034380730229,2.5567628494980825,0.4897559170468893,0.9805797850438409,0.34880146405215734,-0.32714157069188454,0.3207844015448073,-1.1988804630846908,-0.017183140195260016,2.7342267504455946,-1.1016866641605119,1.48557500997776,-0.15565974997686624,-1.5900355905584436,-0.7312578775849314,-0.8287641362454324,-1.022552705338505,-1.2407325239356266,-1.6714513946074905,1.2741280830216866,-0.2790486777523463,-1.5862558680987866,-4.8803388953186,-1.5961411473340237,-0.6277337645845172,1.1965728855003497,-0.9456185924941126,-1.1299319800798786,0.9957338230464643,-0.12245727071876263,0.04506573172619065,1.9537591157579253,3.756968793902112,-1.1621385821476868,1.8520460500516664,-0.8880031061103274,-2.153597374520024,-0.10407606620967477,0.29571715993164027,-1.0287459740452953,1.4503235243916248,-1.0580882535284633,-0.3145085695830553,-3.1819792897815597,-0.731718534661216,0.6192088569735783,-1.4823692473068573,1.3866512710475445,1.1327400332203907,-1.2407176486298548,2.486653269446089,-1.1796235735824747,0.42069079631201534,-1.0171236003789055,-0.886818734790832,0.2044272631115669,-0.46145456763548104,1.4329139389206118,0.04237298277108865,2.4349687065514054,1.711153819879889,-0.9013534559177332,0.5032914992813075,0.12557625768424951,1.2363637295003147,-1.0102736734819742,-0.9983414000094194,2.005360235742807,0.005314271475628697,-0.08386604369893313,0.27460436337212646,0.1921346108748467,0.6917808683889217,-1.7539632754609469,0.3626224441776689,-0.518762254953861,1.442294026700536,-0.4351004425146254,-2.6808098194708685,-0.46552087329387226,0.49035950076483464,0.7643152287421808,-0.16622033533088074,0.03928028238801879,0.5914423989900653,0.1972013341708675,2.1360618086787153,-1.6999103307015988,0.2594841773126584,-1.793131312573241,-1.3012481483775133,-0.32639787229630474,-0.1925268775409282,1.781044965647292,0.7982348891562335,0.6364662851645967,-0.48158004721320896,-1.4866481847657371,0.8264830627554272,1.256784863378583,-0.19401483403022352,0.07492040580723772,0.6313946376573187,0.8567723720802239,6.235420381949708,0.1703646782504142,-0.7784289047801454,-0.7577985341449508,-0.8537192508170353,-0.5360975032838765,0.7005671951372138,1.7215808120547589,0.6082827040862627,0.3393876865443759,2.843233462586338,-1.4795473411663211,3.3854145887193936,-2.0309627771596457,-1.6413113806975201,-0.32412075500183274,-0.9787844083529247,-0.8874218153860728,0.027601442907019685,-0.590465520636718,-0.43262037313352725,-2.2390002444355344,-0.9014311034486218,-2.2554851755187006,1.7783910519231219,-0.8211771760043165,-1.2537607296148583,-0.08025742853612253,-1.9977451027923105,-0.8056667699796909,0.7523234159924432,1.2873397322998381,2.1766792331066225,0.8445528361346806,0.3199895798348521,-2.216274508223501,-1.6094065128494774,0.5219358190107461,-0.7093473409166854,-0.6869983594048371,-0.7531043330717222,-0.3538908337520932,1.910873782958487,-0.6889370398833927,0.434217115281124,-1.3564344614837325,-0.41276964542307454,-0.7378960905586605,-0.5074321258387943,0.11979310388921495,-0.021089189432222016,-2.2856128947075574,-0.5650341111647986,-0.27522566961700445,-0.350024028790976,-0.9605579863457377,-1.201927469198761,-0.6731259817743489,-0.7117734456751053,0.34591623054239934,-0.1790506627930838,-0.4734148841468468,-0.48887757768904183,-0.2184746127704537,-1.7791181846486117,-2.8140647137601142,-2.195730463363645,2.846384274028902,-1.1714595135595973,0.604449233456876,-2.027915882844199,-1.7417005120710585,1.659487301955303,0.1789712413459944,-0.42223009108286486,-0.4431242922421934,0.06965946685605373,1.3271536214380582,1.3010845890518343,1.5022595725754868,-0.6326804224604747,0.37329730999533256,0.3845576006383456,-0.14804946146749015,0.47820463952602044,-0.3264147232807834,-0.05386023512008845,0.9232190316036457,1.4141876290071178,1.5440353730925052,0.5049277663702544,0.7805677214862637,2.7664723952471557,0.5648381819850085,1.8389481883641774,1.8600028860048072,3.2388168948730307,0.3889782331845203,1.4293718106498037,1.0321084365325286,3.414214263609813,-3.2627257086432775,0.8971291922262252,2.459475612540546,2.0884532623233256,0.5627585749500174,-1.8769390533770942,1.4904888918809058],\"type\":\"scatter3d\"}],                        {\"template\":{\"data\":{\"barpolar\":[{\"marker\":{\"line\":{\"color\":\"white\",\"width\":0.5},\"pattern\":{\"fillmode\":\"overlay\",\"size\":10,\"solidity\":0.2}},\"type\":\"barpolar\"}],\"bar\":[{\"error_x\":{\"color\":\"#2a3f5f\"},\"error_y\":{\"color\":\"#2a3f5f\"},\"marker\":{\"line\":{\"color\":\"white\",\"width\":0.5},\"pattern\":{\"fillmode\":\"overlay\",\"size\":10,\"solidity\":0.2}},\"type\":\"bar\"}],\"carpet\":[{\"aaxis\":{\"endlinecolor\":\"#2a3f5f\",\"gridcolor\":\"#C8D4E3\",\"linecolor\":\"#C8D4E3\",\"minorgridcolor\":\"#C8D4E3\",\"startlinecolor\":\"#2a3f5f\"},\"baxis\":{\"endlinecolor\":\"#2a3f5f\",\"gridcolor\":\"#C8D4E3\",\"linecolor\":\"#C8D4E3\",\"minorgridcolor\":\"#C8D4E3\",\"startlinecolor\":\"#2a3f5f\"},\"type\":\"carpet\"}],\"choropleth\":[{\"colorbar\":{\"outlinewidth\":0,\"ticks\":\"\"},\"type\":\"choropleth\"}],\"contourcarpet\":[{\"colorbar\":{\"outlinewidth\":0,\"ticks\":\"\"},\"type\":\"contourcarpet\"}],\"contour\":[{\"colorbar\":{\"outlinewidth\":0,\"ticks\":\"\"},\"colorscale\":[[0.0,\"#0d0887\"],[0.1111111111111111,\"#46039f\"],[0.2222222222222222,\"#7201a8\"],[0.3333333333333333,\"#9c179e\"],[0.4444444444444444,\"#bd3786\"],[0.5555555555555556,\"#d8576b\"],[0.6666666666666666,\"#ed7953\"],[0.7777777777777778,\"#fb9f3a\"],[0.8888888888888888,\"#fdca26\"],[1.0,\"#f0f921\"]],\"type\":\"contour\"}],\"heatmapgl\":[{\"colorbar\":{\"outlinewidth\":0,\"ticks\":\"\"},\"colorscale\":[[0.0,\"#0d0887\"],[0.1111111111111111,\"#46039f\"],[0.2222222222222222,\"#7201a8\"],[0.3333333333333333,\"#9c179e\"],[0.4444444444444444,\"#bd3786\"],[0.5555555555555556,\"#d8576b\"],[0.6666666666666666,\"#ed7953\"],[0.7777777777777778,\"#fb9f3a\"],[0.8888888888888888,\"#fdca26\"],[1.0,\"#f0f921\"]],\"type\":\"heatmapgl\"}],\"heatmap\":[{\"colorbar\":{\"outlinewidth\":0,\"ticks\":\"\"},\"colorscale\":[[0.0,\"#0d0887\"],[0.1111111111111111,\"#46039f\"],[0.2222222222222222,\"#7201a8\"],[0.3333333333333333,\"#9c179e\"],[0.4444444444444444,\"#bd3786\"],[0.5555555555555556,\"#d8576b\"],[0.6666666666666666,\"#ed7953\"],[0.7777777777777778,\"#fb9f3a\"],[0.8888888888888888,\"#fdca26\"],[1.0,\"#f0f921\"]],\"type\":\"heatmap\"}],\"histogram2dcontour\":[{\"colorbar\":{\"outlinewidth\":0,\"ticks\":\"\"},\"colorscale\":[[0.0,\"#0d0887\"],[0.1111111111111111,\"#46039f\"],[0.2222222222222222,\"#7201a8\"],[0.3333333333333333,\"#9c179e\"],[0.4444444444444444,\"#bd3786\"],[0.5555555555555556,\"#d8576b\"],[0.6666666666666666,\"#ed7953\"],[0.7777777777777778,\"#fb9f3a\"],[0.8888888888888888,\"#fdca26\"],[1.0,\"#f0f921\"]],\"type\":\"histogram2dcontour\"}],\"histogram2d\":[{\"colorbar\":{\"outlinewidth\":0,\"ticks\":\"\"},\"colorscale\":[[0.0,\"#0d0887\"],[0.1111111111111111,\"#46039f\"],[0.2222222222222222,\"#7201a8\"],[0.3333333333333333,\"#9c179e\"],[0.4444444444444444,\"#bd3786\"],[0.5555555555555556,\"#d8576b\"],[0.6666666666666666,\"#ed7953\"],[0.7777777777777778,\"#fb9f3a\"],[0.8888888888888888,\"#fdca26\"],[1.0,\"#f0f921\"]],\"type\":\"histogram2d\"}],\"histogram\":[{\"marker\":{\"pattern\":{\"fillmode\":\"overlay\",\"size\":10,\"solidity\":0.2}},\"type\":\"histogram\"}],\"mesh3d\":[{\"colorbar\":{\"outlinewidth\":0,\"ticks\":\"\"},\"type\":\"mesh3d\"}],\"parcoords\":[{\"line\":{\"colorbar\":{\"outlinewidth\":0,\"ticks\":\"\"}},\"type\":\"parcoords\"}],\"pie\":[{\"automargin\":true,\"type\":\"pie\"}],\"scatter3d\":[{\"line\":{\"colorbar\":{\"outlinewidth\":0,\"ticks\":\"\"}},\"marker\":{\"colorbar\":{\"outlinewidth\":0,\"ticks\":\"\"}},\"type\":\"scatter3d\"}],\"scattercarpet\":[{\"marker\":{\"colorbar\":{\"outlinewidth\":0,\"ticks\":\"\"}},\"type\":\"scattercarpet\"}],\"scattergeo\":[{\"marker\":{\"colorbar\":{\"outlinewidth\":0,\"ticks\":\"\"}},\"type\":\"scattergeo\"}],\"scattergl\":[{\"marker\":{\"colorbar\":{\"outlinewidth\":0,\"ticks\":\"\"}},\"type\":\"scattergl\"}],\"scattermapbox\":[{\"marker\":{\"colorbar\":{\"outlinewidth\":0,\"ticks\":\"\"}},\"type\":\"scattermapbox\"}],\"scatterpolargl\":[{\"marker\":{\"colorbar\":{\"outlinewidth\":0,\"ticks\":\"\"}},\"type\":\"scatterpolargl\"}],\"scatterpolar\":[{\"marker\":{\"colorbar\":{\"outlinewidth\":0,\"ticks\":\"\"}},\"type\":\"scatterpolar\"}],\"scatter\":[{\"fillpattern\":{\"fillmode\":\"overlay\",\"size\":10,\"solidity\":0.2},\"type\":\"scatter\"}],\"scatterternary\":[{\"marker\":{\"colorbar\":{\"outlinewidth\":0,\"ticks\":\"\"}},\"type\":\"scatterternary\"}],\"surface\":[{\"colorbar\":{\"outlinewidth\":0,\"ticks\":\"\"},\"colorscale\":[[0.0,\"#0d0887\"],[0.1111111111111111,\"#46039f\"],[0.2222222222222222,\"#7201a8\"],[0.3333333333333333,\"#9c179e\"],[0.4444444444444444,\"#bd3786\"],[0.5555555555555556,\"#d8576b\"],[0.6666666666666666,\"#ed7953\"],[0.7777777777777778,\"#fb9f3a\"],[0.8888888888888888,\"#fdca26\"],[1.0,\"#f0f921\"]],\"type\":\"surface\"}],\"table\":[{\"cells\":{\"fill\":{\"color\":\"#EBF0F8\"},\"line\":{\"color\":\"white\"}},\"header\":{\"fill\":{\"color\":\"#C8D4E3\"},\"line\":{\"color\":\"white\"}},\"type\":\"table\"}]},\"layout\":{\"annotationdefaults\":{\"arrowcolor\":\"#2a3f5f\",\"arrowhead\":0,\"arrowwidth\":1},\"autotypenumbers\":\"strict\",\"coloraxis\":{\"colorbar\":{\"outlinewidth\":0,\"ticks\":\"\"}},\"colorscale\":{\"diverging\":[[0,\"#8e0152\"],[0.1,\"#c51b7d\"],[0.2,\"#de77ae\"],[0.3,\"#f1b6da\"],[0.4,\"#fde0ef\"],[0.5,\"#f7f7f7\"],[0.6,\"#e6f5d0\"],[0.7,\"#b8e186\"],[0.8,\"#7fbc41\"],[0.9,\"#4d9221\"],[1,\"#276419\"]],\"sequential\":[[0.0,\"#0d0887\"],[0.1111111111111111,\"#46039f\"],[0.2222222222222222,\"#7201a8\"],[0.3333333333333333,\"#9c179e\"],[0.4444444444444444,\"#bd3786\"],[0.5555555555555556,\"#d8576b\"],[0.6666666666666666,\"#ed7953\"],[0.7777777777777778,\"#fb9f3a\"],[0.8888888888888888,\"#fdca26\"],[1.0,\"#f0f921\"]],\"sequentialminus\":[[0.0,\"#0d0887\"],[0.1111111111111111,\"#46039f\"],[0.2222222222222222,\"#7201a8\"],[0.3333333333333333,\"#9c179e\"],[0.4444444444444444,\"#bd3786\"],[0.5555555555555556,\"#d8576b\"],[0.6666666666666666,\"#ed7953\"],[0.7777777777777778,\"#fb9f3a\"],[0.8888888888888888,\"#fdca26\"],[1.0,\"#f0f921\"]]},\"colorway\":[\"#636efa\",\"#EF553B\",\"#00cc96\",\"#ab63fa\",\"#FFA15A\",\"#19d3f3\",\"#FF6692\",\"#B6E880\",\"#FF97FF\",\"#FECB52\"],\"font\":{\"color\":\"#2a3f5f\"},\"geo\":{\"bgcolor\":\"white\",\"lakecolor\":\"white\",\"landcolor\":\"white\",\"showlakes\":true,\"showland\":true,\"subunitcolor\":\"#C8D4E3\"},\"hoverlabel\":{\"align\":\"left\"},\"hovermode\":\"closest\",\"mapbox\":{\"style\":\"light\"},\"paper_bgcolor\":\"white\",\"plot_bgcolor\":\"white\",\"polar\":{\"angularaxis\":{\"gridcolor\":\"#EBF0F8\",\"linecolor\":\"#EBF0F8\",\"ticks\":\"\"},\"bgcolor\":\"white\",\"radialaxis\":{\"gridcolor\":\"#EBF0F8\",\"linecolor\":\"#EBF0F8\",\"ticks\":\"\"}},\"scene\":{\"xaxis\":{\"backgroundcolor\":\"white\",\"gridcolor\":\"#DFE8F3\",\"gridwidth\":2,\"linecolor\":\"#EBF0F8\",\"showbackground\":true,\"ticks\":\"\",\"zerolinecolor\":\"#EBF0F8\"},\"yaxis\":{\"backgroundcolor\":\"white\",\"gridcolor\":\"#DFE8F3\",\"gridwidth\":2,\"linecolor\":\"#EBF0F8\",\"showbackground\":true,\"ticks\":\"\",\"zerolinecolor\":\"#EBF0F8\"},\"zaxis\":{\"backgroundcolor\":\"white\",\"gridcolor\":\"#DFE8F3\",\"gridwidth\":2,\"linecolor\":\"#EBF0F8\",\"showbackground\":true,\"ticks\":\"\",\"zerolinecolor\":\"#EBF0F8\"}},\"shapedefaults\":{\"line\":{\"color\":\"#2a3f5f\"}},\"ternary\":{\"aaxis\":{\"gridcolor\":\"#DFE8F3\",\"linecolor\":\"#A2B1C6\",\"ticks\":\"\"},\"baxis\":{\"gridcolor\":\"#DFE8F3\",\"linecolor\":\"#A2B1C6\",\"ticks\":\"\"},\"bgcolor\":\"white\",\"caxis\":{\"gridcolor\":\"#DFE8F3\",\"linecolor\":\"#A2B1C6\",\"ticks\":\"\"}},\"title\":{\"x\":0.05},\"xaxis\":{\"automargin\":true,\"gridcolor\":\"#EBF0F8\",\"linecolor\":\"#EBF0F8\",\"ticks\":\"\",\"title\":{\"standoff\":15},\"zerolinecolor\":\"#EBF0F8\",\"zerolinewidth\":2},\"yaxis\":{\"automargin\":true,\"gridcolor\":\"#EBF0F8\",\"linecolor\":\"#EBF0F8\",\"ticks\":\"\",\"title\":{\"standoff\":15},\"zerolinecolor\":\"#EBF0F8\",\"zerolinewidth\":2}}},\"scene\":{\"domain\":{\"x\":[0.0,1.0],\"y\":[0.0,1.0]},\"xaxis\":{\"title\":{\"text\":\"PC1\"}},\"yaxis\":{\"title\":{\"text\":\"PC2\"}},\"zaxis\":{\"title\":{\"text\":\"PC3\"}}},\"coloraxis\":{\"colorbar\":{\"title\":{\"text\":\"diagnosis\"}},\"colorscale\":[[0.0,\"#0d0887\"],[0.1111111111111111,\"#46039f\"],[0.2222222222222222,\"#7201a8\"],[0.3333333333333333,\"#9c179e\"],[0.4444444444444444,\"#bd3786\"],[0.5555555555555556,\"#d8576b\"],[0.6666666666666666,\"#ed7953\"],[0.7777777777777778,\"#fb9f3a\"],[0.8888888888888888,\"#fdca26\"],[1.0,\"#f0f921\"]]},\"legend\":{\"tracegroupgap\":0},\"title\":{\"text\":\"PCA - 3 Components\"}},                        {\"responsive\": true}                    ).then(function(){\n",
              "                            \n",
              "var gd = document.getElementById('2845c12f-d1d3-4cf8-86f5-26e888fd172b');\n",
              "var x = new MutationObserver(function (mutations, observer) {{\n",
              "        var display = window.getComputedStyle(gd).display;\n",
              "        if (!display || display === 'none') {{\n",
              "            console.log([gd, 'removed!']);\n",
              "            Plotly.purge(gd);\n",
              "            observer.disconnect();\n",
              "        }}\n",
              "}});\n",
              "\n",
              "// Listen for the removal of the full notebook cells\n",
              "var notebookContainer = gd.closest('#notebook-container');\n",
              "if (notebookContainer) {{\n",
              "    x.observe(notebookContainer, {childList: true});\n",
              "}}\n",
              "\n",
              "// Listen for the clearing of the current output cell\n",
              "var outputEl = gd.closest('.output');\n",
              "if (outputEl) {{\n",
              "    x.observe(outputEl, {childList: true});\n",
              "}}\n",
              "\n",
              "                        })                };                            </script>        </div>\n",
              "</body>\n",
              "</html>"
            ]
          },
          "metadata": {}
        }
      ]
    },
    {
      "cell_type": "code",
      "source": [
        "explained_variance_3d = pca_3d.explained_variance_ratio_\n",
        "print(\"Explained Variance Ratio (3D):\", explained_variance_3d)"
      ],
      "metadata": {
        "colab": {
          "base_uri": "https://localhost:8080/"
        },
        "id": "HEfCl01Le7nu",
        "outputId": "5eb68924-20bc-44cc-d24d-f5858801c475"
      },
      "execution_count": null,
      "outputs": [
        {
          "output_type": "stream",
          "name": "stdout",
          "text": [
            "Explained Variance Ratio (3D): [0.44272026 0.18971182 0.09393163]\n"
          ]
        }
      ]
    },
    {
      "cell_type": "code",
      "source": [
        "components = pd.DataFrame(abs(pca_3d.components_), columns=breast_cancer.feature_names)\n",
        "components"
      ],
      "metadata": {
        "colab": {
          "base_uri": "https://localhost:8080/",
          "height": 271
        },
        "id": "eXv4vsbYfOfT",
        "outputId": "c76c5680-941f-469c-ce7a-72d3b028db59"
      },
      "execution_count": null,
      "outputs": [
        {
          "output_type": "execute_result",
          "data": {
            "text/plain": [
              "   mean radius  mean texture  mean perimeter  mean area  mean smoothness  \\\n",
              "0     0.218902      0.103725        0.227537   0.220995         0.142590   \n",
              "1     0.233857      0.059706        0.215181   0.231077         0.186113   \n",
              "2     0.008531      0.064551        0.009314   0.028700         0.104292   \n",
              "\n",
              "   mean compactness  mean concavity  mean concave points  mean symmetry  \\\n",
              "0          0.239285        0.258400             0.260854       0.138167   \n",
              "1          0.151892        0.060165             0.034768       0.190349   \n",
              "2          0.074089        0.002735             0.025563       0.040240   \n",
              "\n",
              "   mean fractal dimension  ...  worst radius  worst texture  worst perimeter  \\\n",
              "0                0.064363  ...      0.227997       0.104469         0.236640   \n",
              "1                0.366575  ...      0.219866       0.045467         0.199878   \n",
              "2                0.022574  ...      0.047508       0.042298         0.048547   \n",
              "\n",
              "   worst area  worst smoothness  worst compactness  worst concavity  \\\n",
              "0    0.224871          0.127953           0.210096         0.228768   \n",
              "1    0.219352          0.172304           0.143593         0.097964   \n",
              "2    0.011903          0.259799           0.236074         0.173057   \n",
              "\n",
              "   worst concave points  worst symmetry  worst fractal dimension  \n",
              "0              0.250886        0.122905                 0.131784  \n",
              "1              0.008257        0.141883                 0.275339  \n",
              "2              0.170345        0.271314                 0.232792  \n",
              "\n",
              "[3 rows x 30 columns]"
            ],
            "text/html": [
              "\n",
              "  <div id=\"df-24823f04-17dd-4256-b28a-aba70dc76dcd\">\n",
              "    <div class=\"colab-df-container\">\n",
              "      <div>\n",
              "<style scoped>\n",
              "    .dataframe tbody tr th:only-of-type {\n",
              "        vertical-align: middle;\n",
              "    }\n",
              "\n",
              "    .dataframe tbody tr th {\n",
              "        vertical-align: top;\n",
              "    }\n",
              "\n",
              "    .dataframe thead th {\n",
              "        text-align: right;\n",
              "    }\n",
              "</style>\n",
              "<table border=\"1\" class=\"dataframe\">\n",
              "  <thead>\n",
              "    <tr style=\"text-align: right;\">\n",
              "      <th></th>\n",
              "      <th>mean radius</th>\n",
              "      <th>mean texture</th>\n",
              "      <th>mean perimeter</th>\n",
              "      <th>mean area</th>\n",
              "      <th>mean smoothness</th>\n",
              "      <th>mean compactness</th>\n",
              "      <th>mean concavity</th>\n",
              "      <th>mean concave points</th>\n",
              "      <th>mean symmetry</th>\n",
              "      <th>mean fractal dimension</th>\n",
              "      <th>...</th>\n",
              "      <th>worst radius</th>\n",
              "      <th>worst texture</th>\n",
              "      <th>worst perimeter</th>\n",
              "      <th>worst area</th>\n",
              "      <th>worst smoothness</th>\n",
              "      <th>worst compactness</th>\n",
              "      <th>worst concavity</th>\n",
              "      <th>worst concave points</th>\n",
              "      <th>worst symmetry</th>\n",
              "      <th>worst fractal dimension</th>\n",
              "    </tr>\n",
              "  </thead>\n",
              "  <tbody>\n",
              "    <tr>\n",
              "      <th>0</th>\n",
              "      <td>0.218902</td>\n",
              "      <td>0.103725</td>\n",
              "      <td>0.227537</td>\n",
              "      <td>0.220995</td>\n",
              "      <td>0.142590</td>\n",
              "      <td>0.239285</td>\n",
              "      <td>0.258400</td>\n",
              "      <td>0.260854</td>\n",
              "      <td>0.138167</td>\n",
              "      <td>0.064363</td>\n",
              "      <td>...</td>\n",
              "      <td>0.227997</td>\n",
              "      <td>0.104469</td>\n",
              "      <td>0.236640</td>\n",
              "      <td>0.224871</td>\n",
              "      <td>0.127953</td>\n",
              "      <td>0.210096</td>\n",
              "      <td>0.228768</td>\n",
              "      <td>0.250886</td>\n",
              "      <td>0.122905</td>\n",
              "      <td>0.131784</td>\n",
              "    </tr>\n",
              "    <tr>\n",
              "      <th>1</th>\n",
              "      <td>0.233857</td>\n",
              "      <td>0.059706</td>\n",
              "      <td>0.215181</td>\n",
              "      <td>0.231077</td>\n",
              "      <td>0.186113</td>\n",
              "      <td>0.151892</td>\n",
              "      <td>0.060165</td>\n",
              "      <td>0.034768</td>\n",
              "      <td>0.190349</td>\n",
              "      <td>0.366575</td>\n",
              "      <td>...</td>\n",
              "      <td>0.219866</td>\n",
              "      <td>0.045467</td>\n",
              "      <td>0.199878</td>\n",
              "      <td>0.219352</td>\n",
              "      <td>0.172304</td>\n",
              "      <td>0.143593</td>\n",
              "      <td>0.097964</td>\n",
              "      <td>0.008257</td>\n",
              "      <td>0.141883</td>\n",
              "      <td>0.275339</td>\n",
              "    </tr>\n",
              "    <tr>\n",
              "      <th>2</th>\n",
              "      <td>0.008531</td>\n",
              "      <td>0.064551</td>\n",
              "      <td>0.009314</td>\n",
              "      <td>0.028700</td>\n",
              "      <td>0.104292</td>\n",
              "      <td>0.074089</td>\n",
              "      <td>0.002735</td>\n",
              "      <td>0.025563</td>\n",
              "      <td>0.040240</td>\n",
              "      <td>0.022574</td>\n",
              "      <td>...</td>\n",
              "      <td>0.047508</td>\n",
              "      <td>0.042298</td>\n",
              "      <td>0.048547</td>\n",
              "      <td>0.011903</td>\n",
              "      <td>0.259799</td>\n",
              "      <td>0.236074</td>\n",
              "      <td>0.173057</td>\n",
              "      <td>0.170345</td>\n",
              "      <td>0.271314</td>\n",
              "      <td>0.232792</td>\n",
              "    </tr>\n",
              "  </tbody>\n",
              "</table>\n",
              "<p>3 rows × 30 columns</p>\n",
              "</div>\n",
              "      <button class=\"colab-df-convert\" onclick=\"convertToInteractive('df-24823f04-17dd-4256-b28a-aba70dc76dcd')\"\n",
              "              title=\"Convert this dataframe to an interactive table.\"\n",
              "              style=\"display:none;\">\n",
              "        \n",
              "  <svg xmlns=\"http://www.w3.org/2000/svg\" height=\"24px\"viewBox=\"0 0 24 24\"\n",
              "       width=\"24px\">\n",
              "    <path d=\"M0 0h24v24H0V0z\" fill=\"none\"/>\n",
              "    <path d=\"M18.56 5.44l.94 2.06.94-2.06 2.06-.94-2.06-.94-.94-2.06-.94 2.06-2.06.94zm-11 1L8.5 8.5l.94-2.06 2.06-.94-2.06-.94L8.5 2.5l-.94 2.06-2.06.94zm10 10l.94 2.06.94-2.06 2.06-.94-2.06-.94-.94-2.06-.94 2.06-2.06.94z\"/><path d=\"M17.41 7.96l-1.37-1.37c-.4-.4-.92-.59-1.43-.59-.52 0-1.04.2-1.43.59L10.3 9.45l-7.72 7.72c-.78.78-.78 2.05 0 2.83L4 21.41c.39.39.9.59 1.41.59.51 0 1.02-.2 1.41-.59l7.78-7.78 2.81-2.81c.8-.78.8-2.07 0-2.86zM5.41 20L4 18.59l7.72-7.72 1.47 1.35L5.41 20z\"/>\n",
              "  </svg>\n",
              "      </button>\n",
              "      \n",
              "  <style>\n",
              "    .colab-df-container {\n",
              "      display:flex;\n",
              "      flex-wrap:wrap;\n",
              "      gap: 12px;\n",
              "    }\n",
              "\n",
              "    .colab-df-convert {\n",
              "      background-color: #E8F0FE;\n",
              "      border: none;\n",
              "      border-radius: 50%;\n",
              "      cursor: pointer;\n",
              "      display: none;\n",
              "      fill: #1967D2;\n",
              "      height: 32px;\n",
              "      padding: 0 0 0 0;\n",
              "      width: 32px;\n",
              "    }\n",
              "\n",
              "    .colab-df-convert:hover {\n",
              "      background-color: #E2EBFA;\n",
              "      box-shadow: 0px 1px 2px rgba(60, 64, 67, 0.3), 0px 1px 3px 1px rgba(60, 64, 67, 0.15);\n",
              "      fill: #174EA6;\n",
              "    }\n",
              "\n",
              "    [theme=dark] .colab-df-convert {\n",
              "      background-color: #3B4455;\n",
              "      fill: #D2E3FC;\n",
              "    }\n",
              "\n",
              "    [theme=dark] .colab-df-convert:hover {\n",
              "      background-color: #434B5C;\n",
              "      box-shadow: 0px 1px 3px 1px rgba(0, 0, 0, 0.15);\n",
              "      filter: drop-shadow(0px 1px 2px rgba(0, 0, 0, 0.3));\n",
              "      fill: #FFFFFF;\n",
              "    }\n",
              "  </style>\n",
              "\n",
              "      <script>\n",
              "        const buttonEl =\n",
              "          document.querySelector('#df-24823f04-17dd-4256-b28a-aba70dc76dcd button.colab-df-convert');\n",
              "        buttonEl.style.display =\n",
              "          google.colab.kernel.accessAllowed ? 'block' : 'none';\n",
              "\n",
              "        async function convertToInteractive(key) {\n",
              "          const element = document.querySelector('#df-24823f04-17dd-4256-b28a-aba70dc76dcd');\n",
              "          const dataTable =\n",
              "            await google.colab.kernel.invokeFunction('convertToInteractive',\n",
              "                                                     [key], {});\n",
              "          if (!dataTable) return;\n",
              "\n",
              "          const docLinkHtml = 'Like what you see? Visit the ' +\n",
              "            '<a target=\"_blank\" href=https://colab.research.google.com/notebooks/data_table.ipynb>data table notebook</a>'\n",
              "            + ' to learn more about interactive tables.';\n",
              "          element.innerHTML = '';\n",
              "          dataTable['output_type'] = 'display_data';\n",
              "          await google.colab.output.renderOutput(dataTable, element);\n",
              "          const docLink = document.createElement('div');\n",
              "          docLink.innerHTML = docLinkHtml;\n",
              "          element.appendChild(docLink);\n",
              "        }\n",
              "      </script>\n",
              "    </div>\n",
              "  </div>\n",
              "  "
            ]
          },
          "metadata": {},
          "execution_count": 37
        }
      ]
    }
  ]
}